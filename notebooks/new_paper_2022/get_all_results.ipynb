{
 "cells": [
  {
   "cell_type": "code",
   "execution_count": null,
   "metadata": {
    "collapsed": true,
    "pycharm": {
     "name": "#%%\n"
    }
   },
   "outputs": [],
   "source": []
  },
  {
   "cell_type": "code",
   "execution_count": 1,
   "outputs": [
    {
     "name": "stderr",
     "output_type": "stream",
     "text": [
      "ERROR:root:Internal Python error in the inspect module.\n",
      "Below is the traceback from this internal error.\n",
      "\n"
     ]
    },
    {
     "name": "stdout",
     "output_type": "stream",
     "text": [
      "Traceback (most recent call last):\n",
      "  File \"/home/joao/anaconda3/envs/DeepSweet/lib/python3.7/site-packages/IPython/core/interactiveshell.py\", line 3457, in run_code\n",
      "    exec(code_obj, self.user_global_ns, self.user_ns)\n",
      "  File \"/tmp/ipykernel_19410/756425168.py\", line 1, in <module>\n",
      "    from generate_features_ml import FeaturesGenerator\n",
      "  File \"/home/joao/Desktop/DeepSweet/src/generate_features_ml.py\", line 3, in <module>\n",
      "    from compoundFeaturization.rdkitDescriptors import TwoDimensionDescriptors\n",
      "  File \"/home/joao/Desktop/DeepSweet/DeepMol/src/compoundFeaturization/rdkitDescriptors.py\", line 6, in <module>\n",
      "    from rdkit.Chem import Mol, rdMolDescriptors, AllChem, MolFromSmiles, Descriptors\n",
      "  File \"/home/joao/anaconda3/envs/DeepSweet/lib/python3.7/site-packages/rdkit/Chem/AllChem.py\", line 42, in <module>\n",
      "    from rdkit.Chem.rdSLNParse import *\n",
      "KeyboardInterrupt\n",
      "\n",
      "During handling of the above exception, another exception occurred:\n",
      "\n",
      "Traceback (most recent call last):\n",
      "  File \"/home/joao/anaconda3/envs/DeepSweet/lib/python3.7/site-packages/IPython/core/interactiveshell.py\", line 2077, in showtraceback\n",
      "    stb = value._render_traceback_()\n",
      "AttributeError: 'KeyboardInterrupt' object has no attribute '_render_traceback_'\n",
      "\n",
      "During handling of the above exception, another exception occurred:\n",
      "\n",
      "Traceback (most recent call last):\n",
      "  File \"/home/joao/anaconda3/envs/DeepSweet/lib/python3.7/site-packages/IPython/core/ultratb.py\", line 1101, in get_records\n",
      "    return _fixed_getinnerframes(etb, number_of_lines_of_context, tb_offset)\n",
      "  File \"/home/joao/anaconda3/envs/DeepSweet/lib/python3.7/site-packages/IPython/core/ultratb.py\", line 248, in wrapped\n",
      "    return f(*args, **kwargs)\n",
      "  File \"/home/joao/anaconda3/envs/DeepSweet/lib/python3.7/site-packages/IPython/core/ultratb.py\", line 281, in _fixed_getinnerframes\n",
      "    records = fix_frame_records_filenames(inspect.getinnerframes(etb, context))\n",
      "  File \"/home/joao/anaconda3/envs/DeepSweet/lib/python3.7/inspect.py\", line 1502, in getinnerframes\n",
      "    frameinfo = (tb.tb_frame,) + getframeinfo(tb, context)\n",
      "  File \"/home/joao/anaconda3/envs/DeepSweet/lib/python3.7/inspect.py\", line 1460, in getframeinfo\n",
      "    filename = getsourcefile(frame) or getfile(frame)\n",
      "  File \"/home/joao/anaconda3/envs/DeepSweet/lib/python3.7/inspect.py\", line 696, in getsourcefile\n",
      "    if getattr(getmodule(object, filename), '__loader__', None) is not None:\n",
      "  File \"/home/joao/anaconda3/envs/DeepSweet/lib/python3.7/inspect.py\", line 742, in getmodule\n",
      "    os.path.realpath(f)] = module.__name__\n",
      "  File \"/home/joao/anaconda3/envs/DeepSweet/lib/python3.7/posixpath.py\", line 395, in realpath\n",
      "    path, ok = _joinrealpath(filename[:0], filename, {})\n",
      "  File \"/home/joao/anaconda3/envs/DeepSweet/lib/python3.7/posixpath.py\", line 429, in _joinrealpath\n",
      "    if not islink(newpath):\n",
      "  File \"/home/joao/anaconda3/envs/DeepSweet/lib/python3.7/posixpath.py\", line 171, in islink\n",
      "    st = os.lstat(path)\n",
      "KeyboardInterrupt\n"
     ]
    },
    {
     "ename": "TypeError",
     "evalue": "object of type 'NoneType' has no len()",
     "output_type": "error",
     "traceback": [
      "\u001B[0;31m---------------------------------------------------------------------------\u001B[0m",
      "\u001B[0;31mKeyboardInterrupt\u001B[0m                         Traceback (most recent call last)",
      "    \u001B[0;31m[... skipping hidden 1 frame]\u001B[0m\n",
      "\u001B[0;32m/tmp/ipykernel_19410/756425168.py\u001B[0m in \u001B[0;36m<module>\u001B[0;34m\u001B[0m\n\u001B[0;32m----> 1\u001B[0;31m \u001B[0;32mfrom\u001B[0m \u001B[0mgenerate_features_ml\u001B[0m \u001B[0;32mimport\u001B[0m \u001B[0mFeaturesGenerator\u001B[0m\u001B[0;34m\u001B[0m\u001B[0;34m\u001B[0m\u001B[0m\n\u001B[0m\u001B[1;32m      2\u001B[0m \u001B[0;34m\u001B[0m\u001B[0m\n\u001B[1;32m      3\u001B[0m \u001B[0;34m\u001B[0m\u001B[0m\n",
      "\u001B[0;32m~/Desktop/DeepSweet/src/generate_features_ml.py\u001B[0m in \u001B[0;36m<module>\u001B[0;34m\u001B[0m\n\u001B[1;32m      2\u001B[0m \u001B[0;32mimport\u001B[0m \u001B[0mnumpy\u001B[0m \u001B[0;32mas\u001B[0m \u001B[0mnp\u001B[0m\u001B[0;34m\u001B[0m\u001B[0;34m\u001B[0m\u001B[0m\n\u001B[0;32m----> 3\u001B[0;31m \u001B[0;32mfrom\u001B[0m \u001B[0mcompoundFeaturization\u001B[0m\u001B[0;34m.\u001B[0m\u001B[0mrdkitDescriptors\u001B[0m \u001B[0;32mimport\u001B[0m \u001B[0mTwoDimensionDescriptors\u001B[0m\u001B[0;34m\u001B[0m\u001B[0;34m\u001B[0m\u001B[0m\n\u001B[0m\u001B[1;32m      4\u001B[0m \u001B[0;32mfrom\u001B[0m \u001B[0mcompoundFeaturization\u001B[0m\u001B[0;34m.\u001B[0m\u001B[0mrdkitFingerprints\u001B[0m \u001B[0;32mimport\u001B[0m \u001B[0mMorganFingerprint\u001B[0m\u001B[0;34m,\u001B[0m \u001B[0mRDKFingerprint\u001B[0m\u001B[0;34m,\u001B[0m \u001B[0mAtomPairFingerprint\u001B[0m\u001B[0;34m\u001B[0m\u001B[0;34m\u001B[0m\u001B[0m\n",
      "\u001B[0;32m~/Desktop/DeepSweet/DeepMol/src/compoundFeaturization/rdkitDescriptors.py\u001B[0m in \u001B[0;36m<module>\u001B[0;34m\u001B[0m\n\u001B[1;32m      5\u001B[0m \u001B[0;32mfrom\u001B[0m \u001B[0mrdkit\u001B[0m \u001B[0;32mimport\u001B[0m \u001B[0mChem\u001B[0m\u001B[0;34m\u001B[0m\u001B[0;34m\u001B[0m\u001B[0m\n\u001B[0;32m----> 6\u001B[0;31m \u001B[0;32mfrom\u001B[0m \u001B[0mrdkit\u001B[0m\u001B[0;34m.\u001B[0m\u001B[0mChem\u001B[0m \u001B[0;32mimport\u001B[0m \u001B[0mMol\u001B[0m\u001B[0;34m,\u001B[0m \u001B[0mrdMolDescriptors\u001B[0m\u001B[0;34m,\u001B[0m \u001B[0mAllChem\u001B[0m\u001B[0;34m,\u001B[0m \u001B[0mMolFromSmiles\u001B[0m\u001B[0;34m,\u001B[0m \u001B[0mDescriptors\u001B[0m\u001B[0;34m\u001B[0m\u001B[0;34m\u001B[0m\u001B[0m\n\u001B[0m\u001B[1;32m      7\u001B[0m \u001B[0;32mfrom\u001B[0m \u001B[0mrdkit\u001B[0m\u001B[0;34m.\u001B[0m\u001B[0mChem\u001B[0m\u001B[0;34m.\u001B[0m\u001B[0mrdForceFieldHelpers\u001B[0m \u001B[0;32mimport\u001B[0m \u001B[0mUFFOptimizeMoleculeConfs\u001B[0m\u001B[0;34m\u001B[0m\u001B[0;34m\u001B[0m\u001B[0m\n",
      "\u001B[0;32m~/anaconda3/envs/DeepSweet/lib/python3.7/site-packages/rdkit/Chem/AllChem.py\u001B[0m in \u001B[0;36m<module>\u001B[0;34m\u001B[0m\n\u001B[1;32m     41\u001B[0m \u001B[0;32mtry\u001B[0m\u001B[0;34m:\u001B[0m\u001B[0;34m\u001B[0m\u001B[0;34m\u001B[0m\u001B[0m\n\u001B[0;32m---> 42\u001B[0;31m   \u001B[0;32mfrom\u001B[0m \u001B[0mrdkit\u001B[0m\u001B[0;34m.\u001B[0m\u001B[0mChem\u001B[0m\u001B[0;34m.\u001B[0m\u001B[0mrdSLNParse\u001B[0m \u001B[0;32mimport\u001B[0m \u001B[0;34m*\u001B[0m\u001B[0;34m\u001B[0m\u001B[0;34m\u001B[0m\u001B[0m\n\u001B[0m\u001B[1;32m     43\u001B[0m \u001B[0;32mexcept\u001B[0m \u001B[0mImportError\u001B[0m\u001B[0;34m:\u001B[0m\u001B[0;34m\u001B[0m\u001B[0;34m\u001B[0m\u001B[0m\n",
      "\u001B[0;31mKeyboardInterrupt\u001B[0m: ",
      "\nDuring handling of the above exception, another exception occurred:\n",
      "\u001B[0;31mAttributeError\u001B[0m                            Traceback (most recent call last)",
      "\u001B[0;32m~/anaconda3/envs/DeepSweet/lib/python3.7/site-packages/IPython/core/interactiveshell.py\u001B[0m in \u001B[0;36mshowtraceback\u001B[0;34m(self, exc_tuple, filename, tb_offset, exception_only, running_compiled_code)\u001B[0m\n\u001B[1;32m   2076\u001B[0m                         \u001B[0;31m# in the engines. This should return a list of strings.\u001B[0m\u001B[0;34m\u001B[0m\u001B[0;34m\u001B[0m\u001B[0;34m\u001B[0m\u001B[0m\n\u001B[0;32m-> 2077\u001B[0;31m                         \u001B[0mstb\u001B[0m \u001B[0;34m=\u001B[0m \u001B[0mvalue\u001B[0m\u001B[0;34m.\u001B[0m\u001B[0m_render_traceback_\u001B[0m\u001B[0;34m(\u001B[0m\u001B[0;34m)\u001B[0m\u001B[0;34m\u001B[0m\u001B[0;34m\u001B[0m\u001B[0m\n\u001B[0m\u001B[1;32m   2078\u001B[0m                     \u001B[0;32mexcept\u001B[0m \u001B[0mException\u001B[0m\u001B[0;34m:\u001B[0m\u001B[0;34m\u001B[0m\u001B[0;34m\u001B[0m\u001B[0m\n",
      "\u001B[0;31mAttributeError\u001B[0m: 'KeyboardInterrupt' object has no attribute '_render_traceback_'",
      "\nDuring handling of the above exception, another exception occurred:\n",
      "\u001B[0;31mTypeError\u001B[0m                                 Traceback (most recent call last)",
      "    \u001B[0;31m[... skipping hidden 1 frame]\u001B[0m\n",
      "\u001B[0;32m~/anaconda3/envs/DeepSweet/lib/python3.7/site-packages/IPython/core/interactiveshell.py\u001B[0m in \u001B[0;36mshowtraceback\u001B[0;34m(self, exc_tuple, filename, tb_offset, exception_only, running_compiled_code)\u001B[0m\n\u001B[1;32m   2078\u001B[0m                     \u001B[0;32mexcept\u001B[0m \u001B[0mException\u001B[0m\u001B[0;34m:\u001B[0m\u001B[0;34m\u001B[0m\u001B[0;34m\u001B[0m\u001B[0m\n\u001B[1;32m   2079\u001B[0m                         stb = self.InteractiveTB.structured_traceback(etype,\n\u001B[0;32m-> 2080\u001B[0;31m                                             value, tb, tb_offset=tb_offset)\n\u001B[0m\u001B[1;32m   2081\u001B[0m \u001B[0;34m\u001B[0m\u001B[0m\n\u001B[1;32m   2082\u001B[0m                     \u001B[0mself\u001B[0m\u001B[0;34m.\u001B[0m\u001B[0m_showtraceback\u001B[0m\u001B[0;34m(\u001B[0m\u001B[0metype\u001B[0m\u001B[0;34m,\u001B[0m \u001B[0mvalue\u001B[0m\u001B[0;34m,\u001B[0m \u001B[0mstb\u001B[0m\u001B[0;34m)\u001B[0m\u001B[0;34m\u001B[0m\u001B[0;34m\u001B[0m\u001B[0m\n",
      "\u001B[0;32m~/anaconda3/envs/DeepSweet/lib/python3.7/site-packages/IPython/core/ultratb.py\u001B[0m in \u001B[0;36mstructured_traceback\u001B[0;34m(self, etype, value, tb, tb_offset, number_of_lines_of_context)\u001B[0m\n\u001B[1;32m   1366\u001B[0m             \u001B[0mself\u001B[0m\u001B[0;34m.\u001B[0m\u001B[0mtb\u001B[0m \u001B[0;34m=\u001B[0m \u001B[0mtb\u001B[0m\u001B[0;34m\u001B[0m\u001B[0;34m\u001B[0m\u001B[0m\n\u001B[1;32m   1367\u001B[0m         return FormattedTB.structured_traceback(\n\u001B[0;32m-> 1368\u001B[0;31m             self, etype, value, tb, tb_offset, number_of_lines_of_context)\n\u001B[0m\u001B[1;32m   1369\u001B[0m \u001B[0;34m\u001B[0m\u001B[0m\n\u001B[1;32m   1370\u001B[0m \u001B[0;34m\u001B[0m\u001B[0m\n",
      "\u001B[0;32m~/anaconda3/envs/DeepSweet/lib/python3.7/site-packages/IPython/core/ultratb.py\u001B[0m in \u001B[0;36mstructured_traceback\u001B[0;34m(self, etype, value, tb, tb_offset, number_of_lines_of_context)\u001B[0m\n\u001B[1;32m   1266\u001B[0m             \u001B[0;31m# Verbose modes need a full traceback\u001B[0m\u001B[0;34m\u001B[0m\u001B[0;34m\u001B[0m\u001B[0;34m\u001B[0m\u001B[0m\n\u001B[1;32m   1267\u001B[0m             return VerboseTB.structured_traceback(\n\u001B[0;32m-> 1268\u001B[0;31m                 \u001B[0mself\u001B[0m\u001B[0;34m,\u001B[0m \u001B[0metype\u001B[0m\u001B[0;34m,\u001B[0m \u001B[0mvalue\u001B[0m\u001B[0;34m,\u001B[0m \u001B[0mtb\u001B[0m\u001B[0;34m,\u001B[0m \u001B[0mtb_offset\u001B[0m\u001B[0;34m,\u001B[0m \u001B[0mnumber_of_lines_of_context\u001B[0m\u001B[0;34m\u001B[0m\u001B[0;34m\u001B[0m\u001B[0m\n\u001B[0m\u001B[1;32m   1269\u001B[0m             )\n\u001B[1;32m   1270\u001B[0m         \u001B[0;32melif\u001B[0m \u001B[0mmode\u001B[0m \u001B[0;34m==\u001B[0m \u001B[0;34m'Minimal'\u001B[0m\u001B[0;34m:\u001B[0m\u001B[0;34m\u001B[0m\u001B[0;34m\u001B[0m\u001B[0m\n",
      "\u001B[0;32m~/anaconda3/envs/DeepSweet/lib/python3.7/site-packages/IPython/core/ultratb.py\u001B[0m in \u001B[0;36mstructured_traceback\u001B[0;34m(self, etype, evalue, etb, tb_offset, number_of_lines_of_context)\u001B[0m\n\u001B[1;32m   1123\u001B[0m \u001B[0;34m\u001B[0m\u001B[0m\n\u001B[1;32m   1124\u001B[0m         formatted_exception = self.format_exception_as_a_whole(etype, evalue, etb, number_of_lines_of_context,\n\u001B[0;32m-> 1125\u001B[0;31m                                                                tb_offset)\n\u001B[0m\u001B[1;32m   1126\u001B[0m \u001B[0;34m\u001B[0m\u001B[0m\n\u001B[1;32m   1127\u001B[0m         \u001B[0mcolors\u001B[0m \u001B[0;34m=\u001B[0m \u001B[0mself\u001B[0m\u001B[0;34m.\u001B[0m\u001B[0mColors\u001B[0m  \u001B[0;31m# just a shorthand + quicker name lookup\u001B[0m\u001B[0;34m\u001B[0m\u001B[0;34m\u001B[0m\u001B[0m\n",
      "\u001B[0;32m~/anaconda3/envs/DeepSweet/lib/python3.7/site-packages/IPython/core/ultratb.py\u001B[0m in \u001B[0;36mformat_exception_as_a_whole\u001B[0;34m(self, etype, evalue, etb, number_of_lines_of_context, tb_offset)\u001B[0m\n\u001B[1;32m   1080\u001B[0m \u001B[0;34m\u001B[0m\u001B[0m\n\u001B[1;32m   1081\u001B[0m \u001B[0;34m\u001B[0m\u001B[0m\n\u001B[0;32m-> 1082\u001B[0;31m         \u001B[0mlast_unique\u001B[0m\u001B[0;34m,\u001B[0m \u001B[0mrecursion_repeat\u001B[0m \u001B[0;34m=\u001B[0m \u001B[0mfind_recursion\u001B[0m\u001B[0;34m(\u001B[0m\u001B[0morig_etype\u001B[0m\u001B[0;34m,\u001B[0m \u001B[0mevalue\u001B[0m\u001B[0;34m,\u001B[0m \u001B[0mrecords\u001B[0m\u001B[0;34m)\u001B[0m\u001B[0;34m\u001B[0m\u001B[0;34m\u001B[0m\u001B[0m\n\u001B[0m\u001B[1;32m   1083\u001B[0m \u001B[0;34m\u001B[0m\u001B[0m\n\u001B[1;32m   1084\u001B[0m         \u001B[0mframes\u001B[0m \u001B[0;34m=\u001B[0m \u001B[0mself\u001B[0m\u001B[0;34m.\u001B[0m\u001B[0mformat_records\u001B[0m\u001B[0;34m(\u001B[0m\u001B[0mrecords\u001B[0m\u001B[0;34m,\u001B[0m \u001B[0mlast_unique\u001B[0m\u001B[0;34m,\u001B[0m \u001B[0mrecursion_repeat\u001B[0m\u001B[0;34m)\u001B[0m\u001B[0;34m\u001B[0m\u001B[0;34m\u001B[0m\u001B[0m\n",
      "\u001B[0;32m~/anaconda3/envs/DeepSweet/lib/python3.7/site-packages/IPython/core/ultratb.py\u001B[0m in \u001B[0;36mfind_recursion\u001B[0;34m(etype, value, records)\u001B[0m\n\u001B[1;32m    380\u001B[0m     \u001B[0;31m# first frame (from in to out) that looks different.\u001B[0m\u001B[0;34m\u001B[0m\u001B[0;34m\u001B[0m\u001B[0;34m\u001B[0m\u001B[0m\n\u001B[1;32m    381\u001B[0m     \u001B[0;32mif\u001B[0m \u001B[0;32mnot\u001B[0m \u001B[0mis_recursion_error\u001B[0m\u001B[0;34m(\u001B[0m\u001B[0metype\u001B[0m\u001B[0;34m,\u001B[0m \u001B[0mvalue\u001B[0m\u001B[0;34m,\u001B[0m \u001B[0mrecords\u001B[0m\u001B[0;34m)\u001B[0m\u001B[0;34m:\u001B[0m\u001B[0;34m\u001B[0m\u001B[0;34m\u001B[0m\u001B[0m\n\u001B[0;32m--> 382\u001B[0;31m         \u001B[0;32mreturn\u001B[0m \u001B[0mlen\u001B[0m\u001B[0;34m(\u001B[0m\u001B[0mrecords\u001B[0m\u001B[0;34m)\u001B[0m\u001B[0;34m,\u001B[0m \u001B[0;36m0\u001B[0m\u001B[0;34m\u001B[0m\u001B[0;34m\u001B[0m\u001B[0m\n\u001B[0m\u001B[1;32m    383\u001B[0m \u001B[0;34m\u001B[0m\u001B[0m\n\u001B[1;32m    384\u001B[0m     \u001B[0;31m# Select filename, lineno, func_name to track frames with\u001B[0m\u001B[0;34m\u001B[0m\u001B[0;34m\u001B[0m\u001B[0;34m\u001B[0m\u001B[0m\n",
      "\u001B[0;31mTypeError\u001B[0m: object of type 'NoneType' has no len()"
     ]
    }
   ],
   "source": [
    "from generate_features_ml import FeaturesGenerator\n",
    "\n",
    "\n",
    "models_folder_path = \"/home/joao/Desktop/DeepSweet/resources/test_data/\"\n",
    "FeaturesGenerator(models_folder_path).featurize_test_set_all()"
   ],
   "metadata": {
    "collapsed": false,
    "pycharm": {
     "name": "#%%\n"
    }
   }
  },
  {
   "cell_type": "code",
   "execution_count": 1,
   "outputs": [
    {
     "name": "stdout",
     "output_type": "stream",
     "text": [
      "roc_auc_score: \n",
      " 0.8869081923854788\n",
      "precision_score: \n",
      " 0.9391163793103449\n",
      "balanced_accuracy_score: \n",
      " 0.8869081923854788\n",
      "recall_score: \n",
      " 0.8256750355281857\n",
      "f1_score: \n",
      " 0.8787496849004286\n"
     ]
    },
    {
     "name": "stderr",
     "output_type": "stream",
     "text": [
      "/home/joao/anaconda3/envs/DeepSweet/lib/python3.7/site-packages/pandas/core/indexing.py:719: FutureWarning: Slicing a positional slice with .loc is not supported, and will raise TypeError in a future version.  Use .loc with labels or .iloc with positions instead.\n",
      "  indexer = self._get_setitem_indexer(key)\n"
     ]
    },
    {
     "name": "stdout",
     "output_type": "stream",
     "text": [
      "roc_auc_score: \n",
      " 0.8774484664671973\n",
      "precision_score: \n",
      " 0.9219330855018587\n",
      "balanced_accuracy_score: \n",
      " 0.8774484664671972\n",
      "recall_score: \n",
      " 0.8223590715300805\n",
      "f1_score: \n",
      " 0.8693039559339008\n"
     ]
    },
    {
     "name": "stderr",
     "output_type": "stream",
     "text": [
      "/home/joao/anaconda3/envs/DeepSweet/lib/python3.7/site-packages/pandas/core/indexing.py:719: FutureWarning: Slicing a positional slice with .loc is not supported, and will raise TypeError in a future version.  Use .loc with labels or .iloc with positions instead.\n",
      "  indexer = self._get_setitem_indexer(key)\n"
     ]
    },
    {
     "name": "stdout",
     "output_type": "stream",
     "text": [
      "roc_auc_score: \n",
      " 0.8819937046033267\n",
      "precision_score: \n",
      " 0.9502237136465325\n",
      "balanced_accuracy_score: \n",
      " 0.8819937046033267\n",
      "recall_score: \n",
      " 0.8048318332543818\n",
      "f1_score: \n",
      " 0.871505514234419\n"
     ]
    },
    {
     "name": "stderr",
     "output_type": "stream",
     "text": [
      "/home/joao/anaconda3/envs/DeepSweet/lib/python3.7/site-packages/pandas/core/indexing.py:719: FutureWarning: Slicing a positional slice with .loc is not supported, and will raise TypeError in a future version.  Use .loc with labels or .iloc with positions instead.\n",
      "  indexer = self._get_setitem_indexer(key)\n"
     ]
    },
    {
     "name": "stdout",
     "output_type": "stream",
     "text": [
      "roc_auc_score: \n",
      " 0.8786256739050611\n",
      "precision_score: \n",
      " 0.9374657158529895\n",
      "balanced_accuracy_score: \n",
      " 0.8786256739050612\n",
      "recall_score: \n",
      " 0.8095689246802463\n",
      "f1_score: \n",
      " 0.8688357905439755\n"
     ]
    },
    {
     "name": "stderr",
     "output_type": "stream",
     "text": [
      "/home/joao/anaconda3/envs/DeepSweet/lib/python3.7/site-packages/pandas/core/indexing.py:719: FutureWarning: Slicing a positional slice with .loc is not supported, and will raise TypeError in a future version.  Use .loc with labels or .iloc with positions instead.\n",
      "  indexer = self._get_setitem_indexer(key)\n"
     ]
    },
    {
     "name": "stdout",
     "output_type": "stream",
     "text": [
      "roc_auc_score: \n",
      " 0.8629489231106364\n",
      "precision_score: \n",
      " 0.9381088825214899\n",
      "balanced_accuracy_score: \n",
      " 0.8629489231106364\n",
      "recall_score: \n",
      " 0.7754618664140218\n",
      "f1_score: \n",
      " 0.8490663900414939\n"
     ]
    },
    {
     "name": "stderr",
     "output_type": "stream",
     "text": [
      "/home/joao/anaconda3/envs/DeepSweet/lib/python3.7/site-packages/pandas/core/indexing.py:719: FutureWarning: Slicing a positional slice with .loc is not supported, and will raise TypeError in a future version.  Use .loc with labels or .iloc with positions instead.\n",
      "  indexer = self._get_setitem_indexer(key)\n"
     ]
    },
    {
     "name": "stdout",
     "output_type": "stream",
     "text": [
      "roc_auc_score: \n",
      " 0.8529643996383375\n",
      "precision_score: \n",
      " 0.9564417177914111\n",
      "balanced_accuracy_score: \n",
      " 0.8529643996383375\n",
      "recall_score: \n",
      " 0.7385125532922785\n",
      "f1_score: \n",
      " 0.8334669874365144\n"
     ]
    },
    {
     "name": "stderr",
     "output_type": "stream",
     "text": [
      "/home/joao/anaconda3/envs/DeepSweet/lib/python3.7/site-packages/pandas/core/indexing.py:719: FutureWarning: Slicing a positional slice with .loc is not supported, and will raise TypeError in a future version.  Use .loc with labels or .iloc with positions instead.\n",
      "  indexer = self._get_setitem_indexer(key)\n"
     ]
    },
    {
     "name": "stdout",
     "output_type": "stream",
     "text": [
      "roc_auc_score: \n",
      " 0.87883263632073\n",
      "precision_score: \n",
      " 0.9244278871740287\n",
      "balanced_accuracy_score: \n",
      " 0.8788326363207299\n",
      "recall_score: \n",
      " 0.822832780672667\n",
      "f1_score: \n",
      " 0.8706766917293233\n"
     ]
    },
    {
     "name": "stderr",
     "output_type": "stream",
     "text": [
      "/home/joao/anaconda3/envs/DeepSweet/lib/python3.7/site-packages/pandas/core/indexing.py:719: FutureWarning: Slicing a positional slice with .loc is not supported, and will raise TypeError in a future version.  Use .loc with labels or .iloc with positions instead.\n",
      "  indexer = self._get_setitem_indexer(key)\n"
     ]
    },
    {
     "name": "stdout",
     "output_type": "stream",
     "text": [
      "roc_auc_score: \n",
      " 0.8873523354686841\n",
      "precision_score: \n",
      " 0.9410810810810811\n",
      "balanced_accuracy_score: \n",
      " 0.8873523354686841\n",
      "recall_score: \n",
      " 0.8247276172430128\n",
      "f1_score: \n",
      " 0.8790709416813935\n"
     ]
    },
    {
     "name": "stderr",
     "output_type": "stream",
     "text": [
      "/home/joao/anaconda3/envs/DeepSweet/lib/python3.7/site-packages/pandas/core/indexing.py:719: FutureWarning: Slicing a positional slice with .loc is not supported, and will raise TypeError in a future version.  Use .loc with labels or .iloc with positions instead.\n",
      "  indexer = self._get_setitem_indexer(key)\n",
      "2022-07-25 11:04:01.556703: I tensorflow/stream_executor/cuda/cuda_gpu_executor.cc:937] successful NUMA node read from SysFS had negative value (-1), but there must be at least one NUMA node, so returning NUMA node zero\n",
      "2022-07-25 11:04:01.568292: I tensorflow/stream_executor/cuda/cuda_gpu_executor.cc:937] successful NUMA node read from SysFS had negative value (-1), but there must be at least one NUMA node, so returning NUMA node zero\n",
      "2022-07-25 11:04:01.569094: I tensorflow/stream_executor/cuda/cuda_gpu_executor.cc:937] successful NUMA node read from SysFS had negative value (-1), but there must be at least one NUMA node, so returning NUMA node zero\n",
      "2022-07-25 11:04:01.569815: I tensorflow/core/common_runtime/gpu/gpu_device.cc:1885] Ignoring visible gpu device (device: 0, name: GeForce 210, pci bus id: 0000:01:00.0, compute capability: 1.2) with Cuda compute capability 1.2. The minimum required Cuda capability is 3.5.\n",
      "2022-07-25 11:04:01.594172: I tensorflow/core/platform/cpu_feature_guard.cc:142] This TensorFlow binary is optimized with oneAPI Deep Neural Network Library (oneDNN) to use the following CPU instructions in performance-critical operations:  AVX2 FMA\n",
      "To enable them in other operations, rebuild TensorFlow with the appropriate compiler flags.\n",
      "2022-07-25 11:04:03.782351: I tensorflow/compiler/mlir/mlir_graph_optimization_pass.cc:185] None of the MLIR Optimization Passes are enabled (registered 2)\n"
     ]
    },
    {
     "name": "stdout",
     "output_type": "stream",
     "text": [
      "roc_auc_score: \n",
      " 0.8824452392013772\n",
      "precision_score: \n",
      " 0.9517937219730942\n",
      "balanced_accuracy_score: \n",
      " 0.8824452392013773\n",
      "recall_score: \n",
      " 0.8043581241117953\n",
      "f1_score: \n",
      " 0.8718870346598203\n"
     ]
    },
    {
     "name": "stderr",
     "output_type": "stream",
     "text": [
      "/home/joao/anaconda3/envs/DeepSweet/lib/python3.7/site-packages/pandas/core/indexing.py:719: FutureWarning: Slicing a positional slice with .loc is not supported, and will raise TypeError in a future version.  Use .loc with labels or .iloc with positions instead.\n",
      "  indexer = self._get_setitem_indexer(key)\n"
     ]
    },
    {
     "name": "stdout",
     "output_type": "stream",
     "text": [
      "roc_auc_score: \n",
      " 0.8846951945805415\n",
      "precision_score: \n",
      " 0.9441095890410959\n",
      "balanced_accuracy_score: \n",
      " 0.8846951945805414\n",
      "recall_score: \n",
      " 0.8162008526764567\n",
      "f1_score: \n",
      " 0.8755081300813008\n"
     ]
    },
    {
     "name": "stderr",
     "output_type": "stream",
     "text": [
      "/home/joao/anaconda3/envs/DeepSweet/lib/python3.7/site-packages/pandas/core/indexing.py:719: FutureWarning: Slicing a positional slice with .loc is not supported, and will raise TypeError in a future version.  Use .loc with labels or .iloc with positions instead.\n",
      "  indexer = self._get_setitem_indexer(key)\n"
     ]
    },
    {
     "name": "stdout",
     "output_type": "stream",
     "text": [
      "roc_auc_score: \n",
      " 0.8884247573137409\n",
      "precision_score: \n",
      " 0.9056603773584906\n",
      "balanced_accuracy_score: \n",
      " 0.8884247573137409\n",
      "recall_score: \n",
      " 0.8640454760776883\n",
      "f1_score: \n",
      " 0.8843636363636364\n"
     ]
    },
    {
     "name": "stderr",
     "output_type": "stream",
     "text": [
      "/home/joao/anaconda3/envs/DeepSweet/lib/python3.7/site-packages/pandas/core/indexing.py:719: FutureWarning: Slicing a positional slice with .loc is not supported, and will raise TypeError in a future version.  Use .loc with labels or .iloc with positions instead.\n",
      "  indexer = self._get_setitem_indexer(key)\n"
     ]
    },
    {
     "name": "stdout",
     "output_type": "stream",
     "text": [
      "roc_auc_score: \n",
      " 0.8633265425602338\n",
      "precision_score: \n",
      " 0.9447995351539803\n",
      "balanced_accuracy_score: \n",
      " 0.8633265425602338\n",
      "recall_score: \n",
      " 0.7702510658455708\n",
      "f1_score: \n",
      " 0.848643006263048\n"
     ]
    },
    {
     "name": "stderr",
     "output_type": "stream",
     "text": [
      "/home/joao/anaconda3/envs/DeepSweet/lib/python3.7/site-packages/pandas/core/indexing.py:719: FutureWarning: Slicing a positional slice with .loc is not supported, and will raise TypeError in a future version.  Use .loc with labels or .iloc with positions instead.\n",
      "  indexer = self._get_setitem_indexer(key)\n"
     ]
    },
    {
     "name": "stdout",
     "output_type": "stream",
     "text": [
      "roc_auc_score: \n",
      " 0.8756873293565535\n",
      "precision_score: \n",
      " 0.9434173669467787\n",
      "balanced_accuracy_score: \n",
      " 0.8756873293565535\n",
      "recall_score: \n",
      " 0.797726196115585\n",
      "f1_score: \n",
      " 0.864476386036961\n"
     ]
    },
    {
     "name": "stderr",
     "output_type": "stream",
     "text": [
      "/home/joao/anaconda3/envs/DeepSweet/lib/python3.7/site-packages/pandas/core/indexing.py:719: FutureWarning: Slicing a positional slice with .loc is not supported, and will raise TypeError in a future version.  Use .loc with labels or .iloc with positions instead.\n",
      "  indexer = self._get_setitem_indexer(key)\n"
     ]
    },
    {
     "name": "stdout",
     "output_type": "stream",
     "text": [
      "roc_auc_score: \n",
      " 0.866952624085599\n",
      "precision_score: \n",
      " 0.910201912858661\n",
      "balanced_accuracy_score: \n",
      " 0.8669526240855989\n",
      "recall_score: \n",
      " 0.8114637612505922\n",
      "f1_score: \n",
      " 0.8580015026296018\n"
     ]
    },
    {
     "name": "stderr",
     "output_type": "stream",
     "text": [
      "/home/joao/anaconda3/envs/DeepSweet/lib/python3.7/site-packages/pandas/core/indexing.py:719: FutureWarning: Slicing a positional slice with .loc is not supported, and will raise TypeError in a future version.  Use .loc with labels or .iloc with positions instead.\n",
      "  indexer = self._get_setitem_indexer(key)\n"
     ]
    },
    {
     "name": "stdout",
     "output_type": "stream",
     "text": [
      "roc_auc_score: \n",
      " 0.8651840954601099\n",
      "precision_score: \n",
      " 0.9315375982042648\n",
      "balanced_accuracy_score: \n",
      " 0.8651840954601098\n",
      "recall_score: \n",
      " 0.7863571766935101\n",
      "f1_score: \n",
      " 0.8528127408168507\n"
     ]
    },
    {
     "name": "stderr",
     "output_type": "stream",
     "text": [
      "/home/joao/anaconda3/envs/DeepSweet/lib/python3.7/site-packages/pandas/core/indexing.py:719: FutureWarning: Slicing a positional slice with .loc is not supported, and will raise TypeError in a future version.  Use .loc with labels or .iloc with positions instead.\n",
      "  indexer = self._get_setitem_indexer(key)\n"
     ]
    },
    {
     "name": "stdout",
     "output_type": "stream",
     "text": [
      "roc_auc_score: \n",
      " 0.8804237685899317\n",
      "precision_score: \n",
      " 0.9145520455722423\n",
      "balanced_accuracy_score: \n",
      " 0.8804237685899317\n",
      "recall_score: \n",
      " 0.8365703458076741\n",
      "f1_score: \n",
      " 0.8738248391885205\n"
     ]
    },
    {
     "name": "stderr",
     "output_type": "stream",
     "text": [
      "/home/joao/anaconda3/envs/DeepSweet/lib/python3.7/site-packages/pandas/core/indexing.py:719: FutureWarning: Slicing a positional slice with .loc is not supported, and will raise TypeError in a future version.  Use .loc with labels or .iloc with positions instead.\n",
      "  indexer = self._get_setitem_indexer(key)\n"
     ]
    },
    {
     "name": "stdout",
     "output_type": "stream",
     "text": [
      "roc_auc_score: \n",
      " 0.8629929461034651\n",
      "precision_score: \n",
      " 0.9197802197802197\n",
      "balanced_accuracy_score: \n",
      " 0.8629929461034651\n",
      "recall_score: \n",
      " 0.7929891046897205\n",
      "f1_score: \n",
      " 0.8516916815059782\n"
     ]
    },
    {
     "name": "stderr",
     "output_type": "stream",
     "text": [
      "/home/joao/anaconda3/envs/DeepSweet/lib/python3.7/site-packages/pandas/core/indexing.py:719: FutureWarning: Slicing a positional slice with .loc is not supported, and will raise TypeError in a future version.  Use .loc with labels or .iloc with positions instead.\n",
      "  indexer = self._get_setitem_indexer(key)\n"
     ]
    },
    {
     "name": "stdout",
     "output_type": "stream",
     "text": [
      "roc_auc_score: \n",
      " 0.8582192231996173\n",
      "precision_score: \n",
      " 0.9368847712796757\n",
      "balanced_accuracy_score: \n",
      " 0.8582192231996173\n",
      "recall_score: \n",
      " 0.7664613927048792\n",
      "f1_score: \n",
      " 0.843147472642001\n"
     ]
    },
    {
     "name": "stderr",
     "output_type": "stream",
     "text": [
      "/home/joao/anaconda3/envs/DeepSweet/lib/python3.7/site-packages/pandas/core/indexing.py:719: FutureWarning: Slicing a positional slice with .loc is not supported, and will raise TypeError in a future version.  Use .loc with labels or .iloc with positions instead.\n",
      "  indexer = self._get_setitem_indexer(key)\n"
     ]
    },
    {
     "name": "stdout",
     "output_type": "stream",
     "text": [
      "roc_auc_score: \n",
      " 0.8871077632863024\n",
      "precision_score: \n",
      " 0.9267015706806283\n",
      "balanced_accuracy_score: \n",
      " 0.8871077632863023\n",
      "recall_score: \n",
      " 0.8384651823780199\n",
      "f1_score: \n",
      " 0.88037801541905\n"
     ]
    },
    {
     "name": "stderr",
     "output_type": "stream",
     "text": [
      "/home/joao/anaconda3/envs/DeepSweet/lib/python3.7/site-packages/pandas/core/indexing.py:719: FutureWarning: Slicing a positional slice with .loc is not supported, and will raise TypeError in a future version.  Use .loc with labels or .iloc with positions instead.\n",
      "  indexer = self._get_setitem_indexer(key)\n"
     ]
    },
    {
     "name": "stdout",
     "output_type": "stream",
     "text": [
      "roc_auc_score: \n",
      " 0.8843320320643914\n",
      "precision_score: \n",
      " 0.9222338204592901\n",
      "balanced_accuracy_score: \n",
      " 0.8843320320643915\n",
      "recall_score: \n",
      " 0.8370440549502606\n",
      "f1_score: \n",
      " 0.8775763595728832\n"
     ]
    },
    {
     "name": "stderr",
     "output_type": "stream",
     "text": [
      "/home/joao/anaconda3/envs/DeepSweet/lib/python3.7/site-packages/pandas/core/indexing.py:719: FutureWarning: Slicing a positional slice with .loc is not supported, and will raise TypeError in a future version.  Use .loc with labels or .iloc with positions instead.\n",
      "  indexer = self._get_setitem_indexer(key)\n"
     ]
    },
    {
     "name": "stdout",
     "output_type": "stream",
     "text": [
      "roc_auc_score: \n",
      " 0.8809347614029879\n",
      "precision_score: \n",
      " 0.926595744680851\n",
      "balanced_accuracy_score: \n",
      " 0.8809347614029879\n",
      "recall_score: \n",
      " 0.8252013263855993\n",
      "f1_score: \n",
      " 0.8729641693811075\n"
     ]
    },
    {
     "name": "stderr",
     "output_type": "stream",
     "text": [
      "/home/joao/anaconda3/envs/DeepSweet/lib/python3.7/site-packages/pandas/core/indexing.py:719: FutureWarning: Slicing a positional slice with .loc is not supported, and will raise TypeError in a future version.  Use .loc with labels or .iloc with positions instead.\n",
      "  indexer = self._get_setitem_indexer(key)\n"
     ]
    },
    {
     "name": "stdout",
     "output_type": "stream",
     "text": [
      "roc_auc_score: \n",
      " 0.8667151173218193\n",
      "precision_score: \n",
      " 0.8839063278525162\n",
      "balanced_accuracy_score: \n",
      " 0.8667151173218193\n",
      "recall_score: \n",
      " 0.8403600189483657\n",
      "f1_score: \n",
      " 0.861583292860612\n"
     ]
    },
    {
     "name": "stderr",
     "output_type": "stream",
     "text": [
      "/home/joao/anaconda3/envs/DeepSweet/lib/python3.7/site-packages/pandas/core/indexing.py:719: FutureWarning: Slicing a positional slice with .loc is not supported, and will raise TypeError in a future version.  Use .loc with labels or .iloc with positions instead.\n",
      "  indexer = self._get_setitem_indexer(key)\n"
     ]
    },
    {
     "name": "stdout",
     "output_type": "stream",
     "text": [
      "roc_auc_score: \n",
      " 0.8765081136006265\n",
      "precision_score: \n",
      " 0.9074074074074074\n",
      "balanced_accuracy_score: \n",
      " 0.8765081136006265\n",
      "recall_score: \n",
      " 0.8356229275225012\n",
      "f1_score: \n",
      " 0.8700369913686806\n"
     ]
    },
    {
     "name": "stderr",
     "output_type": "stream",
     "text": [
      "/home/joao/anaconda3/envs/DeepSweet/lib/python3.7/site-packages/pandas/core/indexing.py:719: FutureWarning: Slicing a positional slice with .loc is not supported, and will raise TypeError in a future version.  Use .loc with labels or .iloc with positions instead.\n",
      "  indexer = self._get_setitem_indexer(key)\n"
     ]
    },
    {
     "name": "stdout",
     "output_type": "stream",
     "text": [
      "roc_auc_score: \n",
      " 0.8595365433232991\n",
      "precision_score: \n",
      " 0.9281674208144797\n",
      "balanced_accuracy_score: \n",
      " 0.8595365433232991\n",
      "recall_score: \n",
      " 0.7773567029843677\n",
      "f1_score: \n",
      " 0.8460943542150039\n"
     ]
    },
    {
     "name": "stderr",
     "output_type": "stream",
     "text": [
      "/home/joao/anaconda3/envs/DeepSweet/lib/python3.7/site-packages/pandas/core/indexing.py:719: FutureWarning: Slicing a positional slice with .loc is not supported, and will raise TypeError in a future version.  Use .loc with labels or .iloc with positions instead.\n",
      "  indexer = self._get_setitem_indexer(key)\n"
     ]
    },
    {
     "name": "stdout",
     "output_type": "stream",
     "text": [
      "roc_auc_score: \n",
      " 0.8914010377252047\n",
      "precision_score: \n",
      " 0.9402028830752803\n",
      "balanced_accuracy_score: \n",
      " 0.8914010377252048\n",
      "recall_score: \n",
      " 0.8342018000947419\n",
      "f1_score: \n",
      " 0.8840361445783133\n"
     ]
    },
    {
     "name": "stderr",
     "output_type": "stream",
     "text": [
      "/home/joao/anaconda3/envs/DeepSweet/lib/python3.7/site-packages/pandas/core/indexing.py:719: FutureWarning: Slicing a positional slice with .loc is not supported, and will raise TypeError in a future version.  Use .loc with labels or .iloc with positions instead.\n",
      "  indexer = self._get_setitem_indexer(key)\n"
     ]
    },
    {
     "name": "stdout",
     "output_type": "stream",
     "text": [
      "roc_auc_score: \n",
      " 0.8872334190386726\n",
      "precision_score: \n",
      " 0.9192386831275721\n",
      "balanced_accuracy_score: \n",
      " 0.8872334190386726\n",
      "recall_score: \n",
      " 0.8465182378019895\n",
      "f1_score: \n",
      " 0.8813810110974106\n"
     ]
    },
    {
     "name": "stderr",
     "output_type": "stream",
     "text": [
      "/home/joao/anaconda3/envs/DeepSweet/lib/python3.7/site-packages/pandas/core/indexing.py:719: FutureWarning: Slicing a positional slice with .loc is not supported, and will raise TypeError in a future version.  Use .loc with labels or .iloc with positions instead.\n",
      "  indexer = self._get_setitem_indexer(key)\n"
     ]
    },
    {
     "name": "stdout",
     "output_type": "stream",
     "text": [
      "roc_auc_score: \n",
      " 0.8924075881291402\n",
      "precision_score: \n",
      " 0.936608557844691\n",
      "balanced_accuracy_score: \n",
      " 0.8924075881291402\n",
      "recall_score: \n",
      " 0.8398863098057793\n",
      "f1_score: \n",
      " 0.8856143856143858\n"
     ]
    },
    {
     "name": "stderr",
     "output_type": "stream",
     "text": [
      "/home/joao/anaconda3/envs/DeepSweet/lib/python3.7/site-packages/pandas/core/indexing.py:719: FutureWarning: Slicing a positional slice with .loc is not supported, and will raise TypeError in a future version.  Use .loc with labels or .iloc with positions instead.\n",
      "  indexer = self._get_setitem_indexer(key)\n"
     ]
    },
    {
     "name": "stdout",
     "output_type": "stream",
     "text": [
      "roc_auc_score: \n",
      " 0.8879070251783255\n",
      "precision_score: \n",
      " 0.9215281362932369\n",
      "balanced_accuracy_score: \n",
      " 0.8879070251783256\n",
      "recall_score: \n",
      " 0.8455708195168167\n",
      "f1_score: \n",
      " 0.8819169960474308\n"
     ]
    },
    {
     "name": "stderr",
     "output_type": "stream",
     "text": [
      "/home/joao/anaconda3/envs/DeepSweet/lib/python3.7/site-packages/pandas/core/indexing.py:719: FutureWarning: Slicing a positional slice with .loc is not supported, and will raise TypeError in a future version.  Use .loc with labels or .iloc with positions instead.\n",
      "  indexer = self._get_setitem_indexer(key)\n"
     ]
    },
    {
     "name": "stdout",
     "output_type": "stream",
     "text": [
      "roc_auc_score: \n",
      " 0.8711572003463577\n",
      "precision_score: \n",
      " 0.929159802306425\n",
      "balanced_accuracy_score: \n",
      " 0.8711572003463577\n",
      "recall_score: \n",
      " 0.8015158692562766\n",
      "f1_score: \n",
      " 0.8606307222787386\n"
     ]
    },
    {
     "name": "stderr",
     "output_type": "stream",
     "text": [
      "/home/joao/anaconda3/envs/DeepSweet/lib/python3.7/site-packages/pandas/core/indexing.py:719: FutureWarning: Slicing a positional slice with .loc is not supported, and will raise TypeError in a future version.  Use .loc with labels or .iloc with positions instead.\n",
      "  indexer = self._get_setitem_indexer(key)\n"
     ]
    },
    {
     "name": "stdout",
     "output_type": "stream",
     "text": [
      "roc_auc_score: \n",
      " 0.8673382872425281\n",
      "precision_score: \n",
      " 0.9463667820069204\n",
      "balanced_accuracy_score: \n",
      " 0.867338287242528\n",
      "recall_score: \n",
      " 0.7773567029843677\n",
      "f1_score: \n",
      " 0.8535760728218466\n"
     ]
    },
    {
     "name": "stderr",
     "output_type": "stream",
     "text": [
      "/home/joao/anaconda3/envs/DeepSweet/lib/python3.7/site-packages/pandas/core/indexing.py:719: FutureWarning: Slicing a positional slice with .loc is not supported, and will raise TypeError in a future version.  Use .loc with labels or .iloc with positions instead.\n",
      "  indexer = self._get_setitem_indexer(key)\n"
     ]
    },
    {
     "name": "stdout",
     "output_type": "stream",
     "text": [
      "roc_auc_score: \n",
      " 0.8863599159019528\n",
      "precision_score: \n",
      " 0.914795918367347\n",
      "balanced_accuracy_score: \n",
      " 0.8863599159019528\n",
      "recall_score: \n",
      " 0.8493604926575082\n",
      "f1_score: \n",
      " 0.8808646524195528\n"
     ]
    },
    {
     "name": "stderr",
     "output_type": "stream",
     "text": [
      "/home/joao/anaconda3/envs/DeepSweet/lib/python3.7/site-packages/pandas/core/indexing.py:719: FutureWarning: Slicing a positional slice with .loc is not supported, and will raise TypeError in a future version.  Use .loc with labels or .iloc with positions instead.\n",
      "  indexer = self._get_setitem_indexer(key)\n"
     ]
    },
    {
     "name": "stdout",
     "output_type": "stream",
     "text": [
      "roc_auc_score: \n",
      " 0.8890324920122725\n",
      "precision_score: \n",
      " 0.9398819108964036\n",
      "balanced_accuracy_score: \n",
      " 0.8890324920122725\n",
      "recall_score: \n",
      " 0.8294647086688773\n",
      "f1_score: \n",
      " 0.8812279818822346\n"
     ]
    },
    {
     "name": "stderr",
     "output_type": "stream",
     "text": [
      "/home/joao/anaconda3/envs/DeepSweet/lib/python3.7/site-packages/pandas/core/indexing.py:719: FutureWarning: Slicing a positional slice with .loc is not supported, and will raise TypeError in a future version.  Use .loc with labels or .iloc with positions instead.\n",
      "  indexer = self._get_setitem_indexer(key)\n"
     ]
    },
    {
     "name": "stdout",
     "output_type": "stream",
     "text": [
      "roc_auc_score: \n",
      " 0.8860632770194109\n",
      "precision_score: \n",
      " 0.8922184630256162\n",
      "balanced_accuracy_score: \n",
      " 0.8860632770194108\n",
      "recall_score: \n",
      " 0.8744670772145903\n",
      "f1_score: \n",
      " 0.8832535885167463\n"
     ]
    },
    {
     "name": "stderr",
     "output_type": "stream",
     "text": [
      "/home/joao/anaconda3/envs/DeepSweet/lib/python3.7/site-packages/pandas/core/indexing.py:719: FutureWarning: Slicing a positional slice with .loc is not supported, and will raise TypeError in a future version.  Use .loc with labels or .iloc with positions instead.\n",
      "  indexer = self._get_setitem_indexer(key)\n"
     ]
    },
    {
     "name": "stdout",
     "output_type": "stream",
     "text": [
      "roc_auc_score: \n",
      " 0.8879063729858394\n",
      "precision_score: \n",
      " 0.8952981095492002\n",
      "balanced_accuracy_score: \n",
      " 0.8879063729858394\n",
      "recall_score: \n",
      " 0.8749407863571766\n",
      "f1_score: \n",
      " 0.8850023957834212\n"
     ]
    },
    {
     "name": "stderr",
     "output_type": "stream",
     "text": [
      "/home/joao/anaconda3/envs/DeepSweet/lib/python3.7/site-packages/pandas/core/indexing.py:719: FutureWarning: Slicing a positional slice with .loc is not supported, and will raise TypeError in a future version.  Use .loc with labels or .iloc with positions instead.\n",
      "  indexer = self._get_setitem_indexer(key)\n"
     ]
    },
    {
     "name": "stdout",
     "output_type": "stream",
     "text": [
      "roc_auc_score: \n",
      " 0.8920440995167471\n",
      "precision_score: \n",
      " 0.9027845627747924\n",
      "balanced_accuracy_score: \n",
      " 0.8920440995167471\n",
      "recall_score: \n",
      " 0.8754144954997631\n",
      "f1_score: \n",
      " 0.888888888888889\n"
     ]
    },
    {
     "name": "stderr",
     "output_type": "stream",
     "text": [
      "/home/joao/anaconda3/envs/DeepSweet/lib/python3.7/site-packages/pandas/core/indexing.py:719: FutureWarning: Slicing a positional slice with .loc is not supported, and will raise TypeError in a future version.  Use .loc with labels or .iloc with positions instead.\n",
      "  indexer = self._get_setitem_indexer(key)\n"
     ]
    },
    {
     "name": "stdout",
     "output_type": "stream",
     "text": [
      "roc_auc_score: \n",
      " 0.8754864540707572\n",
      "precision_score: \n",
      " 0.8981341401916288\n",
      "balanced_accuracy_score: \n",
      " 0.8754864540707572\n",
      "recall_score: \n",
      " 0.8436759829464708\n",
      "f1_score: \n",
      " 0.8700537371763556\n"
     ]
    },
    {
     "name": "stderr",
     "output_type": "stream",
     "text": [
      "/home/joao/anaconda3/envs/DeepSweet/lib/python3.7/site-packages/pandas/core/indexing.py:719: FutureWarning: Slicing a positional slice with .loc is not supported, and will raise TypeError in a future version.  Use .loc with labels or .iloc with positions instead.\n",
      "  indexer = self._get_setitem_indexer(key)\n"
     ]
    },
    {
     "name": "stdout",
     "output_type": "stream",
     "text": [
      "roc_auc_score: \n",
      " 0.888099530660547\n",
      "precision_score: \n",
      " 0.9241952232606438\n",
      "balanced_accuracy_score: \n",
      " 0.888099530660547\n",
      "recall_score: \n",
      " 0.8432022738038845\n",
      "f1_score: \n",
      " 0.8818429526876393\n"
     ]
    },
    {
     "name": "stderr",
     "output_type": "stream",
     "text": [
      "/home/joao/anaconda3/envs/DeepSweet/lib/python3.7/site-packages/pandas/core/indexing.py:719: FutureWarning: Slicing a positional slice with .loc is not supported, and will raise TypeError in a future version.  Use .loc with labels or .iloc with positions instead.\n",
      "  indexer = self._get_setitem_indexer(key)\n"
     ]
    },
    {
     "name": "stdout",
     "output_type": "stream",
     "text": [
      "roc_auc_score: \n",
      " 0.8666566373955432\n",
      "precision_score: \n",
      " 0.9136729222520107\n",
      "balanced_accuracy_score: \n",
      " 0.8666566373955432\n",
      "recall_score: \n",
      " 0.8072003789673141\n",
      "f1_score: \n",
      " 0.8571428571428572\n"
     ]
    },
    {
     "name": "stderr",
     "output_type": "stream",
     "text": [
      "/home/joao/anaconda3/envs/DeepSweet/lib/python3.7/site-packages/pandas/core/indexing.py:719: FutureWarning: Slicing a positional slice with .loc is not supported, and will raise TypeError in a future version.  Use .loc with labels or .iloc with positions instead.\n",
      "  indexer = self._get_setitem_indexer(key)\n"
     ]
    },
    {
     "name": "stdout",
     "output_type": "stream",
     "text": [
      "roc_auc_score: \n",
      " 0.8676856884402578\n",
      "precision_score: \n",
      " 0.9234135667396062\n",
      "balanced_accuracy_score: \n",
      " 0.8676856884402577\n",
      "recall_score: \n",
      " 0.7996210326859309\n",
      "f1_score: \n",
      " 0.8570703224168572\n"
     ]
    },
    {
     "name": "stderr",
     "output_type": "stream",
     "text": [
      "/home/joao/anaconda3/envs/DeepSweet/lib/python3.7/site-packages/pandas/core/indexing.py:719: FutureWarning: Slicing a positional slice with .loc is not supported, and will raise TypeError in a future version.  Use .loc with labels or .iloc with positions instead.\n",
      "  indexer = self._get_setitem_indexer(key)\n"
     ]
    },
    {
     "name": "stdout",
     "output_type": "stream",
     "text": [
      "roc_auc_score: \n",
      " 0.8891799962129355\n",
      "precision_score: \n",
      " 0.9165818921668362\n",
      "balanced_accuracy_score: \n",
      " 0.8891799962129356\n",
      "recall_score: \n",
      " 0.8536238749407864\n",
      "f1_score: \n",
      " 0.8839833210694138\n"
     ]
    },
    {
     "name": "stderr",
     "output_type": "stream",
     "text": [
      "/home/joao/anaconda3/envs/DeepSweet/lib/python3.7/site-packages/pandas/core/indexing.py:719: FutureWarning: Slicing a positional slice with .loc is not supported, and will raise TypeError in a future version.  Use .loc with labels or .iloc with positions instead.\n",
      "  indexer = self._get_setitem_indexer(key)\n"
     ]
    },
    {
     "name": "stdout",
     "output_type": "stream",
     "text": [
      "roc_auc_score: \n",
      " 0.8590252244139995\n",
      "precision_score: \n",
      " 0.9011689691817216\n",
      "balanced_accuracy_score: \n",
      " 0.8590252244139995\n",
      "recall_score: \n",
      " 0.8034107058266224\n",
      "f1_score: \n",
      " 0.8494866015527173\n"
     ]
    },
    {
     "name": "stderr",
     "output_type": "stream",
     "text": [
      "/home/joao/anaconda3/envs/DeepSweet/lib/python3.7/site-packages/pandas/core/indexing.py:719: FutureWarning: Slicing a positional slice with .loc is not supported, and will raise TypeError in a future version.  Use .loc with labels or .iloc with positions instead.\n",
      "  indexer = self._get_setitem_indexer(key)\n"
     ]
    },
    {
     "name": "stdout",
     "output_type": "stream",
     "text": [
      "roc_auc_score: \n",
      " 0.8572271297291292\n",
      "precision_score: \n",
      " 0.9239007891770011\n",
      "balanced_accuracy_score: \n",
      " 0.8572271297291292\n",
      "recall_score: \n",
      " 0.7764092846991947\n",
      "f1_score: \n",
      " 0.8437580437580438\n"
     ]
    },
    {
     "name": "stderr",
     "output_type": "stream",
     "text": [
      "/home/joao/anaconda3/envs/DeepSweet/lib/python3.7/site-packages/pandas/core/indexing.py:719: FutureWarning: Slicing a positional slice with .loc is not supported, and will raise TypeError in a future version.  Use .loc with labels or .iloc with positions instead.\n",
      "  indexer = self._get_setitem_indexer(key)\n"
     ]
    },
    {
     "name": "stdout",
     "output_type": "stream",
     "text": [
      "roc_auc_score: \n",
      " 0.8887136785851945\n",
      "precision_score: \n",
      " 0.9160732451678535\n",
      "balanced_accuracy_score: \n",
      " 0.8887136785851946\n",
      "recall_score: \n",
      " 0.8531501657981999\n",
      "f1_score: \n",
      " 0.8834927642874663\n"
     ]
    },
    {
     "name": "stderr",
     "output_type": "stream",
     "text": [
      "/home/joao/anaconda3/envs/DeepSweet/lib/python3.7/site-packages/pandas/core/indexing.py:719: FutureWarning: Slicing a positional slice with .loc is not supported, and will raise TypeError in a future version.  Use .loc with labels or .iloc with positions instead.\n",
      "  indexer = self._get_setitem_indexer(key)\n"
     ]
    },
    {
     "name": "stdout",
     "output_type": "stream",
     "text": [
      "roc_auc_score: \n",
      " 0.8858418576702944\n",
      "precision_score: \n",
      " 0.9172661870503597\n",
      "balanced_accuracy_score: \n",
      " 0.8858418576702944\n",
      "recall_score: \n",
      " 0.8455708195168167\n",
      "f1_score: \n",
      " 0.8799605619916193\n"
     ]
    },
    {
     "name": "stderr",
     "output_type": "stream",
     "text": [
      "/home/joao/anaconda3/envs/DeepSweet/lib/python3.7/site-packages/pandas/core/indexing.py:719: FutureWarning: Slicing a positional slice with .loc is not supported, and will raise TypeError in a future version.  Use .loc with labels or .iloc with positions instead.\n",
      "  indexer = self._get_setitem_indexer(key)\n"
     ]
    },
    {
     "name": "stdout",
     "output_type": "stream",
     "text": [
      "roc_auc_score: \n",
      " 0.888676721010968\n",
      "precision_score: \n",
      " 0.918200408997955\n",
      "balanced_accuracy_score: \n",
      " 0.888676721010968\n",
      "recall_score: \n",
      " 0.8507816200852677\n",
      "f1_score: \n",
      " 0.8832062945660191\n"
     ]
    },
    {
     "name": "stderr",
     "output_type": "stream",
     "text": [
      "/home/joao/anaconda3/envs/DeepSweet/lib/python3.7/site-packages/pandas/core/indexing.py:719: FutureWarning: Slicing a positional slice with .loc is not supported, and will raise TypeError in a future version.  Use .loc with labels or .iloc with positions instead.\n",
      "  indexer = self._get_setitem_indexer(key)\n"
     ]
    },
    {
     "name": "stdout",
     "output_type": "stream",
     "text": [
      "roc_auc_score: \n",
      " 0.8707490365486495\n",
      "precision_score: \n",
      " 0.8845014807502468\n",
      "balanced_accuracy_score: \n",
      " 0.8707490365486495\n",
      "recall_score: \n",
      " 0.8488867835149219\n",
      "f1_score: \n",
      " 0.8663282571912014\n"
     ]
    },
    {
     "name": "stderr",
     "output_type": "stream",
     "text": [
      "/home/joao/anaconda3/envs/DeepSweet/lib/python3.7/site-packages/pandas/core/indexing.py:719: FutureWarning: Slicing a positional slice with .loc is not supported, and will raise TypeError in a future version.  Use .loc with labels or .iloc with positions instead.\n",
      "  indexer = self._get_setitem_indexer(key)\n"
     ]
    },
    {
     "name": "stdout",
     "output_type": "stream",
     "text": [
      "roc_auc_score: \n",
      " 0.8850496611968731\n",
      "precision_score: \n",
      " 0.9082661290322581\n",
      "balanced_accuracy_score: \n",
      " 0.8850496611968732\n",
      "recall_score: \n",
      " 0.8536238749407864\n",
      "f1_score: \n",
      " 0.8800976800976802\n"
     ]
    },
    {
     "name": "stderr",
     "output_type": "stream",
     "text": [
      "/home/joao/anaconda3/envs/DeepSweet/lib/python3.7/site-packages/pandas/core/indexing.py:719: FutureWarning: Slicing a positional slice with .loc is not supported, and will raise TypeError in a future version.  Use .loc with labels or .iloc with positions instead.\n",
      "  indexer = self._get_setitem_indexer(key)\n"
     ]
    },
    {
     "name": "stdout",
     "output_type": "stream",
     "text": [
      "roc_auc_score: \n",
      " 0.8671226289270413\n",
      "precision_score: \n",
      " 0.9004149377593361\n",
      "balanced_accuracy_score: \n",
      " 0.8671226289270412\n",
      "recall_score: \n",
      " 0.8223590715300805\n",
      "f1_score: \n",
      " 0.8596187175043327\n"
     ]
    },
    {
     "name": "stderr",
     "output_type": "stream",
     "text": [
      "/home/joao/anaconda3/envs/DeepSweet/lib/python3.7/site-packages/pandas/core/indexing.py:719: FutureWarning: Slicing a positional slice with .loc is not supported, and will raise TypeError in a future version.  Use .loc with labels or .iloc with positions instead.\n",
      "  indexer = self._get_setitem_indexer(key)\n"
     ]
    },
    {
     "name": "stdout",
     "output_type": "stream",
     "text": [
      "WARNING: all_rf_model does not work for test set\n",
      "roc_auc_score: \n",
      " 0.8681779167648683\n",
      "precision_score: \n",
      " 0.9326221224031443\n",
      "balanced_accuracy_score: \n",
      " 0.8681779167648683\n",
      "recall_score: \n",
      " 0.7917063870352717\n",
      "f1_score: \n",
      " 0.8564062902810002\n"
     ]
    },
    {
     "name": "stderr",
     "output_type": "stream",
     "text": [
      "/home/joao/anaconda3/envs/DeepSweet/lib/python3.7/site-packages/pandas/core/indexing.py:719: FutureWarning: Slicing a positional slice with .loc is not supported, and will raise TypeError in a future version.  Use .loc with labels or .iloc with positions instead.\n",
      "  indexer = self._get_setitem_indexer(key)\n"
     ]
    },
    {
     "name": "stdout",
     "output_type": "stream",
     "text": [
      "roc_auc_score: \n",
      " 0.8943625804227537\n",
      "precision_score: \n",
      " 0.938396176314392\n",
      "balanced_accuracy_score: \n",
      " 0.8943625804227537\n",
      "recall_score: \n",
      " 0.842230695900858\n",
      "f1_score: \n",
      " 0.8877166541070083\n"
     ]
    },
    {
     "name": "stderr",
     "output_type": "stream",
     "text": [
      "/home/joao/anaconda3/envs/DeepSweet/lib/python3.7/site-packages/pandas/core/indexing.py:719: FutureWarning: Slicing a positional slice with .loc is not supported, and will raise TypeError in a future version.  Use .loc with labels or .iloc with positions instead.\n",
      "  indexer = self._get_setitem_indexer(key)\n"
     ]
    },
    {
     "name": "stdout",
     "output_type": "stream",
     "text": [
      "roc_auc_score: \n",
      " 0.8755812951361164\n",
      "precision_score: \n",
      " 0.9328193832599119\n",
      "balanced_accuracy_score: \n",
      " 0.8755812951361164\n",
      "recall_score: \n",
      " 0.8074356530028599\n",
      "f1_score: \n",
      " 0.8656106285130302\n"
     ]
    },
    {
     "name": "stderr",
     "output_type": "stream",
     "text": [
      "/home/joao/anaconda3/envs/DeepSweet/lib/python3.7/site-packages/pandas/core/indexing.py:719: FutureWarning: Slicing a positional slice with .loc is not supported, and will raise TypeError in a future version.  Use .loc with labels or .iloc with positions instead.\n",
      "  indexer = self._get_setitem_indexer(key)\n"
     ]
    },
    {
     "name": "stdout",
     "output_type": "stream",
     "text": [
      "roc_auc_score: \n",
      " 0.8912184420938586\n",
      "precision_score: \n",
      " 0.9265242313705054\n",
      "balanced_accuracy_score: \n",
      " 0.8912184420938585\n",
      "recall_score: \n",
      " 0.8474737845567207\n",
      "f1_score: \n",
      " 0.8852377396066716\n"
     ]
    },
    {
     "name": "stderr",
     "output_type": "stream",
     "text": [
      "/home/joao/anaconda3/envs/DeepSweet/lib/python3.7/site-packages/pandas/core/indexing.py:719: FutureWarning: Slicing a positional slice with .loc is not supported, and will raise TypeError in a future version.  Use .loc with labels or .iloc with positions instead.\n",
      "  indexer = self._get_setitem_indexer(key)\n"
     ]
    },
    {
     "name": "stdout",
     "output_type": "stream",
     "text": [
      "roc_auc_score: \n",
      " 0.8718448689491661\n",
      "precision_score: \n",
      " 0.9425810119386014\n",
      "balanced_accuracy_score: \n",
      " 0.8718448689491661\n",
      "recall_score: \n",
      " 0.7902764537654909\n",
      "f1_score: \n",
      " 0.8597355457609542\n"
     ]
    },
    {
     "name": "stderr",
     "output_type": "stream",
     "text": [
      "/home/joao/anaconda3/envs/DeepSweet/lib/python3.7/site-packages/pandas/core/indexing.py:719: FutureWarning: Slicing a positional slice with .loc is not supported, and will raise TypeError in a future version.  Use .loc with labels or .iloc with positions instead.\n",
      "  indexer = self._get_setitem_indexer(key)\n"
     ]
    },
    {
     "name": "stdout",
     "output_type": "stream",
     "text": [
      "roc_auc_score: \n",
      " 0.8675937635210479\n",
      "precision_score: \n",
      " 0.92439293598234\n",
      "balanced_accuracy_score: \n",
      " 0.867593763521048\n",
      "recall_score: \n",
      " 0.7983794089609152\n",
      "f1_score: \n",
      " 0.8567774936061381\n"
     ]
    },
    {
     "name": "stderr",
     "output_type": "stream",
     "text": [
      "/home/joao/anaconda3/envs/DeepSweet/lib/python3.7/site-packages/pandas/core/indexing.py:719: FutureWarning: Slicing a positional slice with .loc is not supported, and will raise TypeError in a future version.  Use .loc with labels or .iloc with positions instead.\n",
      "  indexer = self._get_setitem_indexer(key)\n"
     ]
    },
    {
     "name": "stdout",
     "output_type": "stream",
     "text": [
      "roc_auc_score: \n",
      " 0.8943471906120397\n",
      "precision_score: \n",
      " 0.9393294305481639\n",
      "balanced_accuracy_score: \n",
      " 0.8943471906120396\n",
      "recall_score: \n",
      " 0.8412774070543375\n",
      "f1_score: \n",
      " 0.8876037213980388\n"
     ]
    },
    {
     "name": "stderr",
     "output_type": "stream",
     "text": [
      "/home/joao/anaconda3/envs/DeepSweet/lib/python3.7/site-packages/pandas/core/indexing.py:719: FutureWarning: Slicing a positional slice with .loc is not supported, and will raise TypeError in a future version.  Use .loc with labels or .iloc with positions instead.\n",
      "  indexer = self._get_setitem_indexer(key)\n"
     ]
    },
    {
     "name": "stdout",
     "output_type": "stream",
     "text": [
      "roc_auc_score: \n",
      " 0.8916029675072727\n",
      "precision_score: \n",
      " 0.9182839632277835\n",
      "balanced_accuracy_score: \n",
      " 0.8916029675072727\n",
      "recall_score: \n",
      " 0.8570066730219257\n",
      "f1_score: \n",
      " 0.8865877712031559\n"
     ]
    },
    {
     "name": "stderr",
     "output_type": "stream",
     "text": [
      "/home/joao/anaconda3/envs/DeepSweet/lib/python3.7/site-packages/pandas/core/indexing.py:719: FutureWarning: Slicing a positional slice with .loc is not supported, and will raise TypeError in a future version.  Use .loc with labels or .iloc with positions instead.\n",
      "  indexer = self._get_setitem_indexer(key)\n"
     ]
    },
    {
     "name": "stdout",
     "output_type": "stream",
     "text": [
      "roc_auc_score: \n",
      " 0.8911571027054408\n",
      "precision_score: \n",
      " 0.9164969450101833\n",
      "balanced_accuracy_score: \n",
      " 0.8911571027054408\n",
      "recall_score: \n",
      " 0.8579599618684461\n",
      "f1_score: \n",
      " 0.8862629246676514\n"
     ]
    },
    {
     "name": "stderr",
     "output_type": "stream",
     "text": [
      "/home/joao/anaconda3/envs/DeepSweet/lib/python3.7/site-packages/pandas/core/indexing.py:719: FutureWarning: Slicing a positional slice with .loc is not supported, and will raise TypeError in a future version.  Use .loc with labels or .iloc with positions instead.\n",
      "  indexer = self._get_setitem_indexer(key)\n"
     ]
    },
    {
     "name": "stdout",
     "output_type": "stream",
     "text": [
      "roc_auc_score: \n",
      " 0.8916260522233439\n",
      "precision_score: \n",
      " 0.9170061099796334\n",
      "balanced_accuracy_score: \n",
      " 0.8916260522233439\n",
      "recall_score: \n",
      " 0.8584366062917064\n",
      "f1_score: \n",
      " 0.8867552929591335\n"
     ]
    },
    {
     "name": "stderr",
     "output_type": "stream",
     "text": [
      "/home/joao/anaconda3/envs/DeepSweet/lib/python3.7/site-packages/pandas/core/indexing.py:719: FutureWarning: Slicing a positional slice with .loc is not supported, and will raise TypeError in a future version.  Use .loc with labels or .iloc with positions instead.\n",
      "  indexer = self._get_setitem_indexer(key)\n"
     ]
    },
    {
     "name": "stdout",
     "output_type": "stream",
     "text": [
      "roc_auc_score: \n",
      " 0.8872749130255839\n",
      "precision_score: \n",
      " 0.9065796082370668\n",
      "balanced_accuracy_score: \n",
      " 0.887274913025584\n",
      "recall_score: \n",
      " 0.8603431839847474\n",
      "f1_score: \n",
      " 0.8828564441183664\n"
     ]
    },
    {
     "name": "stderr",
     "output_type": "stream",
     "text": [
      "/home/joao/anaconda3/envs/DeepSweet/lib/python3.7/site-packages/pandas/core/indexing.py:719: FutureWarning: Slicing a positional slice with .loc is not supported, and will raise TypeError in a future version.  Use .loc with labels or .iloc with positions instead.\n",
      "  indexer = self._get_setitem_indexer(key)\n"
     ]
    }
   ],
   "source": [
    "import os\n",
    "from reports import ResultsReport\n",
    "\n",
    "models_folder_path = \"/home/joao/Desktop/DeepSweet/resources/test_data/\"\n",
    "ResultsReport(\"cpu\",os.path.join(models_folder_path, \"train_dataset.csv\"), os.path.join(models_folder_path, \"test_dataset.csv\"), \"\").run_all_ml(models_folder_path, \"results.csv\", False)"
   ],
   "metadata": {
    "collapsed": false,
    "pycharm": {
     "name": "#%%\n"
    }
   }
  },
  {
   "cell_type": "code",
   "execution_count": 2,
   "outputs": [
    {
     "data": {
      "text/plain": "     descriptor  feature selection algorithm  test_roc_auc_score  \\\n49           2d             Boruta        rf            0.894363   \n54           2d  SelectFromModelFS        rf            0.894347   \n26          rdk             Boruta        rf            0.892408   \n34          rdk               none       dnn            0.892044   \n57           2d               none       dnn            0.891626   \n55           2d  SelectFromModelFS       dnn            0.891603   \n24          rdk               none        rf            0.891401   \n51           2d            KbestFS        rf            0.891218   \n56           2d             Boruta       dnn            0.891157   \n39        ecfp4               none       svm            0.889180   \n31          rdk  SelectFromModelFS        rf            0.889032   \n42        ecfp4  SelectFromModelFS       svm            0.888714   \n44        ecfp4  SelectFromModelFS       dnn            0.888677   \n10  atompair_fp               none       dnn            0.888425   \n36        ecfp4               none        rf            0.888100   \n27          rdk               none       svm            0.887907   \n33          rdk             Boruta       dnn            0.887906   \n7   atompair_fp  SelectFromModelFS        rf            0.887352   \n58           2d            KbestFS       dnn            0.887275   \n25          rdk             Boruta       svm            0.887233   \n18        ecfp8  SelectFromModelFS       svm            0.887108   \n0   atompair_fp               none        rf            0.886908   \n30          rdk  SelectFromModelFS       svm            0.886360   \n32          rdk  SelectFromModelFS       dnn            0.886063   \n43        ecfp4  SelectFromModelFS        rf            0.885842   \n46        ecfp4               none       dnn            0.885050   \n9   atompair_fp             Boruta       dnn            0.884695   \n19        ecfp8  SelectFromModelFS        rf            0.884332   \n8   atompair_fp  SelectFromModelFS       dnn            0.882445   \n2   atompair_fp             Boruta        rf            0.881994   \n20        ecfp8  SelectFromModelFS       dnn            0.880935   \n15        ecfp8               none       svm            0.880424   \n6   atompair_fp  SelectFromModelFS       svm            0.878833   \n3   atompair_fp               none       svm            0.878626   \n1   atompair_fp             Boruta       svm            0.877448   \n22        ecfp8               none       dnn            0.876508   \n12        ecfp8               none        rf            0.875687   \n50           2d               none       svm            0.875581   \n35          rdk            KbestFS       dnn            0.875486   \n52           2d            KbestFS       svm            0.871845   \n28          rdk            KbestFS        rf            0.871157   \n45        ecfp4             Boruta       dnn            0.870749   \n48           2d             Boruta       svm            0.868178   \n38        ecfp4             Boruta        rf            0.867686   \n53           2d  SelectFromModelFS       svm            0.867594   \n29          rdk            KbestFS       svm            0.867338   \n47        ecfp4            KbestFS       dnn            0.867123   \n13        ecfp8             Boruta       svm            0.866953   \n21        ecfp8             Boruta       dnn            0.866715   \n37        ecfp4             Boruta       svm            0.866657   \n14        ecfp8             Boruta        rf            0.865184   \n11  atompair_fp            KbestFS       dnn            0.863327   \n16        ecfp8            KbestFS        rf            0.862993   \n4   atompair_fp            KbestFS        rf            0.862949   \n23        ecfp8            KbestFS       dnn            0.859537   \n40        ecfp4            KbestFS        rf            0.859025   \n17        ecfp8            KbestFS       svm            0.858219   \n41        ecfp4            KbestFS       svm            0.857227   \n5   atompair_fp            KbestFS       svm            0.852964   \n\n    test_precision_score  test_ner_score  test_recall_score  test_f1_score  \n49              0.938396        0.894363           0.842231       0.887717  \n54              0.939329        0.894347           0.841277       0.887604  \n26              0.936609        0.892408           0.839886       0.885614  \n34              0.902785        0.892044           0.875414       0.888889  \n57              0.917006        0.891626           0.858437       0.886755  \n55              0.918284        0.891603           0.857007       0.886588  \n24              0.940203        0.891401           0.834202       0.884036  \n51              0.926524        0.891218           0.847474       0.885238  \n56              0.916497        0.891157           0.857960       0.886263  \n39              0.916582        0.889180           0.853624       0.883983  \n31              0.939882        0.889032           0.829465       0.881228  \n42              0.916073        0.888714           0.853150       0.883493  \n44              0.918200        0.888677           0.850782       0.883206  \n10              0.905660        0.888425           0.864045       0.884364  \n36              0.924195        0.888100           0.843202       0.881843  \n27              0.921528        0.887907           0.845571       0.881917  \n33              0.895298        0.887906           0.874941       0.885002  \n7               0.941081        0.887352           0.824728       0.879071  \n58              0.906580        0.887275           0.860343       0.882856  \n25              0.919239        0.887233           0.846518       0.881381  \n18              0.926702        0.887108           0.838465       0.880378  \n0               0.939116        0.886908           0.825675       0.878750  \n30              0.914796        0.886360           0.849360       0.880865  \n32              0.892218        0.886063           0.874467       0.883254  \n43              0.917266        0.885842           0.845571       0.879961  \n46              0.908266        0.885050           0.853624       0.880098  \n9               0.944110        0.884695           0.816201       0.875508  \n19              0.922234        0.884332           0.837044       0.877576  \n8               0.951794        0.882445           0.804358       0.871887  \n2               0.950224        0.881994           0.804832       0.871506  \n20              0.926596        0.880935           0.825201       0.872964  \n15              0.914552        0.880424           0.836570       0.873825  \n6               0.924428        0.878833           0.822833       0.870677  \n3               0.937466        0.878626           0.809569       0.868836  \n1               0.921933        0.877448           0.822359       0.869304  \n22              0.907407        0.876508           0.835623       0.870037  \n12              0.943417        0.875687           0.797726       0.864476  \n50              0.932819        0.875581           0.807436       0.865611  \n35              0.898134        0.875486           0.843676       0.870054  \n52              0.942581        0.871845           0.790276       0.859736  \n28              0.929160        0.871157           0.801516       0.860631  \n45              0.884501        0.870749           0.848887       0.866328  \n48              0.932622        0.868178           0.791706       0.856406  \n38              0.923414        0.867686           0.799621       0.857070  \n53              0.924393        0.867594           0.798379       0.856777  \n29              0.946367        0.867338           0.777357       0.853576  \n47              0.900415        0.867123           0.822359       0.859619  \n13              0.910202        0.866953           0.811464       0.858002  \n21              0.883906        0.866715           0.840360       0.861583  \n37              0.913673        0.866657           0.807200       0.857143  \n14              0.931538        0.865184           0.786357       0.852813  \n11              0.944800        0.863327           0.770251       0.848643  \n16              0.919780        0.862993           0.792989       0.851692  \n4               0.938109        0.862949           0.775462       0.849066  \n23              0.928167        0.859537           0.777357       0.846094  \n40              0.901169        0.859025           0.803411       0.849487  \n17              0.936885        0.858219           0.766461       0.843147  \n41              0.923901        0.857227           0.776409       0.843758  \n5               0.956442        0.852964           0.738513       0.833467  ",
      "text/html": "<div>\n<style scoped>\n    .dataframe tbody tr th:only-of-type {\n        vertical-align: middle;\n    }\n\n    .dataframe tbody tr th {\n        vertical-align: top;\n    }\n\n    .dataframe thead th {\n        text-align: right;\n    }\n</style>\n<table border=\"1\" class=\"dataframe\">\n  <thead>\n    <tr style=\"text-align: right;\">\n      <th></th>\n      <th>descriptor</th>\n      <th>feature selection</th>\n      <th>algorithm</th>\n      <th>test_roc_auc_score</th>\n      <th>test_precision_score</th>\n      <th>test_ner_score</th>\n      <th>test_recall_score</th>\n      <th>test_f1_score</th>\n    </tr>\n  </thead>\n  <tbody>\n    <tr>\n      <th>49</th>\n      <td>2d</td>\n      <td>Boruta</td>\n      <td>rf</td>\n      <td>0.894363</td>\n      <td>0.938396</td>\n      <td>0.894363</td>\n      <td>0.842231</td>\n      <td>0.887717</td>\n    </tr>\n    <tr>\n      <th>54</th>\n      <td>2d</td>\n      <td>SelectFromModelFS</td>\n      <td>rf</td>\n      <td>0.894347</td>\n      <td>0.939329</td>\n      <td>0.894347</td>\n      <td>0.841277</td>\n      <td>0.887604</td>\n    </tr>\n    <tr>\n      <th>26</th>\n      <td>rdk</td>\n      <td>Boruta</td>\n      <td>rf</td>\n      <td>0.892408</td>\n      <td>0.936609</td>\n      <td>0.892408</td>\n      <td>0.839886</td>\n      <td>0.885614</td>\n    </tr>\n    <tr>\n      <th>34</th>\n      <td>rdk</td>\n      <td>none</td>\n      <td>dnn</td>\n      <td>0.892044</td>\n      <td>0.902785</td>\n      <td>0.892044</td>\n      <td>0.875414</td>\n      <td>0.888889</td>\n    </tr>\n    <tr>\n      <th>57</th>\n      <td>2d</td>\n      <td>none</td>\n      <td>dnn</td>\n      <td>0.891626</td>\n      <td>0.917006</td>\n      <td>0.891626</td>\n      <td>0.858437</td>\n      <td>0.886755</td>\n    </tr>\n    <tr>\n      <th>55</th>\n      <td>2d</td>\n      <td>SelectFromModelFS</td>\n      <td>dnn</td>\n      <td>0.891603</td>\n      <td>0.918284</td>\n      <td>0.891603</td>\n      <td>0.857007</td>\n      <td>0.886588</td>\n    </tr>\n    <tr>\n      <th>24</th>\n      <td>rdk</td>\n      <td>none</td>\n      <td>rf</td>\n      <td>0.891401</td>\n      <td>0.940203</td>\n      <td>0.891401</td>\n      <td>0.834202</td>\n      <td>0.884036</td>\n    </tr>\n    <tr>\n      <th>51</th>\n      <td>2d</td>\n      <td>KbestFS</td>\n      <td>rf</td>\n      <td>0.891218</td>\n      <td>0.926524</td>\n      <td>0.891218</td>\n      <td>0.847474</td>\n      <td>0.885238</td>\n    </tr>\n    <tr>\n      <th>56</th>\n      <td>2d</td>\n      <td>Boruta</td>\n      <td>dnn</td>\n      <td>0.891157</td>\n      <td>0.916497</td>\n      <td>0.891157</td>\n      <td>0.857960</td>\n      <td>0.886263</td>\n    </tr>\n    <tr>\n      <th>39</th>\n      <td>ecfp4</td>\n      <td>none</td>\n      <td>svm</td>\n      <td>0.889180</td>\n      <td>0.916582</td>\n      <td>0.889180</td>\n      <td>0.853624</td>\n      <td>0.883983</td>\n    </tr>\n    <tr>\n      <th>31</th>\n      <td>rdk</td>\n      <td>SelectFromModelFS</td>\n      <td>rf</td>\n      <td>0.889032</td>\n      <td>0.939882</td>\n      <td>0.889032</td>\n      <td>0.829465</td>\n      <td>0.881228</td>\n    </tr>\n    <tr>\n      <th>42</th>\n      <td>ecfp4</td>\n      <td>SelectFromModelFS</td>\n      <td>svm</td>\n      <td>0.888714</td>\n      <td>0.916073</td>\n      <td>0.888714</td>\n      <td>0.853150</td>\n      <td>0.883493</td>\n    </tr>\n    <tr>\n      <th>44</th>\n      <td>ecfp4</td>\n      <td>SelectFromModelFS</td>\n      <td>dnn</td>\n      <td>0.888677</td>\n      <td>0.918200</td>\n      <td>0.888677</td>\n      <td>0.850782</td>\n      <td>0.883206</td>\n    </tr>\n    <tr>\n      <th>10</th>\n      <td>atompair_fp</td>\n      <td>none</td>\n      <td>dnn</td>\n      <td>0.888425</td>\n      <td>0.905660</td>\n      <td>0.888425</td>\n      <td>0.864045</td>\n      <td>0.884364</td>\n    </tr>\n    <tr>\n      <th>36</th>\n      <td>ecfp4</td>\n      <td>none</td>\n      <td>rf</td>\n      <td>0.888100</td>\n      <td>0.924195</td>\n      <td>0.888100</td>\n      <td>0.843202</td>\n      <td>0.881843</td>\n    </tr>\n    <tr>\n      <th>27</th>\n      <td>rdk</td>\n      <td>none</td>\n      <td>svm</td>\n      <td>0.887907</td>\n      <td>0.921528</td>\n      <td>0.887907</td>\n      <td>0.845571</td>\n      <td>0.881917</td>\n    </tr>\n    <tr>\n      <th>33</th>\n      <td>rdk</td>\n      <td>Boruta</td>\n      <td>dnn</td>\n      <td>0.887906</td>\n      <td>0.895298</td>\n      <td>0.887906</td>\n      <td>0.874941</td>\n      <td>0.885002</td>\n    </tr>\n    <tr>\n      <th>7</th>\n      <td>atompair_fp</td>\n      <td>SelectFromModelFS</td>\n      <td>rf</td>\n      <td>0.887352</td>\n      <td>0.941081</td>\n      <td>0.887352</td>\n      <td>0.824728</td>\n      <td>0.879071</td>\n    </tr>\n    <tr>\n      <th>58</th>\n      <td>2d</td>\n      <td>KbestFS</td>\n      <td>dnn</td>\n      <td>0.887275</td>\n      <td>0.906580</td>\n      <td>0.887275</td>\n      <td>0.860343</td>\n      <td>0.882856</td>\n    </tr>\n    <tr>\n      <th>25</th>\n      <td>rdk</td>\n      <td>Boruta</td>\n      <td>svm</td>\n      <td>0.887233</td>\n      <td>0.919239</td>\n      <td>0.887233</td>\n      <td>0.846518</td>\n      <td>0.881381</td>\n    </tr>\n    <tr>\n      <th>18</th>\n      <td>ecfp8</td>\n      <td>SelectFromModelFS</td>\n      <td>svm</td>\n      <td>0.887108</td>\n      <td>0.926702</td>\n      <td>0.887108</td>\n      <td>0.838465</td>\n      <td>0.880378</td>\n    </tr>\n    <tr>\n      <th>0</th>\n      <td>atompair_fp</td>\n      <td>none</td>\n      <td>rf</td>\n      <td>0.886908</td>\n      <td>0.939116</td>\n      <td>0.886908</td>\n      <td>0.825675</td>\n      <td>0.878750</td>\n    </tr>\n    <tr>\n      <th>30</th>\n      <td>rdk</td>\n      <td>SelectFromModelFS</td>\n      <td>svm</td>\n      <td>0.886360</td>\n      <td>0.914796</td>\n      <td>0.886360</td>\n      <td>0.849360</td>\n      <td>0.880865</td>\n    </tr>\n    <tr>\n      <th>32</th>\n      <td>rdk</td>\n      <td>SelectFromModelFS</td>\n      <td>dnn</td>\n      <td>0.886063</td>\n      <td>0.892218</td>\n      <td>0.886063</td>\n      <td>0.874467</td>\n      <td>0.883254</td>\n    </tr>\n    <tr>\n      <th>43</th>\n      <td>ecfp4</td>\n      <td>SelectFromModelFS</td>\n      <td>rf</td>\n      <td>0.885842</td>\n      <td>0.917266</td>\n      <td>0.885842</td>\n      <td>0.845571</td>\n      <td>0.879961</td>\n    </tr>\n    <tr>\n      <th>46</th>\n      <td>ecfp4</td>\n      <td>none</td>\n      <td>dnn</td>\n      <td>0.885050</td>\n      <td>0.908266</td>\n      <td>0.885050</td>\n      <td>0.853624</td>\n      <td>0.880098</td>\n    </tr>\n    <tr>\n      <th>9</th>\n      <td>atompair_fp</td>\n      <td>Boruta</td>\n      <td>dnn</td>\n      <td>0.884695</td>\n      <td>0.944110</td>\n      <td>0.884695</td>\n      <td>0.816201</td>\n      <td>0.875508</td>\n    </tr>\n    <tr>\n      <th>19</th>\n      <td>ecfp8</td>\n      <td>SelectFromModelFS</td>\n      <td>rf</td>\n      <td>0.884332</td>\n      <td>0.922234</td>\n      <td>0.884332</td>\n      <td>0.837044</td>\n      <td>0.877576</td>\n    </tr>\n    <tr>\n      <th>8</th>\n      <td>atompair_fp</td>\n      <td>SelectFromModelFS</td>\n      <td>dnn</td>\n      <td>0.882445</td>\n      <td>0.951794</td>\n      <td>0.882445</td>\n      <td>0.804358</td>\n      <td>0.871887</td>\n    </tr>\n    <tr>\n      <th>2</th>\n      <td>atompair_fp</td>\n      <td>Boruta</td>\n      <td>rf</td>\n      <td>0.881994</td>\n      <td>0.950224</td>\n      <td>0.881994</td>\n      <td>0.804832</td>\n      <td>0.871506</td>\n    </tr>\n    <tr>\n      <th>20</th>\n      <td>ecfp8</td>\n      <td>SelectFromModelFS</td>\n      <td>dnn</td>\n      <td>0.880935</td>\n      <td>0.926596</td>\n      <td>0.880935</td>\n      <td>0.825201</td>\n      <td>0.872964</td>\n    </tr>\n    <tr>\n      <th>15</th>\n      <td>ecfp8</td>\n      <td>none</td>\n      <td>svm</td>\n      <td>0.880424</td>\n      <td>0.914552</td>\n      <td>0.880424</td>\n      <td>0.836570</td>\n      <td>0.873825</td>\n    </tr>\n    <tr>\n      <th>6</th>\n      <td>atompair_fp</td>\n      <td>SelectFromModelFS</td>\n      <td>svm</td>\n      <td>0.878833</td>\n      <td>0.924428</td>\n      <td>0.878833</td>\n      <td>0.822833</td>\n      <td>0.870677</td>\n    </tr>\n    <tr>\n      <th>3</th>\n      <td>atompair_fp</td>\n      <td>none</td>\n      <td>svm</td>\n      <td>0.878626</td>\n      <td>0.937466</td>\n      <td>0.878626</td>\n      <td>0.809569</td>\n      <td>0.868836</td>\n    </tr>\n    <tr>\n      <th>1</th>\n      <td>atompair_fp</td>\n      <td>Boruta</td>\n      <td>svm</td>\n      <td>0.877448</td>\n      <td>0.921933</td>\n      <td>0.877448</td>\n      <td>0.822359</td>\n      <td>0.869304</td>\n    </tr>\n    <tr>\n      <th>22</th>\n      <td>ecfp8</td>\n      <td>none</td>\n      <td>dnn</td>\n      <td>0.876508</td>\n      <td>0.907407</td>\n      <td>0.876508</td>\n      <td>0.835623</td>\n      <td>0.870037</td>\n    </tr>\n    <tr>\n      <th>12</th>\n      <td>ecfp8</td>\n      <td>none</td>\n      <td>rf</td>\n      <td>0.875687</td>\n      <td>0.943417</td>\n      <td>0.875687</td>\n      <td>0.797726</td>\n      <td>0.864476</td>\n    </tr>\n    <tr>\n      <th>50</th>\n      <td>2d</td>\n      <td>none</td>\n      <td>svm</td>\n      <td>0.875581</td>\n      <td>0.932819</td>\n      <td>0.875581</td>\n      <td>0.807436</td>\n      <td>0.865611</td>\n    </tr>\n    <tr>\n      <th>35</th>\n      <td>rdk</td>\n      <td>KbestFS</td>\n      <td>dnn</td>\n      <td>0.875486</td>\n      <td>0.898134</td>\n      <td>0.875486</td>\n      <td>0.843676</td>\n      <td>0.870054</td>\n    </tr>\n    <tr>\n      <th>52</th>\n      <td>2d</td>\n      <td>KbestFS</td>\n      <td>svm</td>\n      <td>0.871845</td>\n      <td>0.942581</td>\n      <td>0.871845</td>\n      <td>0.790276</td>\n      <td>0.859736</td>\n    </tr>\n    <tr>\n      <th>28</th>\n      <td>rdk</td>\n      <td>KbestFS</td>\n      <td>rf</td>\n      <td>0.871157</td>\n      <td>0.929160</td>\n      <td>0.871157</td>\n      <td>0.801516</td>\n      <td>0.860631</td>\n    </tr>\n    <tr>\n      <th>45</th>\n      <td>ecfp4</td>\n      <td>Boruta</td>\n      <td>dnn</td>\n      <td>0.870749</td>\n      <td>0.884501</td>\n      <td>0.870749</td>\n      <td>0.848887</td>\n      <td>0.866328</td>\n    </tr>\n    <tr>\n      <th>48</th>\n      <td>2d</td>\n      <td>Boruta</td>\n      <td>svm</td>\n      <td>0.868178</td>\n      <td>0.932622</td>\n      <td>0.868178</td>\n      <td>0.791706</td>\n      <td>0.856406</td>\n    </tr>\n    <tr>\n      <th>38</th>\n      <td>ecfp4</td>\n      <td>Boruta</td>\n      <td>rf</td>\n      <td>0.867686</td>\n      <td>0.923414</td>\n      <td>0.867686</td>\n      <td>0.799621</td>\n      <td>0.857070</td>\n    </tr>\n    <tr>\n      <th>53</th>\n      <td>2d</td>\n      <td>SelectFromModelFS</td>\n      <td>svm</td>\n      <td>0.867594</td>\n      <td>0.924393</td>\n      <td>0.867594</td>\n      <td>0.798379</td>\n      <td>0.856777</td>\n    </tr>\n    <tr>\n      <th>29</th>\n      <td>rdk</td>\n      <td>KbestFS</td>\n      <td>svm</td>\n      <td>0.867338</td>\n      <td>0.946367</td>\n      <td>0.867338</td>\n      <td>0.777357</td>\n      <td>0.853576</td>\n    </tr>\n    <tr>\n      <th>47</th>\n      <td>ecfp4</td>\n      <td>KbestFS</td>\n      <td>dnn</td>\n      <td>0.867123</td>\n      <td>0.900415</td>\n      <td>0.867123</td>\n      <td>0.822359</td>\n      <td>0.859619</td>\n    </tr>\n    <tr>\n      <th>13</th>\n      <td>ecfp8</td>\n      <td>Boruta</td>\n      <td>svm</td>\n      <td>0.866953</td>\n      <td>0.910202</td>\n      <td>0.866953</td>\n      <td>0.811464</td>\n      <td>0.858002</td>\n    </tr>\n    <tr>\n      <th>21</th>\n      <td>ecfp8</td>\n      <td>Boruta</td>\n      <td>dnn</td>\n      <td>0.866715</td>\n      <td>0.883906</td>\n      <td>0.866715</td>\n      <td>0.840360</td>\n      <td>0.861583</td>\n    </tr>\n    <tr>\n      <th>37</th>\n      <td>ecfp4</td>\n      <td>Boruta</td>\n      <td>svm</td>\n      <td>0.866657</td>\n      <td>0.913673</td>\n      <td>0.866657</td>\n      <td>0.807200</td>\n      <td>0.857143</td>\n    </tr>\n    <tr>\n      <th>14</th>\n      <td>ecfp8</td>\n      <td>Boruta</td>\n      <td>rf</td>\n      <td>0.865184</td>\n      <td>0.931538</td>\n      <td>0.865184</td>\n      <td>0.786357</td>\n      <td>0.852813</td>\n    </tr>\n    <tr>\n      <th>11</th>\n      <td>atompair_fp</td>\n      <td>KbestFS</td>\n      <td>dnn</td>\n      <td>0.863327</td>\n      <td>0.944800</td>\n      <td>0.863327</td>\n      <td>0.770251</td>\n      <td>0.848643</td>\n    </tr>\n    <tr>\n      <th>16</th>\n      <td>ecfp8</td>\n      <td>KbestFS</td>\n      <td>rf</td>\n      <td>0.862993</td>\n      <td>0.919780</td>\n      <td>0.862993</td>\n      <td>0.792989</td>\n      <td>0.851692</td>\n    </tr>\n    <tr>\n      <th>4</th>\n      <td>atompair_fp</td>\n      <td>KbestFS</td>\n      <td>rf</td>\n      <td>0.862949</td>\n      <td>0.938109</td>\n      <td>0.862949</td>\n      <td>0.775462</td>\n      <td>0.849066</td>\n    </tr>\n    <tr>\n      <th>23</th>\n      <td>ecfp8</td>\n      <td>KbestFS</td>\n      <td>dnn</td>\n      <td>0.859537</td>\n      <td>0.928167</td>\n      <td>0.859537</td>\n      <td>0.777357</td>\n      <td>0.846094</td>\n    </tr>\n    <tr>\n      <th>40</th>\n      <td>ecfp4</td>\n      <td>KbestFS</td>\n      <td>rf</td>\n      <td>0.859025</td>\n      <td>0.901169</td>\n      <td>0.859025</td>\n      <td>0.803411</td>\n      <td>0.849487</td>\n    </tr>\n    <tr>\n      <th>17</th>\n      <td>ecfp8</td>\n      <td>KbestFS</td>\n      <td>svm</td>\n      <td>0.858219</td>\n      <td>0.936885</td>\n      <td>0.858219</td>\n      <td>0.766461</td>\n      <td>0.843147</td>\n    </tr>\n    <tr>\n      <th>41</th>\n      <td>ecfp4</td>\n      <td>KbestFS</td>\n      <td>svm</td>\n      <td>0.857227</td>\n      <td>0.923901</td>\n      <td>0.857227</td>\n      <td>0.776409</td>\n      <td>0.843758</td>\n    </tr>\n    <tr>\n      <th>5</th>\n      <td>atompair_fp</td>\n      <td>KbestFS</td>\n      <td>svm</td>\n      <td>0.852964</td>\n      <td>0.956442</td>\n      <td>0.852964</td>\n      <td>0.738513</td>\n      <td>0.833467</td>\n    </tr>\n  </tbody>\n</table>\n</div>"
     },
     "execution_count": 2,
     "metadata": {},
     "output_type": "execute_result"
    }
   ],
   "source": [
    "import pandas as pd\n",
    "\n",
    "res = pd.read_csv(\"results.csv\")\n",
    "res.sort_values([\"test_roc_auc_score\", \"test_precision_score\"], ascending=False)"
   ],
   "metadata": {
    "collapsed": false,
    "pycharm": {
     "name": "#%%\n"
    }
   }
  }
 ],
 "metadata": {
  "kernelspec": {
   "display_name": "Python 3",
   "language": "python",
   "name": "python3"
  },
  "language_info": {
   "codemirror_mode": {
    "name": "ipython",
    "version": 2
   },
   "file_extension": ".py",
   "mimetype": "text/x-python",
   "name": "python",
   "nbconvert_exporter": "python",
   "pygments_lexer": "ipython2",
   "version": "2.7.6"
  }
 },
 "nbformat": 4,
 "nbformat_minor": 0
}