{
 "cells": [
  {
   "cell_type": "code",
   "execution_count": null,
   "metadata": {
    "collapsed": true,
    "pycharm": {
     "name": "#%%\n"
    }
   },
   "outputs": [],
   "source": []
  },
  {
   "cell_type": "code",
   "execution_count": 1,
   "outputs": [
    {
     "name": "stdout",
     "output_type": "stream",
     "text": [
      "Featurizing datapoint 0\n",
      "error in smile: <rdkit.Chem.rdchem.Mol object at 0x7facda4add00>\n",
      "error in smile: <rdkit.Chem.rdchem.Mol object at 0x7fad242e9210>\n",
      "error in smile: <rdkit.Chem.rdchem.Mol object at 0x7fad242e9210>\n",
      "error in smile: <rdkit.Chem.rdchem.Mol object at 0x7fad242e9210>\n",
      "error in smile: <rdkit.Chem.rdchem.Mol object at 0x7fad242e9210>\n",
      "error in smile: <rdkit.Chem.rdchem.Mol object at 0x7fad242e9210>\n",
      "error in smile: <rdkit.Chem.rdchem.Mol object at 0x7fad242e9210>\n",
      "Featurizing datapoint 1000\n",
      "error in smile: <rdkit.Chem.rdchem.Mol object at 0x7fad242e9210>\n",
      "error in smile: <rdkit.Chem.rdchem.Mol object at 0x7fad242e9210>\n",
      "error in smile: <rdkit.Chem.rdchem.Mol object at 0x7fad242e9210>\n",
      "error in smile: <rdkit.Chem.rdchem.Mol object at 0x7fad242e9210>\n",
      "error in smile: <rdkit.Chem.rdchem.Mol object at 0x7fad242e9210>\n",
      "Featurizing datapoint 2000\n",
      "error in smile: <rdkit.Chem.rdchem.Mol object at 0x7fad242e9210>\n",
      "error in smile: <rdkit.Chem.rdchem.Mol object at 0x7fad242e9210>\n",
      "error in smile: <rdkit.Chem.rdchem.Mol object at 0x7fad242e9210>\n",
      "Featurizing datapoint 3000\n",
      "Featurizing datapoint 4000\n",
      "error in smile: <rdkit.Chem.rdchem.Mol object at 0x7fad242e9210>\n",
      "error in smile: <rdkit.Chem.rdchem.Mol object at 0x7fad242e9210>\n",
      "Elements with indexes:  [66, 252, 253, 254, 255, 478, 482, 1111, 1120, 1367, 1582, 1781, 2039, 2384, 2564, 4103, 4150]  were removed due to the presence of NAs!\n",
      "Featurizing datapoint 0\n",
      "Featurizing datapoint 1000\n",
      "Featurizing datapoint 2000\n",
      "Featurizing datapoint 3000\n",
      "Featurizing datapoint 4000\n",
      "Featurizing datapoint 0\n",
      "Featurizing datapoint 1000\n",
      "Featurizing datapoint 2000\n",
      "Featurizing datapoint 3000\n",
      "Featurizing datapoint 4000\n",
      "Featurizing datapoint 0\n",
      "Featurizing datapoint 1000\n",
      "Featurizing datapoint 2000\n",
      "Featurizing datapoint 3000\n",
      "Featurizing datapoint 4000\n",
      "Featurizing datapoint 0\n",
      "Featurizing datapoint 1000\n",
      "Featurizing datapoint 2000\n",
      "Featurizing datapoint 3000\n",
      "Featurizing datapoint 4000\n"
     ]
    }
   ],
   "source": [
    "from generate_features_ml import FeaturesGenerator\n",
    "\n",
    "\n",
    "models_folder_path = \"/home/joao/Desktop/DeepSweet/resources/test_data/\"\n",
    "FeaturesGenerator(models_folder_path).featurize_test_set_all()"
   ],
   "metadata": {
    "collapsed": false,
    "pycharm": {
     "name": "#%%\n"
    }
   }
  },
  {
   "cell_type": "code",
   "execution_count": 1,
   "outputs": [
    {
     "name": "stdout",
     "output_type": "stream",
     "text": [
      "roc_auc_score: \n",
      " 0.9002381425801702\n",
      "precision_score: \n",
      " 0.917037037037037\n",
      "balanced_accuracy_score: \n",
      " 0.9002381425801702\n",
      "recall_score: \n",
      " 0.8722404884922499\n",
      "f1_score: \n",
      " 0.894077997111218\n"
     ]
    },
    {
     "name": "stderr",
     "output_type": "stream",
     "text": [
      "/home/joao/anaconda3/envs/DeepSweet/lib/python3.7/site-packages/pandas/core/indexing.py:719: FutureWarning: Slicing a positional slice with .loc is not supported, and will raise TypeError in a future version.  Use .loc with labels or .iloc with positions instead.\n",
      "  indexer = self._get_setitem_indexer(key)\n"
     ]
    },
    {
     "name": "stdout",
     "output_type": "stream",
     "text": [
      "roc_auc_score: \n",
      " 0.8929799002365375\n",
      "precision_score: \n",
      " 0.92\n",
      "balanced_accuracy_score: \n",
      " 0.8929799002365375\n",
      "recall_score: \n",
      " 0.8534523250352278\n",
      "f1_score: \n",
      " 0.885477582846004\n"
     ]
    },
    {
     "name": "stderr",
     "output_type": "stream",
     "text": [
      "/home/joao/anaconda3/envs/DeepSweet/lib/python3.7/site-packages/pandas/core/indexing.py:719: FutureWarning: Slicing a positional slice with .loc is not supported, and will raise TypeError in a future version.  Use .loc with labels or .iloc with positions instead.\n",
      "  indexer = self._get_setitem_indexer(key)\n"
     ]
    },
    {
     "name": "stdout",
     "output_type": "stream",
     "text": [
      "roc_auc_score: \n",
      " 0.9001743382659952\n",
      "precision_score: \n",
      " 0.9182763744427934\n",
      "balanced_accuracy_score: \n",
      " 0.9001743382659954\n",
      "recall_score: \n",
      " 0.8708313762329732\n",
      "f1_score: \n",
      " 0.8939247830279653\n"
     ]
    },
    {
     "name": "stderr",
     "output_type": "stream",
     "text": [
      "/home/joao/anaconda3/envs/DeepSweet/lib/python3.7/site-packages/pandas/core/indexing.py:719: FutureWarning: Slicing a positional slice with .loc is not supported, and will raise TypeError in a future version.  Use .loc with labels or .iloc with positions instead.\n",
      "  indexer = self._get_setitem_indexer(key)\n"
     ]
    },
    {
     "name": "stdout",
     "output_type": "stream",
     "text": [
      "roc_auc_score: \n",
      " 0.8879851059061327\n",
      "precision_score: \n",
      " 0.9252724442138038\n",
      "balanced_accuracy_score: \n",
      " 0.8879851059061326\n",
      "recall_score: \n",
      " 0.8374823860967591\n",
      "f1_score: \n",
      " 0.8791913214990139\n"
     ]
    },
    {
     "name": "stderr",
     "output_type": "stream",
     "text": [
      "/home/joao/anaconda3/envs/DeepSweet/lib/python3.7/site-packages/pandas/core/indexing.py:719: FutureWarning: Slicing a positional slice with .loc is not supported, and will raise TypeError in a future version.  Use .loc with labels or .iloc with positions instead.\n",
      "  indexer = self._get_setitem_indexer(key)\n"
     ]
    },
    {
     "name": "stdout",
     "output_type": "stream",
     "text": [
      "roc_auc_score: \n",
      " 0.8498938300224981\n",
      "precision_score: \n",
      " 0.9040570175438597\n",
      "balanced_accuracy_score: \n",
      " 0.8498938300224981\n",
      "recall_score: \n",
      " 0.7745420385157351\n",
      "f1_score: \n",
      " 0.8343030609663545\n"
     ]
    },
    {
     "name": "stderr",
     "output_type": "stream",
     "text": [
      "/home/joao/anaconda3/envs/DeepSweet/lib/python3.7/site-packages/pandas/core/indexing.py:719: FutureWarning: Slicing a positional slice with .loc is not supported, and will raise TypeError in a future version.  Use .loc with labels or .iloc with positions instead.\n",
      "  indexer = self._get_setitem_indexer(key)\n"
     ]
    },
    {
     "name": "stdout",
     "output_type": "stream",
     "text": [
      "roc_auc_score: \n",
      " 0.8421464212701913\n",
      "precision_score: \n",
      " 0.9178240740740741\n",
      "balanced_accuracy_score: \n",
      " 0.8421464212701915\n",
      "recall_score: \n",
      " 0.7449506810709253\n",
      "f1_score: \n",
      " 0.8224008296603578\n"
     ]
    },
    {
     "name": "stderr",
     "output_type": "stream",
     "text": [
      "/home/joao/anaconda3/envs/DeepSweet/lib/python3.7/site-packages/pandas/core/indexing.py:719: FutureWarning: Slicing a positional slice with .loc is not supported, and will raise TypeError in a future version.  Use .loc with labels or .iloc with positions instead.\n",
      "  indexer = self._get_setitem_indexer(key)\n"
     ]
    },
    {
     "name": "stdout",
     "output_type": "stream",
     "text": [
      "roc_auc_score: \n",
      " 0.8924242208399737\n",
      "precision_score: \n",
      " 0.9169184290030211\n",
      "balanced_accuracy_score: \n",
      " 0.8924242208399737\n",
      "recall_score: \n",
      " 0.85533114138093\n",
      "f1_score: \n",
      " 0.8850546780072903\n"
     ]
    },
    {
     "name": "stderr",
     "output_type": "stream",
     "text": [
      "/home/joao/anaconda3/envs/DeepSweet/lib/python3.7/site-packages/pandas/core/indexing.py:719: FutureWarning: Slicing a positional slice with .loc is not supported, and will raise TypeError in a future version.  Use .loc with labels or .iloc with positions instead.\n",
      "  indexer = self._get_setitem_indexer(key)\n"
     ]
    },
    {
     "name": "stdout",
     "output_type": "stream",
     "text": [
      "roc_auc_score: \n",
      " 0.9012635260631594\n",
      "precision_score: \n",
      " 0.9201388888888888\n",
      "balanced_accuracy_score: \n",
      " 0.9012635260631594\n",
      "recall_score: \n",
      " 0.8713010803193988\n",
      "f1_score: \n",
      " 0.8950542822677926\n"
     ]
    },
    {
     "name": "stderr",
     "output_type": "stream",
     "text": [
      "/home/joao/anaconda3/envs/DeepSweet/lib/python3.7/site-packages/pandas/core/indexing.py:719: FutureWarning: Slicing a positional slice with .loc is not supported, and will raise TypeError in a future version.  Use .loc with labels or .iloc with positions instead.\n",
      "  indexer = self._get_setitem_indexer(key)\n",
      "2022-07-18 10:14:33.709758: I tensorflow/stream_executor/cuda/cuda_gpu_executor.cc:937] successful NUMA node read from SysFS had negative value (-1), but there must be at least one NUMA node, so returning NUMA node zero\n",
      "2022-07-18 10:14:33.732681: I tensorflow/stream_executor/cuda/cuda_gpu_executor.cc:937] successful NUMA node read from SysFS had negative value (-1), but there must be at least one NUMA node, so returning NUMA node zero\n",
      "2022-07-18 10:14:33.732982: I tensorflow/stream_executor/cuda/cuda_gpu_executor.cc:937] successful NUMA node read from SysFS had negative value (-1), but there must be at least one NUMA node, so returning NUMA node zero\n",
      "2022-07-18 10:14:33.733199: I tensorflow/core/common_runtime/gpu/gpu_device.cc:1885] Ignoring visible gpu device (device: 0, name: GeForce 210, pci bus id: 0000:01:00.0, compute capability: 1.2) with Cuda compute capability 1.2. The minimum required Cuda capability is 3.5.\n",
      "2022-07-18 10:14:33.733597: I tensorflow/core/platform/cpu_feature_guard.cc:142] This TensorFlow binary is optimized with oneAPI Deep Neural Network Library (oneDNN) to use the following CPU instructions in performance-critical operations:  AVX2 FMA\n",
      "To enable them in other operations, rebuild TensorFlow with the appropriate compiler flags.\n",
      "2022-07-18 10:14:35.722347: I tensorflow/compiler/mlir/mlir_graph_optimization_pass.cc:185] None of the MLIR Optimization Passes are enabled (registered 2)\n"
     ]
    },
    {
     "name": "stdout",
     "output_type": "stream",
     "text": [
      "roc_auc_score: \n",
      " 0.8921174384614412\n",
      "precision_score: \n",
      " 0.8796125461254612\n",
      "balanced_accuracy_score: \n",
      " 0.8921174384614412\n",
      "recall_score: \n",
      " 0.8957256928135274\n",
      "f1_score: \n",
      " 0.8875959972073539\n"
     ]
    },
    {
     "name": "stderr",
     "output_type": "stream",
     "text": [
      "/home/joao/anaconda3/envs/DeepSweet/lib/python3.7/site-packages/pandas/core/indexing.py:719: FutureWarning: Slicing a positional slice with .loc is not supported, and will raise TypeError in a future version.  Use .loc with labels or .iloc with positions instead.\n",
      "  indexer = self._get_setitem_indexer(key)\n"
     ]
    },
    {
     "name": "stdout",
     "output_type": "stream",
     "text": [
      "roc_auc_score: \n",
      " 0.8916708082622172\n",
      "precision_score: \n",
      " 0.8871119473189087\n",
      "balanced_accuracy_score: \n",
      " 0.8916708082622173\n",
      "recall_score: \n",
      " 0.8858619069985909\n",
      "f1_score: \n",
      " 0.8864864864864865\n"
     ]
    },
    {
     "name": "stderr",
     "output_type": "stream",
     "text": [
      "/home/joao/anaconda3/envs/DeepSweet/lib/python3.7/site-packages/pandas/core/indexing.py:719: FutureWarning: Slicing a positional slice with .loc is not supported, and will raise TypeError in a future version.  Use .loc with labels or .iloc with positions instead.\n",
      "  indexer = self._get_setitem_indexer(key)\n"
     ]
    },
    {
     "name": "stdout",
     "output_type": "stream",
     "text": [
      "roc_auc_score: \n",
      " 0.8917576864635937\n",
      "precision_score: \n",
      " 0.8938814531548758\n",
      "balanced_accuracy_score: \n",
      " 0.8917576864635937\n",
      "recall_score: \n",
      " 0.878346641615782\n",
      "f1_score: \n",
      " 0.8860459606728264\n"
     ]
    },
    {
     "name": "stderr",
     "output_type": "stream",
     "text": [
      "/home/joao/anaconda3/envs/DeepSweet/lib/python3.7/site-packages/pandas/core/indexing.py:719: FutureWarning: Slicing a positional slice with .loc is not supported, and will raise TypeError in a future version.  Use .loc with labels or .iloc with positions instead.\n",
      "  indexer = self._get_setitem_indexer(key)\n"
     ]
    },
    {
     "name": "stdout",
     "output_type": "stream",
     "text": [
      "roc_auc_score: \n",
      " 0.8542709464246409\n",
      "precision_score: \n",
      " 0.9068119891008174\n",
      "balanced_accuracy_score: \n",
      " 0.854270946424641\n",
      "recall_score: \n",
      " 0.7815875998121183\n",
      "f1_score: \n",
      " 0.839556004036327\n"
     ]
    },
    {
     "name": "stderr",
     "output_type": "stream",
     "text": [
      "/home/joao/anaconda3/envs/DeepSweet/lib/python3.7/site-packages/pandas/core/indexing.py:719: FutureWarning: Slicing a positional slice with .loc is not supported, and will raise TypeError in a future version.  Use .loc with labels or .iloc with positions instead.\n",
      "  indexer = self._get_setitem_indexer(key)\n"
     ]
    },
    {
     "name": "stdout",
     "output_type": "stream",
     "text": [
      "roc_auc_score: \n",
      " 0.8784661242229869\n",
      "precision_score: \n",
      " 0.9420529801324503\n",
      "balanced_accuracy_score: \n",
      " 0.8784661242229869\n",
      "recall_score: \n",
      " 0.8017848755284172\n",
      "f1_score: \n",
      " 0.8662775945191575\n"
     ]
    },
    {
     "name": "stderr",
     "output_type": "stream",
     "text": [
      "/home/joao/anaconda3/envs/DeepSweet/lib/python3.7/site-packages/pandas/core/indexing.py:719: FutureWarning: Slicing a positional slice with .loc is not supported, and will raise TypeError in a future version.  Use .loc with labels or .iloc with positions instead.\n",
      "  indexer = self._get_setitem_indexer(key)\n"
     ]
    },
    {
     "name": "stdout",
     "output_type": "stream",
     "text": [
      "roc_auc_score: \n",
      " 0.8728251607296886\n",
      "precision_score: \n",
      " 0.9154780771262546\n",
      "balanced_accuracy_score: \n",
      " 0.8728251607296886\n",
      "recall_score: \n",
      " 0.8139971817754814\n",
      "f1_score: \n",
      " 0.8617603182496271\n"
     ]
    },
    {
     "name": "stderr",
     "output_type": "stream",
     "text": [
      "/home/joao/anaconda3/envs/DeepSweet/lib/python3.7/site-packages/pandas/core/indexing.py:719: FutureWarning: Slicing a positional slice with .loc is not supported, and will raise TypeError in a future version.  Use .loc with labels or .iloc with positions instead.\n",
      "  indexer = self._get_setitem_indexer(key)\n"
     ]
    },
    {
     "name": "stdout",
     "output_type": "stream",
     "text": [
      "roc_auc_score: \n",
      " 0.8749433435747952\n",
      "precision_score: \n",
      " 0.9415692821368948\n",
      "balanced_accuracy_score: \n",
      " 0.8749433435747952\n",
      "recall_score: \n",
      " 0.7947393142320338\n",
      "f1_score: \n",
      " 0.8619460010188487\n"
     ]
    },
    {
     "name": "stderr",
     "output_type": "stream",
     "text": [
      "/home/joao/anaconda3/envs/DeepSweet/lib/python3.7/site-packages/pandas/core/indexing.py:719: FutureWarning: Slicing a positional slice with .loc is not supported, and will raise TypeError in a future version.  Use .loc with labels or .iloc with positions instead.\n",
      "  indexer = self._get_setitem_indexer(key)\n"
     ]
    },
    {
     "name": "stdout",
     "output_type": "stream",
     "text": [
      "roc_auc_score: \n",
      " 0.8832002839492623\n",
      "precision_score: \n",
      " 0.9118246687054027\n",
      "balanced_accuracy_score: \n",
      " 0.8832002839492623\n",
      "recall_score: \n",
      " 0.8403006106153124\n",
      "f1_score: \n",
      " 0.8746027866047421\n"
     ]
    },
    {
     "name": "stderr",
     "output_type": "stream",
     "text": [
      "/home/joao/anaconda3/envs/DeepSweet/lib/python3.7/site-packages/pandas/core/indexing.py:719: FutureWarning: Slicing a positional slice with .loc is not supported, and will raise TypeError in a future version.  Use .loc with labels or .iloc with positions instead.\n",
      "  indexer = self._get_setitem_indexer(key)\n"
     ]
    },
    {
     "name": "stdout",
     "output_type": "stream",
     "text": [
      "roc_auc_score: \n",
      " 0.8602743705895017\n",
      "precision_score: \n",
      " 0.9309564233163554\n",
      "balanced_accuracy_score: \n",
      " 0.8602743705895017\n",
      "recall_score: \n",
      " 0.7726632221700329\n",
      "f1_score: \n",
      " 0.8444558521560576\n"
     ]
    },
    {
     "name": "stderr",
     "output_type": "stream",
     "text": [
      "/home/joao/anaconda3/envs/DeepSweet/lib/python3.7/site-packages/pandas/core/indexing.py:719: FutureWarning: Slicing a positional slice with .loc is not supported, and will raise TypeError in a future version.  Use .loc with labels or .iloc with positions instead.\n",
      "  indexer = self._get_setitem_indexer(key)\n"
     ]
    },
    {
     "name": "stdout",
     "output_type": "stream",
     "text": [
      "roc_auc_score: \n",
      " 0.8555773297252461\n",
      "precision_score: \n",
      " 0.9301659988551803\n",
      "balanced_accuracy_score: \n",
      " 0.8555773297252462\n",
      "recall_score: \n",
      " 0.7632691404415218\n",
      "f1_score: \n",
      " 0.8384932920536635\n"
     ]
    },
    {
     "name": "stderr",
     "output_type": "stream",
     "text": [
      "/home/joao/anaconda3/envs/DeepSweet/lib/python3.7/site-packages/pandas/core/indexing.py:719: FutureWarning: Slicing a positional slice with .loc is not supported, and will raise TypeError in a future version.  Use .loc with labels or .iloc with positions instead.\n",
      "  indexer = self._get_setitem_indexer(key)\n"
     ]
    },
    {
     "name": "stdout",
     "output_type": "stream",
     "text": [
      "roc_auc_score: \n",
      " 0.8815359544332863\n",
      "precision_score: \n",
      " 0.9166666666666666\n",
      "balanced_accuracy_score: \n",
      " 0.8815359544332863\n",
      "recall_score: \n",
      " 0.8318459370596524\n",
      "f1_score: \n",
      " 0.8721989657719773\n"
     ]
    },
    {
     "name": "stderr",
     "output_type": "stream",
     "text": [
      "/home/joao/anaconda3/envs/DeepSweet/lib/python3.7/site-packages/pandas/core/indexing.py:719: FutureWarning: Slicing a positional slice with .loc is not supported, and will raise TypeError in a future version.  Use .loc with labels or .iloc with positions instead.\n",
      "  indexer = self._get_setitem_indexer(key)\n"
     ]
    },
    {
     "name": "stdout",
     "output_type": "stream",
     "text": [
      "roc_auc_score: \n",
      " 0.8905481131679865\n",
      "precision_score: \n",
      " 0.931070496083551\n",
      "balanced_accuracy_score: \n",
      " 0.8905481131679865\n",
      "recall_score: \n",
      " 0.8374823860967591\n",
      "f1_score: \n",
      " 0.8818001978239368\n"
     ]
    },
    {
     "name": "stderr",
     "output_type": "stream",
     "text": [
      "/home/joao/anaconda3/envs/DeepSweet/lib/python3.7/site-packages/pandas/core/indexing.py:719: FutureWarning: Slicing a positional slice with .loc is not supported, and will raise TypeError in a future version.  Use .loc with labels or .iloc with positions instead.\n",
      "  indexer = self._get_setitem_indexer(key)\n"
     ]
    },
    {
     "name": "stdout",
     "output_type": "stream",
     "text": [
      "roc_auc_score: \n",
      " 0.8773918842918795\n",
      "precision_score: \n",
      " 0.904786150712831\n",
      "balanced_accuracy_score: \n",
      " 0.8773918842918795\n",
      "recall_score: \n",
      " 0.8346641615782058\n",
      "f1_score: \n",
      " 0.8683117517713169\n"
     ]
    },
    {
     "name": "stderr",
     "output_type": "stream",
     "text": [
      "/home/joao/anaconda3/envs/DeepSweet/lib/python3.7/site-packages/pandas/core/indexing.py:719: FutureWarning: Slicing a positional slice with .loc is not supported, and will raise TypeError in a future version.  Use .loc with labels or .iloc with positions instead.\n",
      "  indexer = self._get_setitem_indexer(key)\n"
     ]
    },
    {
     "name": "stdout",
     "output_type": "stream",
     "text": [
      "roc_auc_score: \n",
      " 0.8647266276069229\n",
      "precision_score: \n",
      " 0.8795240456122955\n",
      "balanced_accuracy_score: \n",
      " 0.8647266276069229\n",
      "recall_score: \n",
      " 0.833255049318929\n",
      "f1_score: \n",
      " 0.8557645923781959\n"
     ]
    },
    {
     "name": "stderr",
     "output_type": "stream",
     "text": [
      "/home/joao/anaconda3/envs/DeepSweet/lib/python3.7/site-packages/pandas/core/indexing.py:719: FutureWarning: Slicing a positional slice with .loc is not supported, and will raise TypeError in a future version.  Use .loc with labels or .iloc with positions instead.\n",
      "  indexer = self._get_setitem_indexer(key)\n"
     ]
    },
    {
     "name": "stdout",
     "output_type": "stream",
     "text": [
      "roc_auc_score: \n",
      " 0.8843940064875745\n",
      "precision_score: \n",
      " 0.9025360517155644\n",
      "balanced_accuracy_score: \n",
      " 0.8843940064875746\n",
      "recall_score: \n",
      " 0.8525129168623767\n",
      "f1_score: \n",
      " 0.8768115942028986\n"
     ]
    },
    {
     "name": "stderr",
     "output_type": "stream",
     "text": [
      "/home/joao/anaconda3/envs/DeepSweet/lib/python3.7/site-packages/pandas/core/indexing.py:719: FutureWarning: Slicing a positional slice with .loc is not supported, and will raise TypeError in a future version.  Use .loc with labels or .iloc with positions instead.\n",
      "  indexer = self._get_setitem_indexer(key)\n"
     ]
    },
    {
     "name": "stdout",
     "output_type": "stream",
     "text": [
      "roc_auc_score: \n",
      " 0.8617604292465333\n",
      "precision_score: \n",
      " 0.8857868020304569\n",
      "balanced_accuracy_score: \n",
      " 0.8617604292465333\n",
      "recall_score: \n",
      " 0.8196336308125881\n",
      "f1_score: \n",
      " 0.8514271773603317\n"
     ]
    },
    {
     "name": "stderr",
     "output_type": "stream",
     "text": [
      "/home/joao/anaconda3/envs/DeepSweet/lib/python3.7/site-packages/pandas/core/indexing.py:719: FutureWarning: Slicing a positional slice with .loc is not supported, and will raise TypeError in a future version.  Use .loc with labels or .iloc with positions instead.\n",
      "  indexer = self._get_setitem_indexer(key)\n"
     ]
    },
    {
     "name": "stdout",
     "output_type": "stream",
     "text": [
      "roc_auc_score: \n",
      " 0.8980651843332719\n",
      "precision_score: \n",
      " 0.9422572178477691\n",
      "balanced_accuracy_score: \n",
      " 0.898065184333272\n",
      "recall_score: \n",
      " 0.8431188351338657\n",
      "f1_score: \n",
      " 0.8899355478433317\n"
     ]
    },
    {
     "name": "stderr",
     "output_type": "stream",
     "text": [
      "/home/joao/anaconda3/envs/DeepSweet/lib/python3.7/site-packages/pandas/core/indexing.py:719: FutureWarning: Slicing a positional slice with .loc is not supported, and will raise TypeError in a future version.  Use .loc with labels or .iloc with positions instead.\n",
      "  indexer = self._get_setitem_indexer(key)\n"
     ]
    },
    {
     "name": "stdout",
     "output_type": "stream",
     "text": [
      "roc_auc_score: \n",
      " 0.8907997188597326\n",
      "precision_score: \n",
      " 0.9070687098368759\n",
      "balanced_accuracy_score: \n",
      " 0.8907997188597326\n",
      "recall_score: \n",
      " 0.8619069985908877\n",
      "f1_score: \n",
      " 0.8839113680154141\n"
     ]
    },
    {
     "name": "stderr",
     "output_type": "stream",
     "text": [
      "/home/joao/anaconda3/envs/DeepSweet/lib/python3.7/site-packages/pandas/core/indexing.py:719: FutureWarning: Slicing a positional slice with .loc is not supported, and will raise TypeError in a future version.  Use .loc with labels or .iloc with positions instead.\n",
      "  indexer = self._get_setitem_indexer(key)\n"
     ]
    },
    {
     "name": "stdout",
     "output_type": "stream",
     "text": [
      "roc_auc_score: \n",
      " 0.9029545410312905\n",
      "precision_score: \n",
      " 0.9438085327783559\n",
      "balanced_accuracy_score: \n",
      " 0.9029545410312905\n",
      "recall_score: \n",
      " 0.8520432127759512\n",
      "f1_score: \n",
      " 0.8955813379412491\n"
     ]
    },
    {
     "name": "stderr",
     "output_type": "stream",
     "text": [
      "/home/joao/anaconda3/envs/DeepSweet/lib/python3.7/site-packages/pandas/core/indexing.py:719: FutureWarning: Slicing a positional slice with .loc is not supported, and will raise TypeError in a future version.  Use .loc with labels or .iloc with positions instead.\n",
      "  indexer = self._get_setitem_indexer(key)\n"
     ]
    },
    {
     "name": "stdout",
     "output_type": "stream",
     "text": [
      "roc_auc_score: \n",
      " 0.8831346738526108\n",
      "precision_score: \n",
      " 0.9039039039039038\n",
      "balanced_accuracy_score: \n",
      " 0.8831346738526108\n",
      "recall_score: \n",
      " 0.8482855800845467\n",
      "f1_score: \n",
      " 0.8752120184153137\n"
     ]
    },
    {
     "name": "stderr",
     "output_type": "stream",
     "text": [
      "/home/joao/anaconda3/envs/DeepSweet/lib/python3.7/site-packages/pandas/core/indexing.py:719: FutureWarning: Slicing a positional slice with .loc is not supported, and will raise TypeError in a future version.  Use .loc with labels or .iloc with positions instead.\n",
      "  indexer = self._get_setitem_indexer(key)\n"
     ]
    },
    {
     "name": "stdout",
     "output_type": "stream",
     "text": [
      "roc_auc_score: \n",
      " 0.8772022771318316\n",
      "precision_score: \n",
      " 0.9180672268907563\n",
      "balanced_accuracy_score: \n",
      " 0.8772022771318315\n",
      "recall_score: \n",
      " 0.8210427430718648\n",
      "f1_score: \n",
      " 0.8668484998760229\n"
     ]
    },
    {
     "name": "stderr",
     "output_type": "stream",
     "text": [
      "/home/joao/anaconda3/envs/DeepSweet/lib/python3.7/site-packages/pandas/core/indexing.py:719: FutureWarning: Slicing a positional slice with .loc is not supported, and will raise TypeError in a future version.  Use .loc with labels or .iloc with positions instead.\n",
      "  indexer = self._get_setitem_indexer(key)\n"
     ]
    },
    {
     "name": "stdout",
     "output_type": "stream",
     "text": [
      "roc_auc_score: \n",
      " 0.8649519491315089\n",
      "precision_score: \n",
      " 0.9432013769363167\n",
      "balanced_accuracy_score: \n",
      " 0.864951949131509\n",
      "recall_score: \n",
      " 0.7721935180836074\n",
      "f1_score: \n",
      " 0.8491735537190083\n"
     ]
    },
    {
     "name": "stderr",
     "output_type": "stream",
     "text": [
      "/home/joao/anaconda3/envs/DeepSweet/lib/python3.7/site-packages/pandas/core/indexing.py:719: FutureWarning: Slicing a positional slice with .loc is not supported, and will raise TypeError in a future version.  Use .loc with labels or .iloc with positions instead.\n",
      "  indexer = self._get_setitem_indexer(key)\n"
     ]
    },
    {
     "name": "stdout",
     "output_type": "stream",
     "text": [
      "roc_auc_score: \n",
      " 0.8960320739070652\n",
      "precision_score: \n",
      " 0.9158785465405674\n",
      "balanced_accuracy_score: \n",
      " 0.8960320739070652\n",
      "recall_score: \n",
      " 0.8642555190230155\n",
      "f1_score: \n",
      " 0.889318511358144\n"
     ]
    },
    {
     "name": "stderr",
     "output_type": "stream",
     "text": [
      "/home/joao/anaconda3/envs/DeepSweet/lib/python3.7/site-packages/pandas/core/indexing.py:719: FutureWarning: Slicing a positional slice with .loc is not supported, and will raise TypeError in a future version.  Use .loc with labels or .iloc with positions instead.\n",
      "  indexer = self._get_setitem_indexer(key)\n"
     ]
    },
    {
     "name": "stdout",
     "output_type": "stream",
     "text": [
      "roc_auc_score: \n",
      " 0.8983860116866229\n",
      "precision_score: \n",
      " 0.9455890121500264\n",
      "balanced_accuracy_score: \n",
      " 0.8983860116866229\n",
      "recall_score: \n",
      " 0.8407703147017379\n",
      "f1_score: \n",
      " 0.8901044256588763\n"
     ]
    },
    {
     "name": "stderr",
     "output_type": "stream",
     "text": [
      "/home/joao/anaconda3/envs/DeepSweet/lib/python3.7/site-packages/pandas/core/indexing.py:719: FutureWarning: Slicing a positional slice with .loc is not supported, and will raise TypeError in a future version.  Use .loc with labels or .iloc with positions instead.\n",
      "  indexer = self._get_setitem_indexer(key)\n"
     ]
    },
    {
     "name": "stdout",
     "output_type": "stream",
     "text": [
      "roc_auc_score: \n",
      " 0.9018793982089447\n",
      "precision_score: \n",
      " 0.9040572792362769\n",
      "balanced_accuracy_score: \n",
      " 0.9018793982089447\n",
      "recall_score: \n",
      " 0.8896195396899953\n",
      "f1_score: \n",
      " 0.896780303030303\n"
     ]
    },
    {
     "name": "stderr",
     "output_type": "stream",
     "text": [
      "/home/joao/anaconda3/envs/DeepSweet/lib/python3.7/site-packages/pandas/core/indexing.py:719: FutureWarning: Slicing a positional slice with .loc is not supported, and will raise TypeError in a future version.  Use .loc with labels or .iloc with positions instead.\n",
      "  indexer = self._get_setitem_indexer(key)\n"
     ]
    },
    {
     "name": "stdout",
     "output_type": "stream",
     "text": [
      "roc_auc_score: \n",
      " 0.9016934026138501\n",
      "precision_score: \n",
      " 0.9354177344951307\n",
      "balanced_accuracy_score: \n",
      " 0.9016934026138501\n",
      "recall_score: \n",
      " 0.8572099577266322\n",
      "f1_score: \n",
      " 0.8946078431372548\n"
     ]
    },
    {
     "name": "stderr",
     "output_type": "stream",
     "text": [
      "/home/joao/anaconda3/envs/DeepSweet/lib/python3.7/site-packages/pandas/core/indexing.py:719: FutureWarning: Slicing a positional slice with .loc is not supported, and will raise TypeError in a future version.  Use .loc with labels or .iloc with positions instead.\n",
      "  indexer = self._get_setitem_indexer(key)\n"
     ]
    },
    {
     "name": "stdout",
     "output_type": "stream",
     "text": [
      "roc_auc_score: \n",
      " 0.9005137250503562\n",
      "precision_score: \n",
      " 0.9073359073359073\n",
      "balanced_accuracy_score: \n",
      " 0.9005137250503563\n",
      "recall_score: \n",
      " 0.8830436824800376\n",
      "f1_score: \n",
      " 0.895024994049036\n"
     ]
    },
    {
     "name": "stderr",
     "output_type": "stream",
     "text": [
      "/home/joao/anaconda3/envs/DeepSweet/lib/python3.7/site-packages/pandas/core/indexing.py:719: FutureWarning: Slicing a positional slice with .loc is not supported, and will raise TypeError in a future version.  Use .loc with labels or .iloc with positions instead.\n",
      "  indexer = self._get_setitem_indexer(key)\n"
     ]
    },
    {
     "name": "stdout",
     "output_type": "stream",
     "text": [
      "roc_auc_score: \n",
      " 0.8726523072181741\n",
      "precision_score: \n",
      " 0.904639175257732\n",
      "balanced_accuracy_score: \n",
      " 0.872652307218174\n",
      "recall_score: \n",
      " 0.8243306716768436\n",
      "f1_score: \n",
      " 0.8626198083067093\n"
     ]
    },
    {
     "name": "stderr",
     "output_type": "stream",
     "text": [
      "/home/joao/anaconda3/envs/DeepSweet/lib/python3.7/site-packages/pandas/core/indexing.py:719: FutureWarning: Slicing a positional slice with .loc is not supported, and will raise TypeError in a future version.  Use .loc with labels or .iloc with positions instead.\n",
      "  indexer = self._get_setitem_indexer(key)\n"
     ]
    },
    {
     "name": "stdout",
     "output_type": "stream",
     "text": [
      "roc_auc_score: \n",
      " 0.8929604379142891\n",
      "precision_score: \n",
      " 0.9300880372863801\n",
      "balanced_accuracy_score: \n",
      " 0.8929604379142891\n",
      "recall_score: \n",
      " 0.8435885392202912\n",
      "f1_score: \n",
      " 0.8847290640394089\n"
     ]
    },
    {
     "name": "stderr",
     "output_type": "stream",
     "text": [
      "/home/joao/anaconda3/envs/DeepSweet/lib/python3.7/site-packages/pandas/core/indexing.py:719: FutureWarning: Slicing a positional slice with .loc is not supported, and will raise TypeError in a future version.  Use .loc with labels or .iloc with positions instead.\n",
      "  indexer = self._get_setitem_indexer(key)\n"
     ]
    },
    {
     "name": "stdout",
     "output_type": "stream",
     "text": [
      "roc_auc_score: \n",
      " 0.870412835983386\n",
      "precision_score: \n",
      " 0.9163558870538092\n",
      "balanced_accuracy_score: \n",
      " 0.870412835983386\n",
      "recall_score: \n",
      " 0.8078910286519493\n",
      "f1_score: \n",
      " 0.8587119321018473\n"
     ]
    },
    {
     "name": "stderr",
     "output_type": "stream",
     "text": [
      "/home/joao/anaconda3/envs/DeepSweet/lib/python3.7/site-packages/pandas/core/indexing.py:719: FutureWarning: Slicing a positional slice with .loc is not supported, and will raise TypeError in a future version.  Use .loc with labels or .iloc with positions instead.\n",
      "  indexer = self._get_setitem_indexer(key)\n"
     ]
    },
    {
     "name": "stdout",
     "output_type": "stream",
     "text": [
      "roc_auc_score: \n",
      " 0.873235574958131\n",
      "precision_score: \n",
      " 0.9428251121076233\n",
      "balanced_accuracy_score: \n",
      " 0.8732355749581309\n",
      "recall_score: \n",
      " 0.7900422733677783\n",
      "f1_score: \n",
      " 0.85969844109379\n"
     ]
    },
    {
     "name": "stderr",
     "output_type": "stream",
     "text": [
      "/home/joao/anaconda3/envs/DeepSweet/lib/python3.7/site-packages/pandas/core/indexing.py:719: FutureWarning: Slicing a positional slice with .loc is not supported, and will raise TypeError in a future version.  Use .loc with labels or .iloc with positions instead.\n",
      "  indexer = self._get_setitem_indexer(key)\n"
     ]
    },
    {
     "name": "stdout",
     "output_type": "stream",
     "text": [
      "roc_auc_score: \n",
      " 0.8900313584159195\n",
      "precision_score: \n",
      " 0.9081429990069514\n",
      "balanced_accuracy_score: \n",
      " 0.8900313584159194\n",
      "recall_score: \n",
      " 0.8590887740723344\n",
      "f1_score: \n",
      " 0.8829350712044413\n"
     ]
    },
    {
     "name": "stderr",
     "output_type": "stream",
     "text": [
      "/home/joao/anaconda3/envs/DeepSweet/lib/python3.7/site-packages/pandas/core/indexing.py:719: FutureWarning: Slicing a positional slice with .loc is not supported, and will raise TypeError in a future version.  Use .loc with labels or .iloc with positions instead.\n",
      "  indexer = self._get_setitem_indexer(key)\n"
     ]
    },
    {
     "name": "stdout",
     "output_type": "stream",
     "text": [
      "roc_auc_score: \n",
      " 0.8740039354019441\n",
      "precision_score: \n",
      " 0.9414389291689905\n",
      "balanced_accuracy_score: \n",
      " 0.8740039354019441\n",
      "recall_score: \n",
      " 0.7928604978863316\n",
      "f1_score: \n",
      " 0.8607853136155023\n"
     ]
    },
    {
     "name": "stderr",
     "output_type": "stream",
     "text": [
      "/home/joao/anaconda3/envs/DeepSweet/lib/python3.7/site-packages/pandas/core/indexing.py:719: FutureWarning: Slicing a positional slice with .loc is not supported, and will raise TypeError in a future version.  Use .loc with labels or .iloc with positions instead.\n",
      "  indexer = self._get_setitem_indexer(key)\n"
     ]
    },
    {
     "name": "stdout",
     "output_type": "stream",
     "text": [
      "roc_auc_score: \n",
      " 0.8647578275152694\n",
      "precision_score: \n",
      " 0.9312080536912751\n",
      "balanced_accuracy_score: \n",
      " 0.8647578275152694\n",
      "recall_score: \n",
      " 0.7820573038985439\n",
      "f1_score: \n",
      " 0.8501404135818228\n"
     ]
    },
    {
     "name": "stderr",
     "output_type": "stream",
     "text": [
      "/home/joao/anaconda3/envs/DeepSweet/lib/python3.7/site-packages/pandas/core/indexing.py:719: FutureWarning: Slicing a positional slice with .loc is not supported, and will raise TypeError in a future version.  Use .loc with labels or .iloc with positions instead.\n",
      "  indexer = self._get_setitem_indexer(key)\n"
     ]
    },
    {
     "name": "stdout",
     "output_type": "stream",
     "text": [
      "roc_auc_score: \n",
      " 0.888579709947193\n",
      "precision_score: \n",
      " 0.9086826347305389\n",
      "balanced_accuracy_score: \n",
      " 0.8885797099471929\n",
      "recall_score: \n",
      " 0.85533114138093\n",
      "f1_score: \n",
      " 0.8812000967819985\n"
     ]
    },
    {
     "name": "stderr",
     "output_type": "stream",
     "text": [
      "/home/joao/anaconda3/envs/DeepSweet/lib/python3.7/site-packages/pandas/core/indexing.py:719: FutureWarning: Slicing a positional slice with .loc is not supported, and will raise TypeError in a future version.  Use .loc with labels or .iloc with positions instead.\n",
      "  indexer = self._get_setitem_indexer(key)\n"
     ]
    },
    {
     "name": "stdout",
     "output_type": "stream",
     "text": [
      "roc_auc_score: \n",
      " 0.8909938404759722\n",
      "precision_score: \n",
      " 0.917087967644085\n",
      "balanced_accuracy_score: \n",
      " 0.8909938404759722\n",
      "recall_score: \n",
      " 0.8520432127759512\n",
      "f1_score: \n",
      " 0.8833698563428294\n"
     ]
    },
    {
     "name": "stderr",
     "output_type": "stream",
     "text": [
      "/home/joao/anaconda3/envs/DeepSweet/lib/python3.7/site-packages/pandas/core/indexing.py:719: FutureWarning: Slicing a positional slice with .loc is not supported, and will raise TypeError in a future version.  Use .loc with labels or .iloc with positions instead.\n",
      "  indexer = self._get_setitem_indexer(key)\n"
     ]
    },
    {
     "name": "stdout",
     "output_type": "stream",
     "text": [
      "roc_auc_score: \n",
      " 0.8881507362877407\n",
      "precision_score: \n",
      " 0.89892578125\n",
      "balanced_accuracy_score: \n",
      " 0.8881507362877405\n",
      "recall_score: \n",
      " 0.864725223109441\n",
      "f1_score: \n",
      " 0.8814938951400526\n"
     ]
    },
    {
     "name": "stderr",
     "output_type": "stream",
     "text": [
      "/home/joao/anaconda3/envs/DeepSweet/lib/python3.7/site-packages/pandas/core/indexing.py:719: FutureWarning: Slicing a positional slice with .loc is not supported, and will raise TypeError in a future version.  Use .loc with labels or .iloc with positions instead.\n",
      "  indexer = self._get_setitem_indexer(key)\n"
     ]
    },
    {
     "name": "stdout",
     "output_type": "stream",
     "text": [
      "roc_auc_score: \n",
      " 0.8722260422324367\n",
      "precision_score: \n",
      " 0.9083810515356585\n",
      "balanced_accuracy_score: \n",
      " 0.8722260422324367\n",
      "recall_score: \n",
      " 0.8196336308125881\n",
      "f1_score: \n",
      " 0.8617283950617284\n"
     ]
    },
    {
     "name": "stderr",
     "output_type": "stream",
     "text": [
      "/home/joao/anaconda3/envs/DeepSweet/lib/python3.7/site-packages/pandas/core/indexing.py:719: FutureWarning: Slicing a positional slice with .loc is not supported, and will raise TypeError in a future version.  Use .loc with labels or .iloc with positions instead.\n",
      "  indexer = self._get_setitem_indexer(key)\n"
     ]
    },
    {
     "name": "stdout",
     "output_type": "stream",
     "text": [
      "roc_auc_score: \n",
      " 0.8915893474082708\n",
      "precision_score: \n",
      " 0.9056047197640118\n",
      "balanced_accuracy_score: \n",
      " 0.8915893474082708\n",
      "recall_score: \n",
      " 0.8651949271958667\n",
      "f1_score: \n",
      " 0.8849387460965651\n"
     ]
    },
    {
     "name": "stderr",
     "output_type": "stream",
     "text": [
      "/home/joao/anaconda3/envs/DeepSweet/lib/python3.7/site-packages/pandas/core/indexing.py:719: FutureWarning: Slicing a positional slice with .loc is not supported, and will raise TypeError in a future version.  Use .loc with labels or .iloc with positions instead.\n",
      "  indexer = self._get_setitem_indexer(key)\n"
     ]
    },
    {
     "name": "stdout",
     "output_type": "stream",
     "text": [
      "roc_auc_score: \n",
      " 0.8809608127144744\n",
      "precision_score: \n",
      " 0.9236440231700895\n",
      "balanced_accuracy_score: \n",
      " 0.8809608127144744\n",
      "recall_score: \n",
      " 0.823860967590418\n",
      "f1_score: \n",
      " 0.8709036742800398\n"
     ]
    },
    {
     "name": "stderr",
     "output_type": "stream",
     "text": [
      "/home/joao/anaconda3/envs/DeepSweet/lib/python3.7/site-packages/pandas/core/indexing.py:719: FutureWarning: Slicing a positional slice with .loc is not supported, and will raise TypeError in a future version.  Use .loc with labels or .iloc with positions instead.\n",
      "  indexer = self._get_setitem_indexer(key)\n"
     ]
    },
    {
     "name": "stdout",
     "output_type": "stream",
     "text": [
      "roc_auc_score: \n",
      " 0.9043280691238909\n",
      "precision_score: \n",
      " 0.9119649805447471\n",
      "balanced_accuracy_score: \n",
      " 0.9043280691238909\n",
      "recall_score: \n",
      " 0.8861058601134215\n",
      "f1_score: \n",
      " 0.8988494726749761\n"
     ]
    },
    {
     "name": "stderr",
     "output_type": "stream",
     "text": [
      "/home/joao/anaconda3/envs/DeepSweet/lib/python3.7/site-packages/pandas/core/indexing.py:719: FutureWarning: Slicing a positional slice with .loc is not supported, and will raise TypeError in a future version.  Use .loc with labels or .iloc with positions instead.\n",
      "  indexer = self._get_setitem_indexer(key)\n"
     ]
    },
    {
     "name": "stdout",
     "output_type": "stream",
     "text": [
      "roc_auc_score: \n",
      " 0.8826749835999007\n",
      "precision_score: \n",
      " 0.8976143141153081\n",
      "balanced_accuracy_score: \n",
      " 0.8826749835999007\n",
      "recall_score: \n",
      " 0.8534971644612477\n",
      "f1_score: \n",
      " 0.875\n"
     ]
    },
    {
     "name": "stderr",
     "output_type": "stream",
     "text": [
      "/home/joao/anaconda3/envs/DeepSweet/lib/python3.7/site-packages/pandas/core/indexing.py:719: FutureWarning: Slicing a positional slice with .loc is not supported, and will raise TypeError in a future version.  Use .loc with labels or .iloc with positions instead.\n",
      "  indexer = self._get_setitem_indexer(key)\n"
     ]
    },
    {
     "name": "stdout",
     "output_type": "stream",
     "text": [
      "roc_auc_score: \n",
      " 0.9030667174645084\n",
      "precision_score: \n",
      " 0.9089147286821705\n",
      "balanced_accuracy_score: \n",
      " 0.9030667174645083\n",
      "recall_score: \n",
      " 0.8865784499054821\n",
      "f1_score: \n",
      " 0.8976076555023923\n"
     ]
    },
    {
     "name": "stderr",
     "output_type": "stream",
     "text": [
      "/home/joao/anaconda3/envs/DeepSweet/lib/python3.7/site-packages/pandas/core/indexing.py:719: FutureWarning: Slicing a positional slice with .loc is not supported, and will raise TypeError in a future version.  Use .loc with labels or .iloc with positions instead.\n",
      "  indexer = self._get_setitem_indexer(key)\n"
     ]
    },
    {
     "name": "stdout",
     "output_type": "stream",
     "text": [
      "roc_auc_score: \n",
      " 0.8908592600501669\n",
      "precision_score: \n",
      " 0.9094547273636818\n",
      "balanced_accuracy_score: \n",
      " 0.8908592600501669\n",
      "recall_score: \n",
      " 0.8591682419659735\n",
      "f1_score: \n",
      " 0.8835965978128797\n"
     ]
    },
    {
     "name": "stderr",
     "output_type": "stream",
     "text": [
      "/home/joao/anaconda3/envs/DeepSweet/lib/python3.7/site-packages/pandas/core/indexing.py:719: FutureWarning: Slicing a positional slice with .loc is not supported, and will raise TypeError in a future version.  Use .loc with labels or .iloc with positions instead.\n",
      "  indexer = self._get_setitem_indexer(key)\n"
     ]
    },
    {
     "name": "stdout",
     "output_type": "stream",
     "text": [
      "roc_auc_score: \n",
      " 0.900556855160632\n",
      "precision_score: \n",
      " 0.9068413391557496\n",
      "balanced_accuracy_score: \n",
      " 0.900556855160632\n",
      "recall_score: \n",
      " 0.8832703213610587\n",
      "f1_score: \n",
      " 0.8949006463969356\n"
     ]
    },
    {
     "name": "stderr",
     "output_type": "stream",
     "text": [
      "/home/joao/anaconda3/envs/DeepSweet/lib/python3.7/site-packages/pandas/core/indexing.py:719: FutureWarning: Slicing a positional slice with .loc is not supported, and will raise TypeError in a future version.  Use .loc with labels or .iloc with positions instead.\n",
      "  indexer = self._get_setitem_indexer(key)\n"
     ]
    },
    {
     "name": "stdout",
     "output_type": "stream",
     "text": [
      "roc_auc_score: \n",
      " 0.8802354941020308\n",
      "precision_score: \n",
      " 0.9027848101265823\n",
      "balanced_accuracy_score: \n",
      " 0.8802354941020308\n",
      "recall_score: \n",
      " 0.8426275992438563\n",
      "f1_score: \n",
      " 0.8716695184551455\n"
     ]
    },
    {
     "name": "stderr",
     "output_type": "stream",
     "text": [
      "/home/joao/anaconda3/envs/DeepSweet/lib/python3.7/site-packages/pandas/core/indexing.py:719: FutureWarning: Slicing a positional slice with .loc is not supported, and will raise TypeError in a future version.  Use .loc with labels or .iloc with positions instead.\n",
      "  indexer = self._get_setitem_indexer(key)\n"
     ]
    },
    {
     "name": "stdout",
     "output_type": "stream",
     "text": [
      "roc_auc_score: \n",
      " 0.8801712890275853\n",
      "precision_score: \n",
      " 0.8830917874396135\n",
      "balanced_accuracy_score: \n",
      " 0.8801712890275853\n",
      "recall_score: \n",
      " 0.8638941398865785\n",
      "f1_score: \n",
      " 0.8733874820831343\n"
     ]
    },
    {
     "name": "stderr",
     "output_type": "stream",
     "text": [
      "/home/joao/anaconda3/envs/DeepSweet/lib/python3.7/site-packages/pandas/core/indexing.py:719: FutureWarning: Slicing a positional slice with .loc is not supported, and will raise TypeError in a future version.  Use .loc with labels or .iloc with positions instead.\n",
      "  indexer = self._get_setitem_indexer(key)\n"
     ]
    },
    {
     "name": "stdout",
     "output_type": "stream",
     "text": [
      "roc_auc_score: \n",
      " 0.9054648528278139\n",
      "precision_score: \n",
      " 0.912980068060282\n",
      "balanced_accuracy_score: \n",
      " 0.905464852827814\n",
      "recall_score: \n",
      " 0.8875236294896031\n",
      "f1_score: \n",
      " 0.9000718907260964\n"
     ]
    },
    {
     "name": "stderr",
     "output_type": "stream",
     "text": [
      "/home/joao/anaconda3/envs/DeepSweet/lib/python3.7/site-packages/pandas/core/indexing.py:719: FutureWarning: Slicing a positional slice with .loc is not supported, and will raise TypeError in a future version.  Use .loc with labels or .iloc with positions instead.\n",
      "  indexer = self._get_setitem_indexer(key)\n"
     ]
    },
    {
     "name": "stdout",
     "output_type": "stream",
     "text": [
      "roc_auc_score: \n",
      " 0.8932663942349303\n",
      "precision_score: \n",
      " 0.8806870937790158\n",
      "balanced_accuracy_score: \n",
      " 0.8932663942349303\n",
      "recall_score: \n",
      " 0.8965028355387523\n",
      "f1_score: \n",
      " 0.8885245901639344\n"
     ]
    },
    {
     "name": "stderr",
     "output_type": "stream",
     "text": [
      "/home/joao/anaconda3/envs/DeepSweet/lib/python3.7/site-packages/pandas/core/indexing.py:719: FutureWarning: Slicing a positional slice with .loc is not supported, and will raise TypeError in a future version.  Use .loc with labels or .iloc with positions instead.\n",
      "  indexer = self._get_setitem_indexer(key)\n"
     ]
    },
    {
     "name": "stdout",
     "output_type": "stream",
     "text": [
      "roc_auc_score: \n",
      " 0.8954600844635449\n",
      "precision_score: \n",
      " 0.880129091747349\n",
      "balanced_accuracy_score: \n",
      " 0.8954600844635449\n",
      "recall_score: \n",
      " 0.9021739130434783\n",
      "f1_score: \n",
      " 0.8910151691948658\n"
     ]
    },
    {
     "name": "stderr",
     "output_type": "stream",
     "text": [
      "/home/joao/anaconda3/envs/DeepSweet/lib/python3.7/site-packages/pandas/core/indexing.py:719: FutureWarning: Slicing a positional slice with .loc is not supported, and will raise TypeError in a future version.  Use .loc with labels or .iloc with positions instead.\n",
      "  indexer = self._get_setitem_indexer(key)\n"
     ]
    },
    {
     "name": "stdout",
     "output_type": "stream",
     "text": [
      "roc_auc_score: \n",
      " 0.8990301899337768\n",
      "precision_score: \n",
      " 0.8881640260950606\n",
      "balanced_accuracy_score: \n",
      " 0.8990301899337768\n",
      "recall_score: \n",
      " 0.9007561436672968\n",
      "f1_score: \n",
      " 0.8944157672454247\n"
     ]
    },
    {
     "name": "stderr",
     "output_type": "stream",
     "text": [
      "/home/joao/anaconda3/envs/DeepSweet/lib/python3.7/site-packages/pandas/core/indexing.py:719: FutureWarning: Slicing a positional slice with .loc is not supported, and will raise TypeError in a future version.  Use .loc with labels or .iloc with positions instead.\n",
      "  indexer = self._get_setitem_indexer(key)\n"
     ]
    },
    {
     "name": "stdout",
     "output_type": "stream",
     "text": [
      "roc_auc_score: \n",
      " 0.8971716805268739\n",
      "precision_score: \n",
      " 0.8833873206848681\n",
      "balanced_accuracy_score: \n",
      " 0.8971716805268739\n",
      "recall_score: \n",
      " 0.9021739130434783\n",
      "f1_score: \n",
      " 0.8926817862988076\n"
     ]
    },
    {
     "name": "stderr",
     "output_type": "stream",
     "text": [
      "/home/joao/anaconda3/envs/DeepSweet/lib/python3.7/site-packages/pandas/core/indexing.py:719: FutureWarning: Slicing a positional slice with .loc is not supported, and will raise TypeError in a future version.  Use .loc with labels or .iloc with positions instead.\n",
      "  indexer = self._get_setitem_indexer(key)\n"
     ]
    }
   ],
   "source": [
    "import os\n",
    "from reports import ResultsReport\n",
    "\n",
    "models_folder_path = \"/home/joao/Desktop/DeepSweet/resources/test_data/\"\n",
    "ResultsReport(\"cpu\",os.path.join(models_folder_path, \"train_dataset.csv\"), os.path.join(models_folder_path, \"test_dataset.csv\"), \"\").run_all_ml(models_folder_path, \"results.csv\", False)"
   ],
   "metadata": {
    "collapsed": false,
    "pycharm": {
     "name": "#%%\n"
    }
   }
  },
  {
   "cell_type": "code",
   "execution_count": 6,
   "outputs": [
    {
     "data": {
      "text/plain": "     descriptor  feature selection algorithm  test_roc_auc_score  \\\n55           2d  SelectFromModelFS        rf            0.905465   \n48           2d               none        rf            0.904328   \n50           2d             Boruta        rf            0.903067   \n26          rdk             Boruta        rf            0.902955   \n32          rdk  SelectFromModelFS       dnn            0.901879   \n33          rdk             Boruta       dnn            0.901693   \n7   atompair_fp  SelectFromModelFS        rf            0.901264   \n52           2d            KbestFS        rf            0.900557   \n34          rdk               none       dnn            0.900514   \n0   atompair_fp               none        rf            0.900238   \n2   atompair_fp             Boruta        rf            0.900174   \n58           2d               none       dnn            0.899030   \n31          rdk  SelectFromModelFS        rf            0.898386   \n24          rdk               none        rf            0.898065   \n59           2d            KbestFS       dnn            0.897172   \n30          rdk  SelectFromModelFS       svm            0.896032   \n57           2d             Boruta       dnn            0.895460   \n56           2d  SelectFromModelFS       dnn            0.893266   \n1   atompair_fp             Boruta       svm            0.892980   \n36        ecfp4               none        rf            0.892960   \n6   atompair_fp  SelectFromModelFS       svm            0.892424   \n8   atompair_fp  SelectFromModelFS       dnn            0.892117   \n10  atompair_fp               none       dnn            0.891758   \n9   atompair_fp             Boruta       dnn            0.891671   \n46        ecfp4               none       dnn            0.891589   \n43        ecfp4  SelectFromModelFS        rf            0.890994   \n51           2d               none       svm            0.890859   \n25          rdk             Boruta       svm            0.890800   \n19        ecfp8  SelectFromModelFS        rf            0.890548   \n39        ecfp4               none       svm            0.890031   \n42        ecfp4  SelectFromModelFS       svm            0.888580   \n44        ecfp4  SelectFromModelFS       dnn            0.888151   \n3   atompair_fp               none       svm            0.887985   \n22        ecfp8               none       dnn            0.884394   \n15        ecfp8               none       svm            0.883200   \n27          rdk               none       svm            0.883135   \n49           2d             Boruta       svm            0.882675   \n18        ecfp8  SelectFromModelFS       svm            0.881536   \n47        ecfp4            KbestFS       dnn            0.880961   \n53           2d            KbestFS       svm            0.880235   \n54           2d  SelectFromModelFS       svm            0.880171   \n12        ecfp8               none        rf            0.878466   \n20        ecfp8  SelectFromModelFS       dnn            0.877392   \n28          rdk            KbestFS        rf            0.877202   \n14        ecfp8             Boruta        rf            0.874943   \n40        ecfp4            KbestFS        rf            0.874004   \n38        ecfp4             Boruta        rf            0.873236   \n13        ecfp8             Boruta       svm            0.872825   \n35          rdk            KbestFS       dnn            0.872652   \n45        ecfp4             Boruta       dnn            0.872226   \n37        ecfp4             Boruta       svm            0.870413   \n29          rdk            KbestFS       svm            0.864952   \n41        ecfp4            KbestFS       svm            0.864758   \n21        ecfp8             Boruta       dnn            0.864727   \n23        ecfp8            KbestFS       dnn            0.861760   \n16        ecfp8            KbestFS        rf            0.860274   \n17        ecfp8            KbestFS       svm            0.855577   \n11  atompair_fp            KbestFS       dnn            0.854271   \n4   atompair_fp            KbestFS        rf            0.849894   \n5   atompair_fp            KbestFS       svm            0.842146   \n\n    test_precision_score  test_ner_score  test_recall_score  test_f1_score  \n55              0.912980        0.905465           0.887524       0.900072  \n48              0.911965        0.904328           0.886106       0.898849  \n50              0.908915        0.903067           0.886578       0.897608  \n26              0.943809        0.902955           0.852043       0.895581  \n32              0.904057        0.901879           0.889620       0.896780  \n33              0.935418        0.901693           0.857210       0.894608  \n7               0.920139        0.901264           0.871301       0.895054  \n52              0.906841        0.900557           0.883270       0.894901  \n34              0.907336        0.900514           0.883044       0.895025  \n0               0.917037        0.900238           0.872240       0.894078  \n2               0.918276        0.900174           0.870831       0.893925  \n58              0.888164        0.899030           0.900756       0.894416  \n31              0.945589        0.898386           0.840770       0.890104  \n24              0.942257        0.898065           0.843119       0.889936  \n59              0.883387        0.897172           0.902174       0.892682  \n30              0.915879        0.896032           0.864256       0.889319  \n57              0.880129        0.895460           0.902174       0.891015  \n56              0.880687        0.893266           0.896503       0.888525  \n1               0.920000        0.892980           0.853452       0.885478  \n36              0.930088        0.892960           0.843589       0.884729  \n6               0.916918        0.892424           0.855331       0.885055  \n8               0.879613        0.892117           0.895726       0.887596  \n10              0.893881        0.891758           0.878347       0.886046  \n9               0.887112        0.891671           0.885862       0.886486  \n46              0.905605        0.891589           0.865195       0.884939  \n43              0.917088        0.890994           0.852043       0.883370  \n51              0.909455        0.890859           0.859168       0.883597  \n25              0.907069        0.890800           0.861907       0.883911  \n19              0.931070        0.890548           0.837482       0.881800  \n39              0.908143        0.890031           0.859089       0.882935  \n42              0.908683        0.888580           0.855331       0.881200  \n44              0.898926        0.888151           0.864725       0.881494  \n3               0.925272        0.887985           0.837482       0.879191  \n22              0.902536        0.884394           0.852513       0.876812  \n15              0.911825        0.883200           0.840301       0.874603  \n27              0.903904        0.883135           0.848286       0.875212  \n49              0.897614        0.882675           0.853497       0.875000  \n18              0.916667        0.881536           0.831846       0.872199  \n47              0.923644        0.880961           0.823861       0.870904  \n53              0.902785        0.880235           0.842628       0.871670  \n54              0.883092        0.880171           0.863894       0.873387  \n12              0.942053        0.878466           0.801785       0.866278  \n20              0.904786        0.877392           0.834664       0.868312  \n28              0.918067        0.877202           0.821043       0.866848  \n14              0.941569        0.874943           0.794739       0.861946  \n40              0.941439        0.874004           0.792860       0.860785  \n38              0.942825        0.873236           0.790042       0.859698  \n13              0.915478        0.872825           0.813997       0.861760  \n35              0.904639        0.872652           0.824331       0.862620  \n45              0.908381        0.872226           0.819634       0.861728  \n37              0.916356        0.870413           0.807891       0.858712  \n29              0.943201        0.864952           0.772194       0.849174  \n41              0.931208        0.864758           0.782057       0.850140  \n21              0.879524        0.864727           0.833255       0.855765  \n23              0.885787        0.861760           0.819634       0.851427  \n16              0.930956        0.860274           0.772663       0.844456  \n17              0.930166        0.855577           0.763269       0.838493  \n11              0.906812        0.854271           0.781588       0.839556  \n4               0.904057        0.849894           0.774542       0.834303  \n5               0.917824        0.842146           0.744951       0.822401  ",
      "text/html": "<div>\n<style scoped>\n    .dataframe tbody tr th:only-of-type {\n        vertical-align: middle;\n    }\n\n    .dataframe tbody tr th {\n        vertical-align: top;\n    }\n\n    .dataframe thead th {\n        text-align: right;\n    }\n</style>\n<table border=\"1\" class=\"dataframe\">\n  <thead>\n    <tr style=\"text-align: right;\">\n      <th></th>\n      <th>descriptor</th>\n      <th>feature selection</th>\n      <th>algorithm</th>\n      <th>test_roc_auc_score</th>\n      <th>test_precision_score</th>\n      <th>test_ner_score</th>\n      <th>test_recall_score</th>\n      <th>test_f1_score</th>\n    </tr>\n  </thead>\n  <tbody>\n    <tr>\n      <th>55</th>\n      <td>2d</td>\n      <td>SelectFromModelFS</td>\n      <td>rf</td>\n      <td>0.905465</td>\n      <td>0.912980</td>\n      <td>0.905465</td>\n      <td>0.887524</td>\n      <td>0.900072</td>\n    </tr>\n    <tr>\n      <th>48</th>\n      <td>2d</td>\n      <td>none</td>\n      <td>rf</td>\n      <td>0.904328</td>\n      <td>0.911965</td>\n      <td>0.904328</td>\n      <td>0.886106</td>\n      <td>0.898849</td>\n    </tr>\n    <tr>\n      <th>50</th>\n      <td>2d</td>\n      <td>Boruta</td>\n      <td>rf</td>\n      <td>0.903067</td>\n      <td>0.908915</td>\n      <td>0.903067</td>\n      <td>0.886578</td>\n      <td>0.897608</td>\n    </tr>\n    <tr>\n      <th>26</th>\n      <td>rdk</td>\n      <td>Boruta</td>\n      <td>rf</td>\n      <td>0.902955</td>\n      <td>0.943809</td>\n      <td>0.902955</td>\n      <td>0.852043</td>\n      <td>0.895581</td>\n    </tr>\n    <tr>\n      <th>32</th>\n      <td>rdk</td>\n      <td>SelectFromModelFS</td>\n      <td>dnn</td>\n      <td>0.901879</td>\n      <td>0.904057</td>\n      <td>0.901879</td>\n      <td>0.889620</td>\n      <td>0.896780</td>\n    </tr>\n    <tr>\n      <th>33</th>\n      <td>rdk</td>\n      <td>Boruta</td>\n      <td>dnn</td>\n      <td>0.901693</td>\n      <td>0.935418</td>\n      <td>0.901693</td>\n      <td>0.857210</td>\n      <td>0.894608</td>\n    </tr>\n    <tr>\n      <th>7</th>\n      <td>atompair_fp</td>\n      <td>SelectFromModelFS</td>\n      <td>rf</td>\n      <td>0.901264</td>\n      <td>0.920139</td>\n      <td>0.901264</td>\n      <td>0.871301</td>\n      <td>0.895054</td>\n    </tr>\n    <tr>\n      <th>52</th>\n      <td>2d</td>\n      <td>KbestFS</td>\n      <td>rf</td>\n      <td>0.900557</td>\n      <td>0.906841</td>\n      <td>0.900557</td>\n      <td>0.883270</td>\n      <td>0.894901</td>\n    </tr>\n    <tr>\n      <th>34</th>\n      <td>rdk</td>\n      <td>none</td>\n      <td>dnn</td>\n      <td>0.900514</td>\n      <td>0.907336</td>\n      <td>0.900514</td>\n      <td>0.883044</td>\n      <td>0.895025</td>\n    </tr>\n    <tr>\n      <th>0</th>\n      <td>atompair_fp</td>\n      <td>none</td>\n      <td>rf</td>\n      <td>0.900238</td>\n      <td>0.917037</td>\n      <td>0.900238</td>\n      <td>0.872240</td>\n      <td>0.894078</td>\n    </tr>\n    <tr>\n      <th>2</th>\n      <td>atompair_fp</td>\n      <td>Boruta</td>\n      <td>rf</td>\n      <td>0.900174</td>\n      <td>0.918276</td>\n      <td>0.900174</td>\n      <td>0.870831</td>\n      <td>0.893925</td>\n    </tr>\n    <tr>\n      <th>58</th>\n      <td>2d</td>\n      <td>none</td>\n      <td>dnn</td>\n      <td>0.899030</td>\n      <td>0.888164</td>\n      <td>0.899030</td>\n      <td>0.900756</td>\n      <td>0.894416</td>\n    </tr>\n    <tr>\n      <th>31</th>\n      <td>rdk</td>\n      <td>SelectFromModelFS</td>\n      <td>rf</td>\n      <td>0.898386</td>\n      <td>0.945589</td>\n      <td>0.898386</td>\n      <td>0.840770</td>\n      <td>0.890104</td>\n    </tr>\n    <tr>\n      <th>24</th>\n      <td>rdk</td>\n      <td>none</td>\n      <td>rf</td>\n      <td>0.898065</td>\n      <td>0.942257</td>\n      <td>0.898065</td>\n      <td>0.843119</td>\n      <td>0.889936</td>\n    </tr>\n    <tr>\n      <th>59</th>\n      <td>2d</td>\n      <td>KbestFS</td>\n      <td>dnn</td>\n      <td>0.897172</td>\n      <td>0.883387</td>\n      <td>0.897172</td>\n      <td>0.902174</td>\n      <td>0.892682</td>\n    </tr>\n    <tr>\n      <th>30</th>\n      <td>rdk</td>\n      <td>SelectFromModelFS</td>\n      <td>svm</td>\n      <td>0.896032</td>\n      <td>0.915879</td>\n      <td>0.896032</td>\n      <td>0.864256</td>\n      <td>0.889319</td>\n    </tr>\n    <tr>\n      <th>57</th>\n      <td>2d</td>\n      <td>Boruta</td>\n      <td>dnn</td>\n      <td>0.895460</td>\n      <td>0.880129</td>\n      <td>0.895460</td>\n      <td>0.902174</td>\n      <td>0.891015</td>\n    </tr>\n    <tr>\n      <th>56</th>\n      <td>2d</td>\n      <td>SelectFromModelFS</td>\n      <td>dnn</td>\n      <td>0.893266</td>\n      <td>0.880687</td>\n      <td>0.893266</td>\n      <td>0.896503</td>\n      <td>0.888525</td>\n    </tr>\n    <tr>\n      <th>1</th>\n      <td>atompair_fp</td>\n      <td>Boruta</td>\n      <td>svm</td>\n      <td>0.892980</td>\n      <td>0.920000</td>\n      <td>0.892980</td>\n      <td>0.853452</td>\n      <td>0.885478</td>\n    </tr>\n    <tr>\n      <th>36</th>\n      <td>ecfp4</td>\n      <td>none</td>\n      <td>rf</td>\n      <td>0.892960</td>\n      <td>0.930088</td>\n      <td>0.892960</td>\n      <td>0.843589</td>\n      <td>0.884729</td>\n    </tr>\n    <tr>\n      <th>6</th>\n      <td>atompair_fp</td>\n      <td>SelectFromModelFS</td>\n      <td>svm</td>\n      <td>0.892424</td>\n      <td>0.916918</td>\n      <td>0.892424</td>\n      <td>0.855331</td>\n      <td>0.885055</td>\n    </tr>\n    <tr>\n      <th>8</th>\n      <td>atompair_fp</td>\n      <td>SelectFromModelFS</td>\n      <td>dnn</td>\n      <td>0.892117</td>\n      <td>0.879613</td>\n      <td>0.892117</td>\n      <td>0.895726</td>\n      <td>0.887596</td>\n    </tr>\n    <tr>\n      <th>10</th>\n      <td>atompair_fp</td>\n      <td>none</td>\n      <td>dnn</td>\n      <td>0.891758</td>\n      <td>0.893881</td>\n      <td>0.891758</td>\n      <td>0.878347</td>\n      <td>0.886046</td>\n    </tr>\n    <tr>\n      <th>9</th>\n      <td>atompair_fp</td>\n      <td>Boruta</td>\n      <td>dnn</td>\n      <td>0.891671</td>\n      <td>0.887112</td>\n      <td>0.891671</td>\n      <td>0.885862</td>\n      <td>0.886486</td>\n    </tr>\n    <tr>\n      <th>46</th>\n      <td>ecfp4</td>\n      <td>none</td>\n      <td>dnn</td>\n      <td>0.891589</td>\n      <td>0.905605</td>\n      <td>0.891589</td>\n      <td>0.865195</td>\n      <td>0.884939</td>\n    </tr>\n    <tr>\n      <th>43</th>\n      <td>ecfp4</td>\n      <td>SelectFromModelFS</td>\n      <td>rf</td>\n      <td>0.890994</td>\n      <td>0.917088</td>\n      <td>0.890994</td>\n      <td>0.852043</td>\n      <td>0.883370</td>\n    </tr>\n    <tr>\n      <th>51</th>\n      <td>2d</td>\n      <td>none</td>\n      <td>svm</td>\n      <td>0.890859</td>\n      <td>0.909455</td>\n      <td>0.890859</td>\n      <td>0.859168</td>\n      <td>0.883597</td>\n    </tr>\n    <tr>\n      <th>25</th>\n      <td>rdk</td>\n      <td>Boruta</td>\n      <td>svm</td>\n      <td>0.890800</td>\n      <td>0.907069</td>\n      <td>0.890800</td>\n      <td>0.861907</td>\n      <td>0.883911</td>\n    </tr>\n    <tr>\n      <th>19</th>\n      <td>ecfp8</td>\n      <td>SelectFromModelFS</td>\n      <td>rf</td>\n      <td>0.890548</td>\n      <td>0.931070</td>\n      <td>0.890548</td>\n      <td>0.837482</td>\n      <td>0.881800</td>\n    </tr>\n    <tr>\n      <th>39</th>\n      <td>ecfp4</td>\n      <td>none</td>\n      <td>svm</td>\n      <td>0.890031</td>\n      <td>0.908143</td>\n      <td>0.890031</td>\n      <td>0.859089</td>\n      <td>0.882935</td>\n    </tr>\n    <tr>\n      <th>42</th>\n      <td>ecfp4</td>\n      <td>SelectFromModelFS</td>\n      <td>svm</td>\n      <td>0.888580</td>\n      <td>0.908683</td>\n      <td>0.888580</td>\n      <td>0.855331</td>\n      <td>0.881200</td>\n    </tr>\n    <tr>\n      <th>44</th>\n      <td>ecfp4</td>\n      <td>SelectFromModelFS</td>\n      <td>dnn</td>\n      <td>0.888151</td>\n      <td>0.898926</td>\n      <td>0.888151</td>\n      <td>0.864725</td>\n      <td>0.881494</td>\n    </tr>\n    <tr>\n      <th>3</th>\n      <td>atompair_fp</td>\n      <td>none</td>\n      <td>svm</td>\n      <td>0.887985</td>\n      <td>0.925272</td>\n      <td>0.887985</td>\n      <td>0.837482</td>\n      <td>0.879191</td>\n    </tr>\n    <tr>\n      <th>22</th>\n      <td>ecfp8</td>\n      <td>none</td>\n      <td>dnn</td>\n      <td>0.884394</td>\n      <td>0.902536</td>\n      <td>0.884394</td>\n      <td>0.852513</td>\n      <td>0.876812</td>\n    </tr>\n    <tr>\n      <th>15</th>\n      <td>ecfp8</td>\n      <td>none</td>\n      <td>svm</td>\n      <td>0.883200</td>\n      <td>0.911825</td>\n      <td>0.883200</td>\n      <td>0.840301</td>\n      <td>0.874603</td>\n    </tr>\n    <tr>\n      <th>27</th>\n      <td>rdk</td>\n      <td>none</td>\n      <td>svm</td>\n      <td>0.883135</td>\n      <td>0.903904</td>\n      <td>0.883135</td>\n      <td>0.848286</td>\n      <td>0.875212</td>\n    </tr>\n    <tr>\n      <th>49</th>\n      <td>2d</td>\n      <td>Boruta</td>\n      <td>svm</td>\n      <td>0.882675</td>\n      <td>0.897614</td>\n      <td>0.882675</td>\n      <td>0.853497</td>\n      <td>0.875000</td>\n    </tr>\n    <tr>\n      <th>18</th>\n      <td>ecfp8</td>\n      <td>SelectFromModelFS</td>\n      <td>svm</td>\n      <td>0.881536</td>\n      <td>0.916667</td>\n      <td>0.881536</td>\n      <td>0.831846</td>\n      <td>0.872199</td>\n    </tr>\n    <tr>\n      <th>47</th>\n      <td>ecfp4</td>\n      <td>KbestFS</td>\n      <td>dnn</td>\n      <td>0.880961</td>\n      <td>0.923644</td>\n      <td>0.880961</td>\n      <td>0.823861</td>\n      <td>0.870904</td>\n    </tr>\n    <tr>\n      <th>53</th>\n      <td>2d</td>\n      <td>KbestFS</td>\n      <td>svm</td>\n      <td>0.880235</td>\n      <td>0.902785</td>\n      <td>0.880235</td>\n      <td>0.842628</td>\n      <td>0.871670</td>\n    </tr>\n    <tr>\n      <th>54</th>\n      <td>2d</td>\n      <td>SelectFromModelFS</td>\n      <td>svm</td>\n      <td>0.880171</td>\n      <td>0.883092</td>\n      <td>0.880171</td>\n      <td>0.863894</td>\n      <td>0.873387</td>\n    </tr>\n    <tr>\n      <th>12</th>\n      <td>ecfp8</td>\n      <td>none</td>\n      <td>rf</td>\n      <td>0.878466</td>\n      <td>0.942053</td>\n      <td>0.878466</td>\n      <td>0.801785</td>\n      <td>0.866278</td>\n    </tr>\n    <tr>\n      <th>20</th>\n      <td>ecfp8</td>\n      <td>SelectFromModelFS</td>\n      <td>dnn</td>\n      <td>0.877392</td>\n      <td>0.904786</td>\n      <td>0.877392</td>\n      <td>0.834664</td>\n      <td>0.868312</td>\n    </tr>\n    <tr>\n      <th>28</th>\n      <td>rdk</td>\n      <td>KbestFS</td>\n      <td>rf</td>\n      <td>0.877202</td>\n      <td>0.918067</td>\n      <td>0.877202</td>\n      <td>0.821043</td>\n      <td>0.866848</td>\n    </tr>\n    <tr>\n      <th>14</th>\n      <td>ecfp8</td>\n      <td>Boruta</td>\n      <td>rf</td>\n      <td>0.874943</td>\n      <td>0.941569</td>\n      <td>0.874943</td>\n      <td>0.794739</td>\n      <td>0.861946</td>\n    </tr>\n    <tr>\n      <th>40</th>\n      <td>ecfp4</td>\n      <td>KbestFS</td>\n      <td>rf</td>\n      <td>0.874004</td>\n      <td>0.941439</td>\n      <td>0.874004</td>\n      <td>0.792860</td>\n      <td>0.860785</td>\n    </tr>\n    <tr>\n      <th>38</th>\n      <td>ecfp4</td>\n      <td>Boruta</td>\n      <td>rf</td>\n      <td>0.873236</td>\n      <td>0.942825</td>\n      <td>0.873236</td>\n      <td>0.790042</td>\n      <td>0.859698</td>\n    </tr>\n    <tr>\n      <th>13</th>\n      <td>ecfp8</td>\n      <td>Boruta</td>\n      <td>svm</td>\n      <td>0.872825</td>\n      <td>0.915478</td>\n      <td>0.872825</td>\n      <td>0.813997</td>\n      <td>0.861760</td>\n    </tr>\n    <tr>\n      <th>35</th>\n      <td>rdk</td>\n      <td>KbestFS</td>\n      <td>dnn</td>\n      <td>0.872652</td>\n      <td>0.904639</td>\n      <td>0.872652</td>\n      <td>0.824331</td>\n      <td>0.862620</td>\n    </tr>\n    <tr>\n      <th>45</th>\n      <td>ecfp4</td>\n      <td>Boruta</td>\n      <td>dnn</td>\n      <td>0.872226</td>\n      <td>0.908381</td>\n      <td>0.872226</td>\n      <td>0.819634</td>\n      <td>0.861728</td>\n    </tr>\n    <tr>\n      <th>37</th>\n      <td>ecfp4</td>\n      <td>Boruta</td>\n      <td>svm</td>\n      <td>0.870413</td>\n      <td>0.916356</td>\n      <td>0.870413</td>\n      <td>0.807891</td>\n      <td>0.858712</td>\n    </tr>\n    <tr>\n      <th>29</th>\n      <td>rdk</td>\n      <td>KbestFS</td>\n      <td>svm</td>\n      <td>0.864952</td>\n      <td>0.943201</td>\n      <td>0.864952</td>\n      <td>0.772194</td>\n      <td>0.849174</td>\n    </tr>\n    <tr>\n      <th>41</th>\n      <td>ecfp4</td>\n      <td>KbestFS</td>\n      <td>svm</td>\n      <td>0.864758</td>\n      <td>0.931208</td>\n      <td>0.864758</td>\n      <td>0.782057</td>\n      <td>0.850140</td>\n    </tr>\n    <tr>\n      <th>21</th>\n      <td>ecfp8</td>\n      <td>Boruta</td>\n      <td>dnn</td>\n      <td>0.864727</td>\n      <td>0.879524</td>\n      <td>0.864727</td>\n      <td>0.833255</td>\n      <td>0.855765</td>\n    </tr>\n    <tr>\n      <th>23</th>\n      <td>ecfp8</td>\n      <td>KbestFS</td>\n      <td>dnn</td>\n      <td>0.861760</td>\n      <td>0.885787</td>\n      <td>0.861760</td>\n      <td>0.819634</td>\n      <td>0.851427</td>\n    </tr>\n    <tr>\n      <th>16</th>\n      <td>ecfp8</td>\n      <td>KbestFS</td>\n      <td>rf</td>\n      <td>0.860274</td>\n      <td>0.930956</td>\n      <td>0.860274</td>\n      <td>0.772663</td>\n      <td>0.844456</td>\n    </tr>\n    <tr>\n      <th>17</th>\n      <td>ecfp8</td>\n      <td>KbestFS</td>\n      <td>svm</td>\n      <td>0.855577</td>\n      <td>0.930166</td>\n      <td>0.855577</td>\n      <td>0.763269</td>\n      <td>0.838493</td>\n    </tr>\n    <tr>\n      <th>11</th>\n      <td>atompair_fp</td>\n      <td>KbestFS</td>\n      <td>dnn</td>\n      <td>0.854271</td>\n      <td>0.906812</td>\n      <td>0.854271</td>\n      <td>0.781588</td>\n      <td>0.839556</td>\n    </tr>\n    <tr>\n      <th>4</th>\n      <td>atompair_fp</td>\n      <td>KbestFS</td>\n      <td>rf</td>\n      <td>0.849894</td>\n      <td>0.904057</td>\n      <td>0.849894</td>\n      <td>0.774542</td>\n      <td>0.834303</td>\n    </tr>\n    <tr>\n      <th>5</th>\n      <td>atompair_fp</td>\n      <td>KbestFS</td>\n      <td>svm</td>\n      <td>0.842146</td>\n      <td>0.917824</td>\n      <td>0.842146</td>\n      <td>0.744951</td>\n      <td>0.822401</td>\n    </tr>\n  </tbody>\n</table>\n</div>"
     },
     "execution_count": 6,
     "metadata": {},
     "output_type": "execute_result"
    }
   ],
   "source": [
    "import pandas as pd\n",
    "\n",
    "res = pd.read_csv(\"results.csv\")\n",
    "res.sort_values([\"test_roc_auc_score\", \"test_precision_score\"], ascending=False)"
   ],
   "metadata": {
    "collapsed": false,
    "pycharm": {
     "name": "#%%\n"
    }
   }
  }
 ],
 "metadata": {
  "kernelspec": {
   "display_name": "Python 3",
   "language": "python",
   "name": "python3"
  },
  "language_info": {
   "codemirror_mode": {
    "name": "ipython",
    "version": 2
   },
   "file_extension": ".py",
   "mimetype": "text/x-python",
   "name": "python",
   "nbconvert_exporter": "python",
   "pygments_lexer": "ipython2",
   "version": "2.7.6"
  }
 },
 "nbformat": 4,
 "nbformat_minor": 0
}