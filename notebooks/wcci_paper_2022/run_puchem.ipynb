{
 "cells": [
  {
   "cell_type": "markdown",
   "id": "fd485026",
   "metadata": {},
   "source": [
    "# PubChem repurposed molecules"
   ]
  },
  {
   "cell_type": "markdown",
   "id": "012d41df",
   "metadata": {},
   "source": [
    "## Imports"
   ]
  },
  {
   "cell_type": "code",
   "execution_count": null,
   "outputs": [],
   "source": [
    "import pandas as pd\n",
    "from pandas import DataFrame\n",
    "import os\n",
    "\n",
    "from ensemble import Ensemble\n",
    "\n",
    "from deepsweet_models import DeepSweetTextCNN\n",
    "from deepsweet_utils import PipelineUtils\n",
    "from deepchem.data import NumpyDataset\n",
    "from standardizer.CustomStandardizer import CustomStandardizer\n",
    "import numpy as np\n",
    "\n",
    "from deepsweet_models import DeepSweetRF, DeepSweetDNN, DeepSweetGCN, DeepSweetSVM, DeepSweetBiLSTM"
   ],
   "metadata": {
    "collapsed": false,
    "pycharm": {
     "name": "#%%\n"
    }
   }
  },
  {
   "cell_type": "markdown",
   "source": [
    "## Apply TextCNN to 60M compounds of pubchem - Filter 1"
   ],
   "metadata": {
    "collapsed": false,
    "pycharm": {
     "name": "#%% md\n"
    }
   }
  },
  {
   "cell_type": "code",
   "execution_count": null,
   "outputs": [],
   "source": [
    "\n",
    "\n",
    "def textcnn_predictor(molecules, ids):\n",
    "    models_folder_path = \"../resources/models\"\n",
    "    dataset = NumpyDataset(molecules, ids=np.array(ids))\n",
    "    standardisation_params = {\n",
    "        'REMOVE_ISOTOPE': True,\n",
    "        'NEUTRALISE_CHARGE': True,\n",
    "        'REMOVE_STEREO': False,\n",
    "        'KEEP_BIGGEST': True,\n",
    "        'ADD_HYDROGEN': False,\n",
    "        'KEKULIZE': True,\n",
    "        'NEUTRALISE_CHARGE_LATE': True}\n",
    "\n",
    "    CustomStandardizer(params=standardisation_params).standardize(dataset)\n",
    "    dataset, _ = PipelineUtils.filter_valid_sequences(models_folder_path, dataset)\n",
    "\n",
    "    textcnn = DeepSweetTextCNN(models_folder_path)\n",
    "    predictions, dataset = textcnn.predict(molecules)\n",
    "\n",
    "    filtered_ids = []\n",
    "    filtered_mols = []\n",
    "    filtered_predictions = []\n",
    "\n",
    "    for i, prediction in enumerate(predictions):\n",
    "\n",
    "        filtered_ids.append(dataset.ids[i])\n",
    "        filtered_mols.append(dataset.mols[i])\n",
    "        filtered_predictions.append(prediction[1])\n",
    "\n",
    "    return filtered_ids, filtered_mols, filtered_predictions"
   ],
   "metadata": {
    "collapsed": false,
    "pycharm": {
     "name": "#%%\n"
    }
   }
  },
  {
   "cell_type": "code",
   "execution_count": null,
   "outputs": [],
   "source": [
    "df = DataFrame(columns=[\"cid\",\"smiles\", \"predictions\"])\n",
    "\n",
    "# OPEN THE WHOLE PUBCHEM - IT HAS TO ALLOCATE AROUND 7GB OF MEMORY\n",
    "# the file was obtained from ftp://ftp.ncbi.nlm.nih.gov/pubchem/Compound/Extras/CID-SMILES.gz\n",
    "pubchem = pd.read_csv(\"CID-SMILES\",header=None, sep=\"\\t\")\n",
    "pubchem.columns = [\"cid\",\"smiles\"]\n",
    "pubchem = pubchem.iloc[:60000000,:]"
   ],
   "metadata": {
    "collapsed": false,
    "pycharm": {
     "name": "#%%\n"
    }
   }
  },
  {
   "cell_type": "code",
   "execution_count": null,
   "outputs": [],
   "source": [
    "import warnings\n",
    "\n",
    "warnings.filterwarnings('ignore')\n",
    "\n",
    "division = pubchem.shape[0] // 10000\n",
    "last_id = 0\n",
    "output_file_path = \"../resources/data/predicted_molecules_TextCNN_80.csv\"\n",
    "if os.path.exists(output_file_path):\n",
    "    df_all = pd.read_csv(output_file_path)\n",
    "    last_id = max(df_all[\"cid\"])\n",
    "    last_id = int(pubchem.loc[pubchem[\"cid\"] == last_id].iloc[0].name)\n",
    "else:\n",
    "    last_id = 0\n",
    "    df_all = None\n",
    "\n",
    "print(last_id)\n",
    "for i in range(last_id+division,pubchem.shape[0],division):\n",
    "    split_pubchem = pubchem.iloc[last_id:i,:]\n",
    "    filtered_ids, filtered_mols, filtered_predictions = \\\n",
    "        textcnn_predictor(list(split_pubchem[\"smiles\"].values),list(split_pubchem[\"cid\"].values))\n",
    "    df = DataFrame(columns=[\"cid\",\"smiles\", \"predictions\"])\n",
    "    df[\"cid\"] = filtered_ids\n",
    "    df[\"smiles\"] = filtered_mols\n",
    "    df[\"predictions\"] = filtered_predictions\n",
    "\n",
    "    if os.path.exists(\"predicted_molecules_TextCNN.csv\"):\n",
    "        df_all = pd.read_csv(\"predicted_molecules_TextCNN.csv\")\n",
    "        df_all = df_all.append(df)\n",
    "\n",
    "    else:\n",
    "        df_all = df\n",
    "\n",
    "    df_all.to_csv(output_file_path, index=False)\n",
    "    last_id+=division\n"
   ],
   "metadata": {
    "collapsed": false,
    "pycharm": {
     "name": "#%%\n"
    }
   }
  },
  {
   "cell_type": "markdown",
   "source": [
    "## Run Filter 2 - ensemble"
   ],
   "metadata": {
    "collapsed": false,
    "pycharm": {
     "name": "#%% md\n"
    }
   }
  },
  {
   "cell_type": "code",
   "execution_count": null,
   "outputs": [],
   "source": [
    "\n",
    "\n",
    "def predict_with_ensemble(molecules, ids):\n",
    "\n",
    "    models_folder_path = \"../resources/models\"\n",
    "    list_of_models = []\n",
    "    list_of_models.append(DeepSweetRF(models_folder_path, \"2d\", \"SelectFromModelFS\"))\n",
    "    list_of_models.append(DeepSweetDNN(models_folder_path, \"rdk\", \"all\"))\n",
    "    list_of_models.append(DeepSweetGCN(models_folder_path))\n",
    "    list_of_models.append(DeepSweetSVM(models_folder_path, \"ecfp4\", \"all\"))\n",
    "    list_of_models.append(DeepSweetDNN(models_folder_path, \"atompair_fp\", \"SelectFromModelFS\"))\n",
    "    list_of_models.append(DeepSweetBiLSTM(models_folder_path))\n",
    "\n",
    "    ensemble = Ensemble(list_of_models, models_folder_path)\n",
    "\n",
    "    predictions, dataset, _ = ensemble.predict(molecules, ids)\n",
    "\n",
    "    filtered_ids = []\n",
    "    filtered_mols = []\n",
    "    filtered_predictions = []\n",
    "\n",
    "    for i, prediction in enumerate(predictions):\n",
    "\n",
    "        if prediction > 0.5:\n",
    "            filtered_ids.append(dataset.ids[i])\n",
    "            filtered_mols.append(dataset.mols[i])\n",
    "            filtered_predictions.append(prediction)\n",
    "\n",
    "    return filtered_ids, filtered_mols, filtered_predictions"
   ],
   "metadata": {
    "collapsed": false,
    "pycharm": {
     "name": "#%%\n"
    }
   }
  },
  {
   "cell_type": "code",
   "execution_count": 112,
   "id": "6268ea63",
   "metadata": {},
   "outputs": [],
   "source": [
    "text_cnn_predictions = pd.read_csv(\"../resources/data/predicted_molecules_TextCNN.csv\")"
   ]
  },
  {
   "cell_type": "code",
   "execution_count": 116,
   "id": "857851bd",
   "metadata": {
    "scrolled": true,
    "pycharm": {
     "name": "#%%\n"
    }
   },
   "outputs": [
    {
     "name": "stdout",
     "output_type": "stream",
     "text": [
      "15460\n",
      "29337844\n",
      "1546071\n"
     ]
    }
   ],
   "source": [
    "from pandas import DataFrame\n",
    "\n",
    "division = text_cnn_predictions.shape[0] // 100\n",
    "last_id = 0\n",
    "print(division)\n",
    "if os.path.exists(\"../resources/data/predicted_molecules_ensemble.csv\"):\n",
    "    df_all = pd.read_csv(\"../resources/data/predicted_molecules_ensemble.csv\")\n",
    "    last_id = max(df_all[\"cid\"])\n",
    "    last_id = int(text_cnn_predictions[text_cnn_predictions[\"cid\"] == last_id].iloc[0].name)\n",
    "else:\n",
    "    last_id = 0\n",
    "    df_all = None\n",
    "    \n",
    "for i in range(last_id+division,text_cnn_predictions.shape[0],division):\n",
    "    split_text_cnn_predictions = text_cnn_predictions.iloc[last_id:i,:]\n",
    "    filtered_ids, filtered_mols, filtered_predictions = \\\n",
    "        predict_with_ensemble(list(split_text_cnn_predictions[\"smiles\"].values),list(split_text_cnn_predictions[\"cid\"].values))\n",
    "\n",
    "    df = DataFrame(columns=[\"cid\",\"smiles\", \"predictions\"])\n",
    "    df[\"cid\"] = filtered_ids\n",
    "    df[\"smiles\"] = filtered_mols\n",
    "    df[\"predictions\"] = filtered_predictions\n",
    "    \n",
    "    if os.path.exists(\"../resources/data/predicted_molecules_ensemble.csv\"):\n",
    "        df_all = pd.read_csv(\"../resources/data/predicted_molecules_ensemble.csv\")\n",
    "        df_all = df_all.append(df)\n",
    "        \n",
    "    else:\n",
    "        df_all = df\n",
    "    \n",
    "    df_all.to_csv(f\"../resources/data/predicted_molecules_ensemble.csv\", index=False)\n",
    "    last_id+=division"
   ]
  }
 ],
 "metadata": {
  "kernelspec": {
   "display_name": "Python 3 (ipykernel)",
   "language": "python",
   "name": "python3"
  },
  "language_info": {
   "codemirror_mode": {
    "name": "ipython",
    "version": 3
   },
   "file_extension": ".py",
   "mimetype": "text/x-python",
   "name": "python",
   "nbconvert_exporter": "python",
   "pygments_lexer": "ipython3",
   "version": "3.7.12"
  }
 },
 "nbformat": 4,
 "nbformat_minor": 5
}