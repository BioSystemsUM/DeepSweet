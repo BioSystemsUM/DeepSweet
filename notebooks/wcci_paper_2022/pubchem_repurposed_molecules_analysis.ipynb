{
 "cells": [
  {
   "cell_type": "markdown",
   "id": "6e783f2c",
   "metadata": {},
   "source": [
    "## Imports "
   ]
  },
  {
   "cell_type": "code",
   "execution_count": 1,
   "id": "0a669983",
   "metadata": {},
   "outputs": [],
   "source": [
    "\n",
    "import tensorflow as tf\n",
    "\n",
    "import numpy as np\n",
    "import random\n",
    "\n",
    "from rdkit import RDLogger\n",
    "\n",
    "import warnings\n",
    "\n",
    "from rdkit.Chem import MolFromSmiles\n",
    "\n",
    "\n",
    "import pandas as pd\n",
    "\n",
    "RDLogger.DisableLog('rdApp.*')"
   ]
  },
  {
   "cell_type": "code",
   "execution_count": 19,
   "id": "1f6d8d6f",
   "metadata": {},
   "outputs": [],
   "source": [
    "full_dataset = pd.read_csv(\"sweeteness_dataset_v3_1.csv\")\n",
    "negative_dataset = full_dataset[full_dataset[\"sweet\"]==0]\n",
    "full_dataset = full_dataset[full_dataset[\"sweet\"]==1]\n",
    "pubchem_ids = []\n",
    "for ids in full_dataset[\"database_references\"]:\n",
    "    if isinstance(ids, str):\n",
    "        list_of_ids = ids.split(\" & \")\n",
    "        for id_ in list_of_ids:\n",
    "            try:\n",
    "                pubchem_id = int(id_)\n",
    "                pubchem_ids.append(pubchem_id)\n",
    "            except:\n",
    "                pass\n",
    "\n",
    "\n",
    "df = pd.read_csv(\"pubchem_mols/predicted_molecules_ensemble.csv\")\n",
    "df = df.drop_duplicates(subset=[\"cid\"])\n",
    "ids = []\n",
    "for i,row in df.iterrows():\n",
    "    if row[\"cid\"] not in pubchem_ids:\n",
    "        ids.append(i)\n",
    "df = df.iloc[ids,:]"
   ]
  },
  {
   "cell_type": "code",
   "execution_count": 20,
   "id": "b59dd65b",
   "metadata": {},
   "outputs": [
    {
     "data": {
      "text/plain": [
       "(67724, 3)"
      ]
     },
     "execution_count": 20,
     "metadata": {},
     "output_type": "execute_result"
    }
   ],
   "source": [
    "df.drop_duplicates(\"smiles\").shape"
   ]
  },
  {
   "cell_type": "code",
   "execution_count": 24,
   "id": "37f0a7df",
   "metadata": {},
   "outputs": [],
   "source": [
    "def get_similarity(query_mol, other_molecules):\n",
    "    \n",
    "    query_fp = AllChem.GetMorganFingerprintAsBitVect(MolFromSmiles(query_mol), 2, 2048)\n",
    "    fps = []\n",
    "    \n",
    "    for molecule in other_molecules:\n",
    "        fp = AllChem.GetMorganFingerprintAsBitVect(MolFromSmiles(molecule), 2, 2048)\n",
    "        fps.append(fp)\n",
    "    ids = []\n",
    "    for i,fp in enumerate(fps):\n",
    "        similarity = DataStructs.TanimotoSimilarity(query_fp, fp)\n",
    "        if 1 > similarity > 0.75:\n",
    "            ids.append(i)\n",
    "            \n",
    "    return ids\n",
    "    \n",
    "def get_substructure_match(substructure, molecules):\n",
    "    \n",
    "    ids = []\n",
    "    for i, molecule in enumerate(molecules):\n",
    "        molecule = MolFromSmiles(molecule)\n",
    "        \n",
    "        if molecule.HasSubstructMatch(substructure):\n",
    "            ids.append(i)\n",
    "            \n",
    "    return ids"
   ]
  },
  {
   "cell_type": "markdown",
   "source": [
    "## Get probable sweeteneners similar to aspartame"
   ],
   "metadata": {
    "collapsed": false,
    "pycharm": {
     "name": "#%% md\n"
    }
   }
  },
  {
   "cell_type": "code",
   "execution_count": 355,
   "id": "fe1af84f",
   "metadata": {},
   "outputs": [
    {
     "data": {
      "text/plain": [
       "(26, 3)"
      ]
     },
     "execution_count": 355,
     "metadata": {},
     "output_type": "execute_result"
    }
   ],
   "source": [
    "best_compounds = df.sort_values(by=\"predictions\", ascending=False)\n",
    "ids = get_similarity(\"COC(=O)[C@H](CC1=CC=CC=C1)NC(=O)[C@H](CC(=O)O)N\", best_compounds.smiles.values)\n",
    "best_compounds.iloc[ids,:].drop_duplicates(subset=\"smiles\").shape"
   ]
  },
  {
   "cell_type": "markdown",
   "source": [
    "## Get probable aspartame-derivatives sweeteners"
   ],
   "metadata": {
    "collapsed": false,
    "pycharm": {
     "name": "#%% md\n"
    }
   }
  },
  {
   "cell_type": "code",
   "execution_count": 30,
   "id": "a169ecca",
   "metadata": {},
   "outputs": [
    {
     "data": {
      "text/plain": [
       "199"
      ]
     },
     "execution_count": 30,
     "metadata": {},
     "output_type": "execute_result"
    }
   ],
   "source": [
    "best_compounds = df.sort_values(by=\"predictions\", ascending=False)\n",
    "ids = get_substructure_match(MolFromSmiles(\"COC(=O)[C@H](CC1=CC=CC=C1)NC(=O)[C@H](CC(=O)O)N\"), best_compounds.smiles.values)\n",
    "best_compounds.iloc[ids,:].drop_duplicates(subset=\"smiles\").shape[0]"
   ]
  },
  {
   "cell_type": "markdown",
   "id": "5c9b3052",
   "metadata": {},
   "source": [
    "## Get probable sweeteneners similar to cyclamate\n"
   ]
  },
  {
   "cell_type": "code",
   "execution_count": 250,
   "id": "83f1d5d6",
   "metadata": {},
   "outputs": [
    {
     "data": {
      "text/plain": [
       "(0, 3)"
      ]
     },
     "execution_count": 250,
     "metadata": {},
     "output_type": "execute_result"
    }
   ],
   "source": [
    "best_compounds = df.sort_values(by=\"predictions\", ascending=False)\n",
    "ids = get_similarity(\"C1CCC(CC1)NS(=O)(=O)O\", best_compounds.smiles.values)\n",
    "best_compounds.iloc[ids,:].shape"
   ]
  },
  {
   "cell_type": "markdown",
   "source": [
    "## Get probable cyclamate-derived sweeteners"
   ],
   "metadata": {
    "collapsed": false,
    "pycharm": {
     "name": "#%% md\n"
    }
   }
  },
  {
   "cell_type": "code",
   "execution_count": 27,
   "id": "1d0d1dbb",
   "metadata": {},
   "outputs": [
    {
     "data": {
      "text/plain": [
       "(8, 3)"
      ]
     },
     "execution_count": 27,
     "metadata": {},
     "output_type": "execute_result"
    }
   ],
   "source": [
    "best_compounds = df.sort_values(by=\"predictions\", ascending=False)\n",
    "ids = get_substructure_match(MolFromSmiles(\"C1CCC(CC1)NS(=O)(=O)O\"), best_compounds.smiles.values)\n",
    "best_compounds.iloc[ids,:].drop_duplicates(subset=\"smiles\").shape"
   ]
  },
  {
   "cell_type": "markdown",
   "id": "94f10673",
   "metadata": {},
   "source": [
    "## Acesulfame"
   ]
  },
  {
   "cell_type": "code",
   "execution_count": 330,
   "id": "addea3cd",
   "metadata": {},
   "outputs": [
    {
     "data": {
      "text/plain": [
       "(0, 3)"
      ]
     },
     "execution_count": 330,
     "metadata": {},
     "output_type": "execute_result"
    }
   ],
   "source": [
    "ids = get_similarity(\"CC1=CC(=O)NS(=O)(=O)O1\", best_compounds.smiles.values)\n",
    "best_compounds.iloc[ids,:].shape"
   ]
  },
  {
   "cell_type": "code",
   "execution_count": 28,
   "id": "030109d6",
   "metadata": {},
   "outputs": [
    {
     "data": {
      "text/plain": [
       "(11, 3)"
      ]
     },
     "execution_count": 28,
     "metadata": {},
     "output_type": "execute_result"
    }
   ],
   "source": [
    "ids = get_substructure_match(MolFromSmiles(\"CC1=CC(=O)NS(=O)(=O)O1\"), best_compounds.smiles.values)\n",
    "best_compounds.iloc[ids,:].drop_duplicates(subset=\"smiles\").shape"
   ]
  },
  {
   "cell_type": "markdown",
   "id": "7900409f",
   "metadata": {},
   "source": [
    "## Alitame"
   ]
  },
  {
   "cell_type": "code",
   "execution_count": 332,
   "id": "617d43c3",
   "metadata": {
    "scrolled": true
   },
   "outputs": [
    {
     "data": {
      "text/plain": [
       "(0, 3)"
      ]
     },
     "execution_count": 332,
     "metadata": {},
     "output_type": "execute_result"
    }
   ],
   "source": [
    "ids = get_similarity(\"C[C@H](C(=O)NC1C(SC1(C)C)(C)C)NC(=O)[C@H](CC(=O)O)N\", best_compounds.smiles.values)\n",
    "best_compounds.iloc[ids,:].shape"
   ]
  },
  {
   "cell_type": "code",
   "execution_count": 359,
   "id": "797720af",
   "metadata": {},
   "outputs": [
    {
     "data": {
      "text/plain": [
       "(7, 3)"
      ]
     },
     "execution_count": 359,
     "metadata": {},
     "output_type": "execute_result"
    }
   ],
   "source": [
    "ids = get_substructure_match(MolFromSmiles(\"C[C@H](C(=O)NC1C(SC1(C)C)(C)C)NC(=O)[C@H](CC(=O)O)N\"), best_compounds.smiles.values)\n",
    "best_compounds.iloc[ids,:].drop_duplicates(subset=\"smiles\").shape"
   ]
  },
  {
   "cell_type": "markdown",
   "id": "0d9f9678",
   "metadata": {},
   "source": [
    "## Saccharin"
   ]
  },
  {
   "cell_type": "code",
   "execution_count": 336,
   "id": "3ae57056",
   "metadata": {},
   "outputs": [
    {
     "data": {
      "text/plain": [
       "(1, 3)"
      ]
     },
     "execution_count": 336,
     "metadata": {},
     "output_type": "execute_result"
    }
   ],
   "source": [
    "ids = get_similarity(\"C1=CC=C2C(=C1)C(=O)NS2(=O)=O\", best_compounds.smiles.values)\n",
    "best_compounds.iloc[ids,:].shape"
   ]
  },
  {
   "cell_type": "code",
   "execution_count": 360,
   "id": "1360863a",
   "metadata": {},
   "outputs": [
    {
     "data": {
      "text/plain": [
       "(231, 3)"
      ]
     },
     "execution_count": 360,
     "metadata": {},
     "output_type": "execute_result"
    }
   ],
   "source": [
    "ids = get_substructure_match(MolFromSmiles(\"C1=CC=C2C(=C1)C(=O)NS2(=O)=O\"), best_compounds.smiles.values)\n",
    "best_compounds.iloc[ids,:].drop_duplicates(subset=\"smiles\").shape\n"
   ]
  },
  {
   "cell_type": "markdown",
   "id": "b6e47bd4",
   "metadata": {},
   "source": [
    "## Dulcin"
   ]
  },
  {
   "cell_type": "code",
   "execution_count": 339,
   "id": "ae0f5a0f",
   "metadata": {},
   "outputs": [
    {
     "data": {
      "text/plain": [
       "(0, 3)"
      ]
     },
     "execution_count": 339,
     "metadata": {},
     "output_type": "execute_result"
    }
   ],
   "source": [
    "ids = get_similarity(\"CCOC1=CC=C(C=C1)NC(=O)N\", best_compounds.smiles.values)\n",
    "best_compounds.iloc[ids,:].shape"
   ]
  },
  {
   "cell_type": "code",
   "execution_count": 361,
   "id": "1d736dbc",
   "metadata": {},
   "outputs": [
    {
     "data": {
      "text/plain": [
       "(3, 3)"
      ]
     },
     "execution_count": 361,
     "metadata": {},
     "output_type": "execute_result"
    }
   ],
   "source": [
    "ids = get_substructure_match(MolFromSmiles(\"CCOC1=CC=C(C=C1)NC(=O)N\"), best_compounds.smiles.values)\n",
    "best_compounds.iloc[ids,:].drop_duplicates(subset=\"smiles\").shape"
   ]
  },
  {
   "cell_type": "markdown",
   "id": "fb5b0442",
   "metadata": {},
   "source": [
    "## Guanidines"
   ]
  },
  {
   "cell_type": "code",
   "execution_count": 363,
   "id": "67e8aa9e",
   "metadata": {},
   "outputs": [
    {
     "data": {
      "text/plain": [
       "(28, 3)"
      ]
     },
     "execution_count": 363,
     "metadata": {},
     "output_type": "execute_result"
    }
   ],
   "source": [
    "from rdkit.Chem import MolFromSmarts\n",
    "\n",
    "ids = get_substructure_match(MolFromSmarts(\"C(=N*)(N*)N*\"), best_compounds.smiles.values)\n",
    "best_compounds.iloc[ids,:].drop_duplicates(subset=\"smiles\").shape"
   ]
  },
  {
   "cell_type": "code",
   "execution_count": 364,
   "id": "b55fd52f",
   "metadata": {
    "pycharm": {
     "name": "#%%\n"
    }
   },
   "outputs": [
    {
     "data": {
      "text/html": [
       "<div>\n",
       "<style scoped>\n",
       "    .dataframe tbody tr th:only-of-type {\n",
       "        vertical-align: middle;\n",
       "    }\n",
       "\n",
       "    .dataframe tbody tr th {\n",
       "        vertical-align: top;\n",
       "    }\n",
       "\n",
       "    .dataframe thead th {\n",
       "        text-align: right;\n",
       "    }\n",
       "</style>\n",
       "<table border=\"1\" class=\"dataframe\">\n",
       "  <thead>\n",
       "    <tr style=\"text-align: right;\">\n",
       "      <th></th>\n",
       "      <th>cid</th>\n",
       "      <th>smiles</th>\n",
       "      <th>predictions</th>\n",
       "    </tr>\n",
       "  </thead>\n",
       "  <tbody>\n",
       "    <tr>\n",
       "      <th>23605</th>\n",
       "      <td>13748439</td>\n",
       "      <td>COC(=O)[C@H](CC1=CC=CC=C1)NC(=O)[C@H](CC(=O)O)...</td>\n",
       "      <td>0.879518</td>\n",
       "    </tr>\n",
       "    <tr>\n",
       "      <th>13395</th>\n",
       "      <td>10597302</td>\n",
       "      <td>CCOC(=O)C(CC1=CC=CC=C1)NC(=NC)NS(=O)(=O)C1=CC=...</td>\n",
       "      <td>0.805407</td>\n",
       "    </tr>\n",
       "    <tr>\n",
       "      <th>44916</th>\n",
       "      <td>20716101</td>\n",
       "      <td>CC(C)COC(=O)C1NC(=O)C1CCCN=C(NC(=O)OCC1=CC=CC=...</td>\n",
       "      <td>0.779236</td>\n",
       "    </tr>\n",
       "    <tr>\n",
       "      <th>24846</th>\n",
       "      <td>14230963</td>\n",
       "      <td>N#CC1=CC=C(NC(=NCC(=O)O)NC2CCCCCCC2)C=C1</td>\n",
       "      <td>0.770597</td>\n",
       "    </tr>\n",
       "    <tr>\n",
       "      <th>73075</th>\n",
       "      <td>90989585</td>\n",
       "      <td>CC(C)COC(=O)C1NC(=O)[C@@H]1CCCN=C(NC(=O)OCC1=C...</td>\n",
       "      <td>0.770350</td>\n",
       "    </tr>\n",
       "    <tr>\n",
       "      <th>16345</th>\n",
       "      <td>10962398</td>\n",
       "      <td>COC(=O)[C@H](CCCN=C(NC(=O)OC(C)(C)C)NC(=O)OC(C...</td>\n",
       "      <td>0.760635</td>\n",
       "    </tr>\n",
       "    <tr>\n",
       "      <th>24845</th>\n",
       "      <td>14230962</td>\n",
       "      <td>N#CC1=CC=C(NC(=NCC(=O)O)NC2CCCCCC2)C=C1</td>\n",
       "      <td>0.747387</td>\n",
       "    </tr>\n",
       "    <tr>\n",
       "      <th>24184</th>\n",
       "      <td>13960823</td>\n",
       "      <td>N#CC1=CC=C(NC(=NCC(=O)O)NC2CCCCC2)C=C1</td>\n",
       "      <td>0.739246</td>\n",
       "    </tr>\n",
       "    <tr>\n",
       "      <th>44917</th>\n",
       "      <td>20716114</td>\n",
       "      <td>COC(=O)C1NC(=O)C1(C)CCCN=C(NC(=O)OCC1=CC=CC=C1...</td>\n",
       "      <td>0.659956</td>\n",
       "    </tr>\n",
       "    <tr>\n",
       "      <th>13251</th>\n",
       "      <td>10576667</td>\n",
       "      <td>CCOC(=O)C(CC1=CC=CC=C1)NC(=NCC1=CC=CC=C1)NS(=O...</td>\n",
       "      <td>0.654197</td>\n",
       "    </tr>\n",
       "    <tr>\n",
       "      <th>49</th>\n",
       "      <td>4447</td>\n",
       "      <td>N#CC1=CC=C(NC(=NCC(=O)O)NC(C2=CC=CC=C2)C2=CC=C...</td>\n",
       "      <td>0.649392</td>\n",
       "    </tr>\n",
       "    <tr>\n",
       "      <th>52662</th>\n",
       "      <td>24178600</td>\n",
       "      <td>CC(C)(C)OC(=O)NC(=N[C@@H](CC1=CC=CC=C1)C(=O)NC...</td>\n",
       "      <td>0.644333</td>\n",
       "    </tr>\n",
       "    <tr>\n",
       "      <th>24183</th>\n",
       "      <td>13960822</td>\n",
       "      <td>N#CC1=CC=C(NC(=NCC(=O)O)NCC2CCCCC2)C=C1</td>\n",
       "      <td>0.628668</td>\n",
       "    </tr>\n",
       "    <tr>\n",
       "      <th>24185</th>\n",
       "      <td>13960826</td>\n",
       "      <td>N#CC1=CC=C(NC(=NCC(=O)O)NCCC2=CC=CC=C2)C=C1</td>\n",
       "      <td>0.622268</td>\n",
       "    </tr>\n",
       "    <tr>\n",
       "      <th>59917</th>\n",
       "      <td>85208807</td>\n",
       "      <td>COC(=O)C(CC1=CC=CC=C1)N=C(NC(=O)OC(C)(C)C)NC(=...</td>\n",
       "      <td>0.613016</td>\n",
       "    </tr>\n",
       "    <tr>\n",
       "      <th>24182</th>\n",
       "      <td>13960821</td>\n",
       "      <td>N#CC1=CC=C(NC(=NCC2=CC=CC=C2)NCC(=O)O)C=C1</td>\n",
       "      <td>0.609645</td>\n",
       "    </tr>\n",
       "    <tr>\n",
       "      <th>13586</th>\n",
       "      <td>10622082</td>\n",
       "      <td>COC(=O)[C@H](CC1=CC=CC=C1)N=C(NC(=O)OC(C)(C)C)...</td>\n",
       "      <td>0.607500</td>\n",
       "    </tr>\n",
       "    <tr>\n",
       "      <th>11281</th>\n",
       "      <td>10217956</td>\n",
       "      <td>C=CCOC(=O)NC(=NC(CC(C)CC)C(=O)NC1C(=O)COC1CC1=...</td>\n",
       "      <td>0.603624</td>\n",
       "    </tr>\n",
       "    <tr>\n",
       "      <th>16018</th>\n",
       "      <td>10928505</td>\n",
       "      <td>O=C(NC(=O)OCC1=CC=CC=C1)NC(=NC1CCCCC1)NC(=O)OC...</td>\n",
       "      <td>0.565992</td>\n",
       "    </tr>\n",
       "    <tr>\n",
       "      <th>26698</th>\n",
       "      <td>15311264</td>\n",
       "      <td>CC(C)(C)OC(=O)NC(=NC(CC1=CC=CC=C1)C(=O)OCC1=CC...</td>\n",
       "      <td>0.558221</td>\n",
       "    </tr>\n",
       "    <tr>\n",
       "      <th>20297</th>\n",
       "      <td>11711970</td>\n",
       "      <td>CC(C)(CCC(=O)N[C@H](CC1=CC=CC=C1)C(=O)NCCCCNC1...</td>\n",
       "      <td>0.548983</td>\n",
       "    </tr>\n",
       "    <tr>\n",
       "      <th>25717</th>\n",
       "      <td>14621541</td>\n",
       "      <td>N#CC1=CC=C(NC(=NCC(=O)O)NS(=O)(=O)C2=CC=CC=C2)...</td>\n",
       "      <td>0.547878</td>\n",
       "    </tr>\n",
       "    <tr>\n",
       "      <th>27520</th>\n",
       "      <td>15885778</td>\n",
       "      <td>COC(=O)[C@@H](N)CCCN=C(NC(=O)OCC1=CC=CC=C1)NC(...</td>\n",
       "      <td>0.546379</td>\n",
       "    </tr>\n",
       "    <tr>\n",
       "      <th>24847</th>\n",
       "      <td>14230964</td>\n",
       "      <td>N#CC1=CC=C(NC(=NCC(=O)O)NC2CCC3=C2C=CC=C3)C=C1</td>\n",
       "      <td>0.544789</td>\n",
       "    </tr>\n",
       "    <tr>\n",
       "      <th>44915</th>\n",
       "      <td>20716057</td>\n",
       "      <td>CNC(=O)C1NC(=O)C1CCCN=C(NC(=O)OCC1=CC=CC=C1)NC...</td>\n",
       "      <td>0.542348</td>\n",
       "    </tr>\n",
       "    <tr>\n",
       "      <th>14151</th>\n",
       "      <td>10693670</td>\n",
       "      <td>N#CC1=CC=C(NC(=NCC(=O)O)NC(C2=CC=CC=C2)C2=CC=C...</td>\n",
       "      <td>0.524750</td>\n",
       "    </tr>\n",
       "    <tr>\n",
       "      <th>44914</th>\n",
       "      <td>20716040</td>\n",
       "      <td>CC(=O)C1NC(=O)C1CCCN=C(NC(=O)OCC1=CC=CC=C1)NC(...</td>\n",
       "      <td>0.517392</td>\n",
       "    </tr>\n",
       "    <tr>\n",
       "      <th>57128</th>\n",
       "      <td>44302747</td>\n",
       "      <td>CC(C)(C)C(=O)OCOC(=O)NC(=NCC1=CC=CC=C1)NC(=O)O...</td>\n",
       "      <td>0.506403</td>\n",
       "    </tr>\n",
       "  </tbody>\n",
       "</table>\n",
       "</div>"
      ],
      "text/plain": [
       "            cid                                             smiles  \\\n",
       "23605  13748439  COC(=O)[C@H](CC1=CC=CC=C1)NC(=O)[C@H](CC(=O)O)...   \n",
       "13395  10597302  CCOC(=O)C(CC1=CC=CC=C1)NC(=NC)NS(=O)(=O)C1=CC=...   \n",
       "44916  20716101  CC(C)COC(=O)C1NC(=O)C1CCCN=C(NC(=O)OCC1=CC=CC=...   \n",
       "24846  14230963           N#CC1=CC=C(NC(=NCC(=O)O)NC2CCCCCCC2)C=C1   \n",
       "73075  90989585  CC(C)COC(=O)C1NC(=O)[C@@H]1CCCN=C(NC(=O)OCC1=C...   \n",
       "16345  10962398  COC(=O)[C@H](CCCN=C(NC(=O)OC(C)(C)C)NC(=O)OC(C...   \n",
       "24845  14230962            N#CC1=CC=C(NC(=NCC(=O)O)NC2CCCCCC2)C=C1   \n",
       "24184  13960823             N#CC1=CC=C(NC(=NCC(=O)O)NC2CCCCC2)C=C1   \n",
       "44917  20716114  COC(=O)C1NC(=O)C1(C)CCCN=C(NC(=O)OCC1=CC=CC=C1...   \n",
       "13251  10576667  CCOC(=O)C(CC1=CC=CC=C1)NC(=NCC1=CC=CC=C1)NS(=O...   \n",
       "49         4447  N#CC1=CC=C(NC(=NCC(=O)O)NC(C2=CC=CC=C2)C2=CC=C...   \n",
       "52662  24178600  CC(C)(C)OC(=O)NC(=N[C@@H](CC1=CC=CC=C1)C(=O)NC...   \n",
       "24183  13960822            N#CC1=CC=C(NC(=NCC(=O)O)NCC2CCCCC2)C=C1   \n",
       "24185  13960826        N#CC1=CC=C(NC(=NCC(=O)O)NCCC2=CC=CC=C2)C=C1   \n",
       "59917  85208807  COC(=O)C(CC1=CC=CC=C1)N=C(NC(=O)OC(C)(C)C)NC(=...   \n",
       "24182  13960821         N#CC1=CC=C(NC(=NCC2=CC=CC=C2)NCC(=O)O)C=C1   \n",
       "13586  10622082  COC(=O)[C@H](CC1=CC=CC=C1)N=C(NC(=O)OC(C)(C)C)...   \n",
       "11281  10217956  C=CCOC(=O)NC(=NC(CC(C)CC)C(=O)NC1C(=O)COC1CC1=...   \n",
       "16018  10928505  O=C(NC(=O)OCC1=CC=CC=C1)NC(=NC1CCCCC1)NC(=O)OC...   \n",
       "26698  15311264  CC(C)(C)OC(=O)NC(=NC(CC1=CC=CC=C1)C(=O)OCC1=CC...   \n",
       "20297  11711970  CC(C)(CCC(=O)N[C@H](CC1=CC=CC=C1)C(=O)NCCCCNC1...   \n",
       "25717  14621541  N#CC1=CC=C(NC(=NCC(=O)O)NS(=O)(=O)C2=CC=CC=C2)...   \n",
       "27520  15885778  COC(=O)[C@@H](N)CCCN=C(NC(=O)OCC1=CC=CC=C1)NC(...   \n",
       "24847  14230964     N#CC1=CC=C(NC(=NCC(=O)O)NC2CCC3=C2C=CC=C3)C=C1   \n",
       "44915  20716057  CNC(=O)C1NC(=O)C1CCCN=C(NC(=O)OCC1=CC=CC=C1)NC...   \n",
       "14151  10693670  N#CC1=CC=C(NC(=NCC(=O)O)NC(C2=CC=CC=C2)C2=CC=C...   \n",
       "44914  20716040  CC(=O)C1NC(=O)C1CCCN=C(NC(=O)OCC1=CC=CC=C1)NC(...   \n",
       "57128  44302747  CC(C)(C)C(=O)OCOC(=O)NC(=NCC1=CC=CC=C1)NC(=O)O...   \n",
       "\n",
       "       predictions  \n",
       "23605     0.879518  \n",
       "13395     0.805407  \n",
       "44916     0.779236  \n",
       "24846     0.770597  \n",
       "73075     0.770350  \n",
       "16345     0.760635  \n",
       "24845     0.747387  \n",
       "24184     0.739246  \n",
       "44917     0.659956  \n",
       "13251     0.654197  \n",
       "49        0.649392  \n",
       "52662     0.644333  \n",
       "24183     0.628668  \n",
       "24185     0.622268  \n",
       "59917     0.613016  \n",
       "24182     0.609645  \n",
       "13586     0.607500  \n",
       "11281     0.603624  \n",
       "16018     0.565992  \n",
       "26698     0.558221  \n",
       "20297     0.548983  \n",
       "25717     0.547878  \n",
       "27520     0.546379  \n",
       "24847     0.544789  \n",
       "44915     0.542348  \n",
       "14151     0.524750  \n",
       "44914     0.517392  \n",
       "57128     0.506403  "
      ]
     },
     "execution_count": 364,
     "metadata": {},
     "output_type": "execute_result"
    }
   ],
   "source": [
    "best_compounds.iloc[ids,:].drop_duplicates(subset=\"smiles\")"
   ]
  }
 ],
 "metadata": {
  "kernelspec": {
   "display_name": "Python 3 (ipykernel)",
   "language": "python",
   "name": "python3"
  },
  "language_info": {
   "codemirror_mode": {
    "name": "ipython",
    "version": 3
   },
   "file_extension": ".py",
   "mimetype": "text/x-python",
   "name": "python",
   "nbconvert_exporter": "python",
   "pygments_lexer": "ipython3",
   "version": "3.7.12"
  }
 },
 "nbformat": 4,
 "nbformat_minor": 5
}